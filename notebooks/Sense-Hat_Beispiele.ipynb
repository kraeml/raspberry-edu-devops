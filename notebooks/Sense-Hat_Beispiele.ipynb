{
 "cells": [
  {
   "cell_type": "markdown",
   "metadata": {},
   "source": [
    "# Pi Sense-Hat Beispiele"
   ]
  },
  {
   "cell_type": "code",
   "execution_count": 1,
   "metadata": {},
   "outputs": [
    {
     "name": "stdout",
     "output_type": "stream",
     "text": [
      "ls: Zugriff auf '/home/pi/workspace' nicht möglich: Datei oder Verzeichnis nicht gefunden\r\n"
     ]
    }
   ],
   "source": [
    "!ls ~/workspace || mkdir ~/workspace"
   ]
  },
  {
   "cell_type": "code",
   "execution_count": 2,
   "metadata": {},
   "outputs": [],
   "source": [
    "!sudo usermod -aG input pi"
   ]
  },
  {
   "cell_type": "code",
   "execution_count": 3,
   "metadata": {},
   "outputs": [
    {
     "name": "stdout",
     "output_type": "stream",
     "text": [
      "uid=1000(pi) gid=1000(pi) Gruppen=1000(pi),4(adm),20(dialout),27(sudo),33(www-data),44(video),100(users),106(input),998(docker),999(gpio)\r\n"
     ]
    }
   ],
   "source": [
    "!id"
   ]
  },
  {
   "cell_type": "code",
   "execution_count": 4,
   "metadata": {},
   "outputs": [
    {
     "name": "stdout",
     "output_type": "stream",
     "text": [
      "Capybara.ipynb               PhantomJS Erste Schritte.ipynb\r\n",
      "DevOps Einführung.ipynb      \u001b[0m\u001b[01;34mpictures\u001b[0m/\r\n",
      "Install_RPi_Notebooks.ipynb  Sense-Hat_Beispiele.ipynb\r\n"
     ]
    }
   ],
   "source": [
    "ls"
   ]
  },
  {
   "cell_type": "code",
   "execution_count": 5,
   "metadata": {},
   "outputs": [
    {
     "name": "stdout",
     "output_type": "stream",
     "text": [
      "/home/pi/workspace\n"
     ]
    }
   ],
   "source": [
    "cd ~/workspace"
   ]
  },
  {
   "cell_type": "code",
   "execution_count": 6,
   "metadata": {},
   "outputs": [
    {
     "data": {
      "text/plain": [
       "'/home/pi/workspace'"
      ]
     },
     "execution_count": 6,
     "metadata": {},
     "output_type": "execute_result"
    }
   ],
   "source": [
    "pwd"
   ]
  },
  {
   "cell_type": "code",
   "execution_count": 7,
   "metadata": {},
   "outputs": [
    {
     "name": "stdout",
     "output_type": "stream",
     "text": [
      "ls: Zugriff auf 'python-sense-hat' nicht möglich: Datei oder Verzeichnis nicht gefunden\n",
      "Klone nach 'python-sense-hat' ...\n",
      "remote: Counting objects: 574, done.\u001b[K\n",
      "remote: Total 574 (delta 0), reused 0 (delta 0), pack-reused 574\u001b[K\n",
      "Empfange Objekte: 100% (574/574), 118.63 KiB | 0 bytes/s, Fertig.\n",
      "Löse Unterschiede auf: 100% (277/277), Fertig.\n"
     ]
    }
   ],
   "source": [
    "!ls python-sense-hat || git clone https://github.com/RPi-Distro/python-sense-hat.git"
   ]
  },
  {
   "cell_type": "code",
   "execution_count": 8,
   "metadata": {},
   "outputs": [
    {
     "name": "stdout",
     "output_type": "stream",
     "text": [
      "/home/pi/workspace/python-sense-hat/examples\n"
     ]
    }
   ],
   "source": [
    "cd ~/workspace/python-sense-hat/examples/"
   ]
  },
  {
   "cell_type": "code",
   "execution_count": 9,
   "metadata": {},
   "outputs": [
    {
     "name": "stdout",
     "output_type": "stream",
     "text": [
      "\u001b[0m\u001b[01;32mcolour_cycle.py\u001b[0m*   \u001b[01;32mpygame_joystick.py\u001b[0m*  \u001b[01;32mrotation.py\u001b[0m*       \u001b[01;32mtext_scroll.py\u001b[0m*\r\n",
      "\u001b[01;32mcompass.py\u001b[0m*        \u001b[01;32mrainbow.py\u001b[0m*          space_invader.png\r\n",
      "evdev_joystick.py  README.md            \u001b[01;32mspace_invader.py\u001b[0m*\r\n"
     ]
    }
   ],
   "source": [
    "ls"
   ]
  },
  {
   "cell_type": "code",
   "execution_count": null,
   "metadata": {},
   "outputs": [],
   "source": [
    "# %load colour_cycle.py\n",
    "#!/usr/bin/python\n",
    "import time\n",
    "from sense_hat import SenseHat\n",
    "\n",
    "sense = SenseHat()\n",
    "\n",
    "r = 255\n",
    "g = 0\n",
    "b = 0\n",
    "\n",
    "msleep = lambda x: time.sleep(x / 1000.0)\n",
    "\n",
    "\n",
    "def next_colour():\n",
    "    global r\n",
    "    global g\n",
    "    global b\n",
    "\n",
    "    if (r == 255 and g < 255 and b == 0):\n",
    "        g += 1\n",
    "\n",
    "    if (g == 255 and r > 0 and b == 0):\n",
    "        r -= 1\n",
    "\n",
    "    if (g == 255 and b < 255 and r == 0):\n",
    "        b += 1\n",
    "\n",
    "    if (b == 255 and g > 0 and r == 0):\n",
    "        g -= 1\n",
    "\n",
    "    if (b == 255 and r < 255 and g == 0):\n",
    "        r += 1\n",
    "\n",
    "    if (r == 255 and b > 0 and g == 0):\n",
    "        b -= 1\n",
    "\n",
    "while True:\n",
    "    sense.clear([r, g, b])\n",
    "    msleep(2)\n",
    "    next_colour()\n"
   ]
  },
  {
   "cell_type": "code",
   "execution_count": null,
   "metadata": {},
   "outputs": [],
   "source": []
  }
 ],
 "metadata": {
  "kernelspec": {
   "display_name": "Python 3",
   "language": "python",
   "name": "python3"
  },
  "language_info": {
   "codemirror_mode": {
    "name": "ipython",
    "version": 3
   },
   "file_extension": ".py",
   "mimetype": "text/x-python",
   "name": "python",
   "nbconvert_exporter": "python",
   "pygments_lexer": "ipython3",
   "version": "3.6.3"
  }
 },
 "nbformat": 4,
 "nbformat_minor": 2
}
