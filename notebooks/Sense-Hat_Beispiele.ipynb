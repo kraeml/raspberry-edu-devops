{
 "cells": [
  {
   "cell_type": "markdown",
   "metadata": {
    "slideshow": {
     "slide_type": "slide"
    }
   },
   "source": [
    "# Pi Sense-Hat Beispiele\n",
    "\n",
    "Zunächst wird das Verzeichnis `workspace` neu angelegt. Falls es schon existiert, dann wird es samt Inhalt gelöscht."
   ]
  },
  {
   "cell_type": "code",
   "execution_count": 1,
   "metadata": {
    "slideshow": {
     "slide_type": "fragment"
    }
   },
   "outputs": [],
   "source": [
    "!(rm -rf ~/workspace && mkdir ~/workspace) || mkdir ~/workspace"
   ]
  },
  {
   "cell_type": "code",
   "execution_count": 2,
   "metadata": {
    "slideshow": {
     "slide_type": "fragment"
    }
   },
   "outputs": [
    {
     "name": "stdout",
     "output_type": "stream",
     "text": [
      "/home/pi/workspace\r\n",
      "\r\n",
      "0 directories, 0 files\r\n"
     ]
    }
   ],
   "source": [
    "!tree ~/workspace"
   ]
  },
  {
   "cell_type": "markdown",
   "metadata": {
    "slideshow": {
     "slide_type": "slide"
    }
   },
   "source": [
    "## Benutzer und Gruppe\n",
    "\n",
    "Ist der Benutzer nicht in der Gruppe `input`, dann wird dieser in der Gruppe `input` eingefügt."
   ]
  },
  {
   "cell_type": "code",
   "execution_count": 3,
   "metadata": {
    "slideshow": {
     "slide_type": "fragment"
    }
   },
   "outputs": [
    {
     "name": "stdout",
     "output_type": "stream",
     "text": [
      "User in Gruppe input\r\n"
     ]
    }
   ],
   "source": [
    "!if (id | grep input &>1) ; then echo User in Gruppe input; else sudo usermod -aG input pi; fi"
   ]
  },
  {
   "cell_type": "markdown",
   "metadata": {
    "slideshow": {
     "slide_type": "slide"
    }
   },
   "source": [
    "## Beispiele klonen"
   ]
  },
  {
   "cell_type": "code",
   "execution_count": 4,
   "metadata": {
    "slideshow": {
     "slide_type": "fragment"
    }
   },
   "outputs": [
    {
     "name": "stdout",
     "output_type": "stream",
     "text": [
      "/home/pi/workspace\n"
     ]
    }
   ],
   "source": [
    "cd ~/workspace"
   ]
  },
  {
   "cell_type": "code",
   "execution_count": 5,
   "metadata": {
    "slideshow": {
     "slide_type": "skip"
    }
   },
   "outputs": [
    {
     "data": {
      "text/plain": [
       "'/home/pi/workspace'"
      ]
     },
     "execution_count": 5,
     "metadata": {},
     "output_type": "execute_result"
    }
   ],
   "source": [
    "pwd"
   ]
  },
  {
   "cell_type": "markdown",
   "metadata": {
    "slideshow": {
     "slide_type": "fragment"
    }
   },
   "source": [
    "Falls es den Ordner python-sense-hat nicht gibt, dann wird das Projekt `python-sense-hat` geklont."
   ]
  },
  {
   "cell_type": "code",
   "execution_count": 6,
   "metadata": {
    "slideshow": {
     "slide_type": "fragment"
    }
   },
   "outputs": [
    {
     "name": "stdout",
     "output_type": "stream",
     "text": [
      "ls: Zugriff auf 'python-sense-hat' nicht möglich: Datei oder Verzeichnis nicht gefunden\n",
      "Klone nach 'python-sense-hat' ...\n",
      "remote: Counting objects: 574, done.\u001b[K\n",
      "remote: Total 574 (delta 0), reused 0 (delta 0), pack-reused 574\u001b[K\n",
      "Empfange Objekte: 100% (574/574), 118.63 KiB | 0 bytes/s, Fertig.\n",
      "Löse Unterschiede auf: 100% (277/277), Fertig.\n"
     ]
    }
   ],
   "source": [
    "!ls python-sense-hat || git clone https://github.com/RPi-Distro/python-sense-hat.git"
   ]
  },
  {
   "cell_type": "markdown",
   "metadata": {
    "slideshow": {
     "slide_type": "slide"
    }
   },
   "source": [
    "## Die Beispiele\n",
    "\n",
    "In das Verzeichnis der Beipiele wechseln."
   ]
  },
  {
   "cell_type": "code",
   "execution_count": 7,
   "metadata": {
    "slideshow": {
     "slide_type": "fragment"
    }
   },
   "outputs": [
    {
     "name": "stdout",
     "output_type": "stream",
     "text": [
      "/home/pi/workspace/python-sense-hat/examples\n"
     ]
    }
   ],
   "source": [
    "cd ~/workspace/python-sense-hat/examples/"
   ]
  },
  {
   "cell_type": "code",
   "execution_count": 9,
   "metadata": {
    "slideshow": {
     "slide_type": "fragment"
    }
   },
   "outputs": [
    {
     "name": "stdout",
     "output_type": "stream",
     "text": [
      "colour_cycle.py    pygame_joystick.py  rotation.py\t  text_scroll.py\r\n",
      "compass.py\t   rainbow.py\t       space_invader.png\r\n",
      "evdev_joystick.py  README.md\t       space_invader.py\r\n"
     ]
    }
   ],
   "source": [
    "!ls"
   ]
  },
  {
   "cell_type": "markdown",
   "metadata": {
    "slideshow": {
     "slide_type": "slide"
    }
   },
   "source": [
    "### Colour Cycle\n",
    "\n",
    "Das Beispiel wird geladen und mit einem erneuten Umschalt + Enter wird diese ausgeführt.\n",
    "\n",
    "Achtung: Mit dem Memü Kernel/Interrupt kann die Ausführung abgebrochen werden."
   ]
  },
  {
   "cell_type": "code",
   "execution_count": 11,
   "metadata": {
    "slideshow": {
     "slide_type": "subslide"
    }
   },
   "outputs": [
    {
     "ename": "KeyboardInterrupt",
     "evalue": "",
     "output_type": "error",
     "traceback": [
      "\u001b[0;31m---------------------------------------------------------------------------\u001b[0m",
      "\u001b[0;31mKeyboardInterrupt\u001b[0m                         Traceback (most recent call last)",
      "\u001b[0;32m<ipython-input-11-2d88b303ea04>\u001b[0m in \u001b[0;36m<module>\u001b[0;34m()\u001b[0m\n\u001b[1;32m     38\u001b[0m \u001b[0;32mwhile\u001b[0m \u001b[0;32mTrue\u001b[0m\u001b[0;34m:\u001b[0m\u001b[0;34m\u001b[0m\u001b[0m\n\u001b[1;32m     39\u001b[0m     \u001b[0msense\u001b[0m\u001b[0;34m.\u001b[0m\u001b[0mclear\u001b[0m\u001b[0;34m(\u001b[0m\u001b[0;34m[\u001b[0m\u001b[0mr\u001b[0m\u001b[0;34m,\u001b[0m \u001b[0mg\u001b[0m\u001b[0;34m,\u001b[0m \u001b[0mb\u001b[0m\u001b[0;34m]\u001b[0m\u001b[0;34m)\u001b[0m\u001b[0;34m\u001b[0m\u001b[0m\n\u001b[0;32m---> 40\u001b[0;31m     \u001b[0mmsleep\u001b[0m\u001b[0;34m(\u001b[0m\u001b[0;36m2\u001b[0m\u001b[0;34m)\u001b[0m\u001b[0;34m\u001b[0m\u001b[0m\n\u001b[0m\u001b[1;32m     41\u001b[0m     \u001b[0mnext_colour\u001b[0m\u001b[0;34m(\u001b[0m\u001b[0;34m)\u001b[0m\u001b[0;34m\u001b[0m\u001b[0m\n",
      "\u001b[0;32m<ipython-input-11-2d88b303ea04>\u001b[0m in \u001b[0;36m<lambda>\u001b[0;34m(x)\u001b[0m\n\u001b[1;32m     10\u001b[0m \u001b[0mb\u001b[0m \u001b[0;34m=\u001b[0m \u001b[0;36m0\u001b[0m\u001b[0;34m\u001b[0m\u001b[0m\n\u001b[1;32m     11\u001b[0m \u001b[0;34m\u001b[0m\u001b[0m\n\u001b[0;32m---> 12\u001b[0;31m \u001b[0mmsleep\u001b[0m \u001b[0;34m=\u001b[0m \u001b[0;32mlambda\u001b[0m \u001b[0mx\u001b[0m\u001b[0;34m:\u001b[0m \u001b[0mtime\u001b[0m\u001b[0;34m.\u001b[0m\u001b[0msleep\u001b[0m\u001b[0;34m(\u001b[0m\u001b[0mx\u001b[0m \u001b[0;34m/\u001b[0m \u001b[0;36m1000.0\u001b[0m\u001b[0;34m)\u001b[0m\u001b[0;34m\u001b[0m\u001b[0m\n\u001b[0m\u001b[1;32m     13\u001b[0m \u001b[0;34m\u001b[0m\u001b[0m\n\u001b[1;32m     14\u001b[0m \u001b[0;34m\u001b[0m\u001b[0m\n",
      "\u001b[0;31mKeyboardInterrupt\u001b[0m: "
     ]
    }
   ],
   "source": [
    "# %load colour_cycle.py\n",
    "#!/usr/bin/python\n",
    "import time\n",
    "from sense_hat import SenseHat\n",
    "\n",
    "sense = SenseHat()\n",
    "\n",
    "r = 255\n",
    "g = 0\n",
    "b = 0\n",
    "\n",
    "msleep = lambda x: time.sleep(x / 1000.0)\n",
    "\n",
    "\n",
    "def next_colour():\n",
    "    global r\n",
    "    global g\n",
    "    global b\n",
    "\n",
    "    if (r == 255 and g < 255 and b == 0):\n",
    "        g += 1\n",
    "\n",
    "    if (g == 255 and r > 0 and b == 0):\n",
    "        r -= 1\n",
    "\n",
    "    if (g == 255 and b < 255 and r == 0):\n",
    "        b += 1\n",
    "\n",
    "    if (b == 255 and g > 0 and r == 0):\n",
    "        g -= 1\n",
    "\n",
    "    if (b == 255 and r < 255 and g == 0):\n",
    "        r += 1\n",
    "\n",
    "    if (r == 255 and b > 0 and g == 0):\n",
    "        b -= 1\n",
    "\n",
    "while True:\n",
    "    sense.clear([r, g, b])\n",
    "    msleep(2)\n",
    "    next_colour()\n"
   ]
  },
  {
   "cell_type": "code",
   "execution_count": null,
   "metadata": {},
   "outputs": [],
   "source": []
  }
 ],
 "metadata": {
  "celltoolbar": "Slideshow",
  "kernelspec": {
   "display_name": "Python 3",
   "language": "python",
   "name": "python3"
  },
  "language_info": {
   "codemirror_mode": {
    "name": "ipython",
    "version": 3
   },
   "file_extension": ".py",
   "mimetype": "text/x-python",
   "name": "python",
   "nbconvert_exporter": "python",
   "pygments_lexer": "ipython3",
   "version": "3.6.3"
  }
 },
 "nbformat": 4,
 "nbformat_minor": 2
}
