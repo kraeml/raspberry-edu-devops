{
 "cells": [
  {
   "cell_type": "code",
   "execution_count": 1,
   "metadata": {},
   "outputs": [
    {
     "name": "stdout",
     "output_type": "stream",
     "text": [
      "Usage: roscore [options]\n",
      "\n",
      "roscore will start up a ROS Master, a ROS Parameter Server and a rosout\n",
      "logging node\n",
      "\n",
      "Options:\n",
      "  -h, --help            show this help message and exit\n",
      "  -p PORT, --port=PORT  master port. Only valid if master is launched\n",
      "  -v                    verbose printing\n",
      "  -w NUM_WORKERS, --numworkers=NUM_WORKERS\n",
      "                        override number of worker threads\n",
      "  -t TIMEOUT, --timeout=TIMEOUT\n",
      "                        override the socket connection timeout (in seconds).\n",
      "  --master-logger-level=MASTER_LOGGER_LEVEL\n",
      "                        set rosmaster.master logger level ('debug', 'info',\n",
      "                        'warn', 'error', 'fatal')\n",
      "\n",
      "See http://www.ros.org/wiki/roscore\n"
     ]
    }
   ],
   "source": [
    "roscore --help"
   ]
  },
  {
   "cell_type": "code",
   "execution_count": 2,
   "metadata": {},
   "outputs": [
    {
     "name": "stdout",
     "output_type": "stream",
     "text": [
      "melodic\n"
     ]
    }
   ],
   "source": [
    "rosversion -d"
   ]
  },
  {
   "cell_type": "code",
   "execution_count": 3,
   "metadata": {},
   "outputs": [
    {
     "name": "stdout",
     "output_type": "stream",
     "text": [
      "usage: rosversion [-h] [-s] [-d] [package]\n",
      "\n",
      "rosversion -d: Output the version of the given package\n",
      "rosversion package: Output the ROS distribution name\n",
      "\n",
      "positional arguments:\n",
      "  package             The ROS package name (e.g. 'roscpp')\n",
      "\n",
      "optional arguments:\n",
      "  -h, --help          show this help message and exit\n",
      "  -s, --skip-newline  Skip trailing newline\n",
      "  -d, --distro        Output the ROS distribution name\n"
     ]
    }
   ],
   "source": [
    "rosversion --help"
   ]
  },
  {
   "cell_type": "markdown",
   "metadata": {},
   "source": [
    "http://www.ros.org/\n",
    "\n",
    "https://www.openrobotics.org/"
   ]
  },
  {
   "cell_type": "code",
   "execution_count": 6,
   "metadata": {},
   "outputs": [
    {
     "name": "stdout",
     "output_type": "stream",
     "text": [
      "reading in sources list data from /etc/ros/rosdep/sources.list.d\n",
      "Hit https://raw.githubusercontent.com/ros/rosdistro/master/rosdep/osx-homebrew.yaml\n",
      "Hit https://raw.githubusercontent.com/ros/rosdistro/master/rosdep/base.yaml\n",
      "Hit https://raw.githubusercontent.com/ros/rosdistro/master/rosdep/python.yaml\n",
      "Hit https://raw.githubusercontent.com/ros/rosdistro/master/rosdep/ruby.yaml\n",
      "Hit https://raw.githubusercontent.com/ros/rosdistro/master/releases/fuerte.yaml\n",
      "Query rosdistro index https://raw.githubusercontent.com/ros/rosdistro/master/index-v4.yaml\n",
      "Skip end-of-life distro \"ardent\"\n",
      "Skip end-of-life distro \"bouncy\"\n",
      "Skip end-of-life distro \"crystal\"\n",
      "Add distro \"dashing\"\n",
      "Add distro \"eloquent\"\n",
      "Add distro \"foxy\"\n",
      "Skip end-of-life distro \"groovy\"\n",
      "Skip end-of-life distro \"hydro\"\n",
      "Skip end-of-life distro \"indigo\"\n",
      "Skip end-of-life distro \"jade\"\n",
      "Add distro \"kinetic\"\n",
      "Skip end-of-life distro \"lunar\"\n",
      "Add distro \"melodic\"\n",
      "Add distro \"noetic\"\n",
      "updated cache in /home/pirate/.ros/rosdep/sources.cache\n"
     ]
    }
   ],
   "source": [
    "rosdep update"
   ]
  },
  {
   "cell_type": "code",
   "execution_count": 7,
   "metadata": {},
   "outputs": [
    {
     "name": "stdout",
     "output_type": "stream",
     "text": [
      "... logging to /home/pirate/.ros/log/08f42cf6-4dc9-11ea-beee-b827eb21561f/roslaunch-pi3-romi-23832.log\n",
      "Checking log directory for disk usage. This may take awhile.\n",
      "Press Ctrl-C to interrupt\n",
      "Done checking log file disk usage. Usage is <1GB.\n",
      "\u001b]2;roscore\u0007\n",
      "\u001b[1mstarted roslaunch server http://pi3-romi:35645/\u001b[0m\n",
      "ros_comm version 1.14.3\n",
      "\n",
      "\n",
      "SUMMARY\n",
      "========\n",
      "\n",
      "PARAMETERS\n",
      " * /rosdistro: melodic\n",
      " * /rosversion: 1.14.3\n",
      "\n",
      "NODES\n",
      "\n",
      "auto-starting new master\n",
      "\u001b[1mprocess[master]: started with pid [23900]\u001b[0m\n",
      "\u001b[1mROS_MASTER_URI=http://pi3-romi:11311/\u001b[0m\n",
      "\u001b]2;roscore http://pi3-romi:11311/\u0007\n",
      "\u001b[1msetting /run_id to 08f42cf6-4dc9-11ea-beee-b827eb21561f\u001b[0m\n",
      "\u001b[1mprocess[rosout-1]: started with pid [23913]\u001b[0m\n",
      "started core service [/rosout]\n",
      "[rosout-1] killing on exit\n",
      "[master] killing on exit\n",
      "shutting down processing monitor...\n",
      "... shutting down processing monitor complete\n",
      "\u001b[1mdone\u001b[0m\n"
     ]
    }
   ],
   "source": [
    "roscore"
   ]
  },
  {
   "cell_type": "code",
   "execution_count": 4,
   "metadata": {},
   "outputs": [
    {
     "name": "stdout",
     "output_type": "stream",
     "text": [
      "/opt/ros/melodic/share\n"
     ]
    }
   ],
   "source": [
    "echo $ROS_PACKAGE_PATH"
   ]
  },
  {
   "cell_type": "code",
   "execution_count": 5,
   "metadata": {},
   "outputs": [
    {
     "name": "stdout",
     "output_type": "stream",
     "text": [
      "insgesamt 64K\n",
      " 655469 drwxr-xr-x  2 pirate pirate 4,0K Feb  5 16:04 Bilder\n",
      " 532521 drwxr-xr-x  5 pirate pirate 4,0K Feb 10 12:31 catkin_ws\n",
      "1069031 drwxr-xr-x 15 pirate pirate 4,0K Feb  8 14:53 cloud9\n",
      " 655454 drwxr-xr-x  2 pirate pirate 4,0K Feb  5 00:05 Desktop\n",
      " 655467 drwxr-xr-x  2 pirate pirate 4,0K Feb  5 16:04 Dokumente\n",
      " 655464 drwxr-xr-x  2 pirate pirate 4,0K Feb  5 16:04 Downloads\n",
      " 526240 drwxr-xr-x  2 pirate pirate 4,0K Feb  5 00:00 MagPi\n",
      " 655468 drwxr-xr-x  2 pirate pirate 4,0K Feb  5 16:04 Musik\n",
      " 790394 drwxr-xr-x  2 pirate pirate 4,0K Feb  5 22:34 notebooks\n",
      " 655466 drwxr-xr-x  2 pirate pirate 4,0K Feb  5 16:04 Öffentlich\n",
      " 532409 drwxr-xr-x  6 pirate pirate 4,0K Feb 10 11:12 pololu-rpi-slave-arduino-library\n",
      "1063334 drwxr-xr-x  6 pirate pirate 4,0K Feb  8 14:10 ros_catkin_ws\n",
      " 531589 drwxr-xr-t  2 pirate pirate 4,0K Feb 10 11:06 thinclient_drives\n",
      " 655470 drwxr-xr-x  2 pirate pirate 4,0K Feb  5 16:04 Videos\n",
      " 655465 drwxr-xr-x  2 pirate pirate 4,0K Feb  5 16:04 Vorlagen\n",
      "1068408 drwxr-xr-x  2 pirate pirate 4,0K Feb  8 14:39 www\n"
     ]
    }
   ],
   "source": [
    "cd\n",
    "ls -lchi"
   ]
  },
  {
   "cell_type": "code",
   "execution_count": 3,
   "metadata": {},
   "outputs": [
    {
     "name": "stdout",
     "output_type": "stream",
     "text": [
      "insgesamt 12\n",
      "lrwxrwxrwx  1 pirate pirate   50 Feb 10 12:31 CMakeLists.txt -> /opt/ros/melodic/share/catkin/cmake/toplevel.cmake\n",
      "drwxr-xr-x 20 pirate pirate 4096 Feb 10 12:33 RomiPi\n",
      "drwxr-xr-x  3 pirate pirate 4096 Feb 12 20:31 turtlebot3\n",
      "drwxr-xr-x  4 pirate pirate 4096 Feb 12 20:19 turtlebot3_msgs\n"
     ]
    }
   ],
   "source": [
    "cd ~/catkin_ws/src\n",
    "ls -l\n",
    "source ../devel/setup.bash"
   ]
  },
  {
   "cell_type": "code",
   "execution_count": 2,
   "metadata": {},
   "outputs": [
    {
     "name": "stdout",
     "output_type": "stream",
     "text": [
      "fatal: Zielpfad 'turtlebot3_msgs' existiert bereits und ist kein leeres Verzeichnis.\n",
      "fatal: Zielpfad 'turtlebot3' existiert bereits und ist kein leeres Verzeichnis.\n"
     ]
    },
    {
     "ename": "",
     "evalue": "128",
     "output_type": "error",
     "traceback": []
    }
   ],
   "source": [
    "git clone https://github.com/ROBOTIS-GIT/turtlebot3_msgs.git\n",
    "git clone https://github.com/ROBOTIS-GIT/turtlebot3.git"
   ]
  },
  {
   "cell_type": "code",
   "execution_count": 4,
   "metadata": {},
   "outputs": [
    {
     "name": "stdout",
     "output_type": "stream",
     "text": [
      "Base path: /home/pirate/catkin_ws\n",
      "Source space: /home/pirate/catkin_ws/src\n",
      "Build space: /home/pirate/catkin_ws/build\n",
      "Devel space: /home/pirate/catkin_ws/devel\n",
      "Install space: /home/pirate/catkin_ws/install\n",
      "\u001b[34m####\u001b[0m\n",
      "\u001b[34m#### Running command: \u001b[1m\"make cmake_check_build_system\"\u001b[0m\u001b[34m in \u001b[1m\"/home/pirate/catkin_ws/build\"\u001b[0m\n",
      "\u001b[34m####\u001b[0m\n",
      "-- Using CATKIN_DEVEL_PREFIX: /home/pirate/catkin_ws/devel\n",
      "\u001b[0m-- Using CMAKE_PREFIX_PATH: /home/pirate/catkin_ws/devel;/opt/ros/melodic\n",
      "\u001b[0m-- This workspace overlays: /home/pirate/catkin_ws/devel;/opt/ros/melodic\n",
      "\u001b[0m-- Found PythonInterp: /usr/bin/python2 (found suitable version \"2.7.16\", minimum required is \"2\") \n",
      "\u001b[0m-- Using PYTHON_EXECUTABLE: /usr/bin/python2\n",
      "\u001b[0m-- Using Debian Python package layout\n",
      "\u001b[0m-- Using empy: /usr/bin/empy\n",
      "\u001b[0m-- Using CATKIN_ENABLE_TESTING: ON\n",
      "\u001b[0m-- Call enable_testing()\n",
      "\u001b[0m-- Using CATKIN_TEST_RESULTS_DIR: /home/pirate/catkin_ws/build/test_results\n",
      "\u001b[0m-- Forcing gtest/gmock from source, though one was otherwise available.\n",
      "\u001b[0m-- Found gtest sources under '/usr/src/googletest': gtests will be built\n",
      "\u001b[0m-- Found gmock sources under '/usr/src/googletest': gmock will be built\n",
      "\u001b[0m-- Found PythonInterp: /usr/bin/python2 (found version \"2.7.16\") \n",
      "\u001b[0m-- Using Python nosetests: /usr/bin/nosetests-2.7\n",
      "\u001b[0m-- catkin 0.7.20\n",
      "\u001b[0m-- BUILD_SHARED_LIBS is on\n",
      "\u001b[0m-- BUILD_SHARED_LIBS is on\n",
      "\u001b[0m-- \u001b[35m~~~~~~~~~~~~~~~~~~~~~~~~~~~~~~~~~~~~~~~~~~~~~~~~~\u001b[0m\n",
      "\u001b[0m-- \u001b[35m~~ \u001b[0m traversing 11 packages in topological order:\n",
      "\u001b[0m-- \u001b[35m~~ \u001b[0m - \u001b[1m\u001b[34mromipi_simulations \u001b[0m(metapackage)\n",
      "\u001b[0m-- \u001b[35m~~ \u001b[0m - \u001b[1m\u001b[34mturtlebot3_msgs\n",
      "\u001b[0m-- \u001b[35m~~ \u001b[0m - \u001b[1m\u001b[34mromipi_astar\n",
      "\u001b[0m-- \u001b[35m~~ \u001b[0m - \u001b[1m\u001b[34mromipi_teleop\n",
      "\u001b[0m-- \u001b[35m~~ \u001b[0m - \u001b[1m\u001b[34mromipi_msgs\n",
      "\u001b[0m-- \u001b[35m~~ \u001b[0m - \u001b[1m\u001b[34mromipi_bringup\n",
      "\u001b[0m-- \u001b[35m~~ \u001b[0m - \u001b[1m\u001b[34mromipi_fiducials\n",
      "\u001b[0m-- \u001b[35m~~ \u001b[0m - \u001b[1m\u001b[34mromipi_fake\n",
      "\u001b[0m-- \u001b[35m~~ \u001b[0m - \u001b[1m\u001b[34mromipi_gazebo\n",
      "\u001b[0m-- \u001b[35m~~ \u001b[0m - \u001b[1m\u001b[34mromipi_i2c\n",
      "\u001b[0m-- \u001b[35m~~ \u001b[0m - \u001b[1m\u001b[34mromipi_description\n",
      "\u001b[0m-- \u001b[35m~~~~~~~~~~~~~~~~~~~~~~~~~~~~~~~~~~~~~~~~~~~~~~~~~\u001b[0m\n",
      "\u001b[0m-- \u001b[1m\u001b[32m+++\u001b[0m processing catkin metapackage: 'romipi_simulations\u001b[0m\u001b[0m'\n",
      "\u001b[0m-- \u001b[1m\u001b[34m==>\u001b[0m add_subdirectory(RomiPi/romipi_simulations)\n",
      "\u001b[0m-- \u001b[1m\u001b[32m+++\u001b[0m processing catkin package: '\u001b[1m\u001b[34mturtlebot3_msgs\u001b[0m\u001b[0m'\n",
      "\u001b[0m-- \u001b[1m\u001b[34m==>\u001b[0m add_subdirectory(turtlebot3_msgs)\n",
      "\u001b[0m-- Using these message generators: gencpp;geneus;genlisp;gennodejs;genpy\n",
      "\u001b[0m-- turtlebot3_msgs: 3 messages, 0 services\n",
      "\u001b[0m-- \u001b[1m\u001b[32m+++\u001b[0m processing catkin package: '\u001b[1m\u001b[34mromipi_astar\u001b[0m\u001b[0m'\n",
      "\u001b[0m-- \u001b[1m\u001b[34m==>\u001b[0m add_subdirectory(RomiPi/romipi_astar)\n",
      "\u001b[0m-- \u001b[1m\u001b[32m+++\u001b[0m processing catkin package: '\u001b[1m\u001b[34mromipi_teleop\u001b[0m\u001b[0m'\n",
      "\u001b[0m-- \u001b[1m\u001b[34m==>\u001b[0m add_subdirectory(RomiPi/romipi_teleop)\n",
      "\u001b[0m-- \u001b[1m\u001b[32m+++\u001b[0m processing catkin package: '\u001b[1m\u001b[34mromipi_msgs\u001b[0m\u001b[0m'\n",
      "\u001b[0m-- \u001b[1m\u001b[34m==>\u001b[0m add_subdirectory(RomiPi/romipi_msgs)\n",
      "\u001b[0m-- Using these message generators: gencpp;geneus;genlisp;gennodejs;genpy\n",
      "\u001b[0m-- romipi_msgs: 2 messages, 0 services\n",
      "\u001b[0m-- \u001b[1m\u001b[32m+++\u001b[0m processing catkin package: '\u001b[1m\u001b[34mromipi_bringup\u001b[0m\u001b[0m'\n",
      "\u001b[0m-- \u001b[1m\u001b[34m==>\u001b[0m add_subdirectory(RomiPi/romipi_bringup)\n",
      "\u001b[0m-- \u001b[1m\u001b[32m+++\u001b[0m processing catkin package: '\u001b[1m\u001b[34mromipi_fiducials\u001b[0m\u001b[0m'\n",
      "\u001b[0m-- \u001b[1m\u001b[34m==>\u001b[0m add_subdirectory(RomiPi/romipi_fiducials)\n",
      "\u001b[0m-- Using these message generators: gencpp;geneus;genlisp;gennodejs;genpy\n",
      "\u001b[0m-- romipi_fiducials: 0 messages, 3 services\n",
      "\u001b[0m-- \u001b[1m\u001b[32m+++\u001b[0m processing catkin package: '\u001b[1m\u001b[34mromipi_fake\u001b[0m\u001b[0m'\n",
      "\u001b[0m-- \u001b[1m\u001b[34m==>\u001b[0m add_subdirectory(RomiPi/romipi_fake)\n",
      "\u001b[0m-- Using these message generators: gencpp;geneus;genlisp;gennodejs;genpy\n",
      "\u001b[0m-- \u001b[1m\u001b[32m+++\u001b[0m processing catkin package: '\u001b[1m\u001b[34mromipi_gazebo\u001b[0m\u001b[0m'\n",
      "\u001b[0m-- \u001b[1m\u001b[34m==>\u001b[0m add_subdirectory(RomiPi/romipi_gazebo)\n",
      "\u001b[0m-- Using these message generators: gencpp;geneus;genlisp;gennodejs;genpy\n",
      "\u001b[0m-- Could NOT find gazebo_ros (missing: gazebo_ros_DIR)\n",
      "\u001b[0m-- Could not find the required component 'gazebo_ros'. The following CMake error indicates that you either need to install the package with the same name or change your environment so that it can be found.\n",
      "\u001b[0m\u001b[31m\u001b[1mCMake Error\u001b[0m at /opt/ros/melodic/share/catkin/cmake/catkinConfig.cmake:83 (find_package):\n",
      "\u001b[0m  Could not find a package configuration file provided by \"gazebo_ros\" with\n",
      "\u001b[0m  any of the following names:\n",
      "\u001b[0m\n",
      "\u001b[0m    gazebo_rosConfig.cmake\n",
      "\u001b[0m    gazebo_ros-config.cmake\n",
      "\u001b[0m\n",
      "\u001b[0m  Add the installation prefix of \"gazebo_ros\" to CMAKE_PREFIX_PATH or set\n",
      "\u001b[0m  \"gazebo_ros_DIR\" to a directory containing one of the above files.  If\n",
      "\u001b[0m  \"gazebo_ros\" provides a separate development package or SDK, be sure it has\n",
      "\u001b[0m  been installed.\n",
      "\u001b[0m\u001b[36m\u001b[4mCall Stack (most recent call first):\u001b[0m\n",
      "\u001b[0m  RomiPi/romipi_gazebo/CMakeLists.txt:13 (find_package)\n",
      "\u001b[0m\n",
      "\u001b[0m\n",
      "\u001b[0m-- Configuring incomplete, errors occurred!\n",
      "\u001b[0mSee also \"/home/pirate/catkin_ws/build/CMakeFiles/CMakeOutput.log\".\n",
      "\u001b[0mSee also \"/home/pirate/catkin_ws/build/CMakeFiles/CMakeError.log\".\n",
      "\u001b[0mmake: *** [Makefile:320: cmake_check_build_system] Fehler 1\n",
      "\u001b[0m\u001b[31mInvoking \u001b[1m\"make cmake_check_build_system\"\u001b[22m failed\u001b[0m\n"
     ]
    },
    {
     "ename": "",
     "evalue": "1",
     "output_type": "error",
     "traceback": []
    }
   ],
   "source": [
    "cd ..\n",
    "catkin_make"
   ]
  },
  {
   "cell_type": "code",
   "execution_count": null,
   "metadata": {},
   "outputs": [],
   "source": []
  }
 ],
 "metadata": {
  "kernelspec": {
   "display_name": "Bash",
   "language": "bash",
   "name": "bash"
  },
  "language_info": {
   "codemirror_mode": "shell",
   "file_extension": ".sh",
   "mimetype": "text/x-sh",
   "name": "bash"
  }
 },
 "nbformat": 4,
 "nbformat_minor": 4
}
