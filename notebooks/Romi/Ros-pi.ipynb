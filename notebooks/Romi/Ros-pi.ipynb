{
 "cells": [
  {
   "cell_type": "code",
   "execution_count": 1,
   "metadata": {},
   "outputs": [
    {
     "name": "stdout",
     "output_type": "stream",
     "text": [
      "Usage: roscore [options]\n",
      "\n",
      "roscore will start up a ROS Master, a ROS Parameter Server and a rosout\n",
      "logging node\n",
      "\n",
      "Options:\n",
      "  -h, --help            show this help message and exit\n",
      "  -p PORT, --port=PORT  master port. Only valid if master is launched\n",
      "  -v                    verbose printing\n",
      "  -w NUM_WORKERS, --numworkers=NUM_WORKERS\n",
      "                        override number of worker threads\n",
      "  -t TIMEOUT, --timeout=TIMEOUT\n",
      "                        override the socket connection timeout (in seconds).\n",
      "  --master-logger-level=MASTER_LOGGER_LEVEL\n",
      "                        set rosmaster.master logger level ('debug', 'info',\n",
      "                        'warn', 'error', 'fatal')\n",
      "\n",
      "See http://www.ros.org/wiki/roscore\n"
     ]
    }
   ],
   "source": [
    "roscore --help"
   ]
  },
  {
   "cell_type": "code",
   "execution_count": 2,
   "metadata": {},
   "outputs": [
    {
     "name": "stdout",
     "output_type": "stream",
     "text": [
      "melodic\n"
     ]
    }
   ],
   "source": [
    "rosversion -d"
   ]
  },
  {
   "cell_type": "code",
   "execution_count": 3,
   "metadata": {},
   "outputs": [
    {
     "name": "stdout",
     "output_type": "stream",
     "text": [
      "usage: rosversion [-h] [-s] [-d] [package]\n",
      "\n",
      "rosversion -d: Output the version of the given package\n",
      "rosversion package: Output the ROS distribution name\n",
      "\n",
      "positional arguments:\n",
      "  package             The ROS package name (e.g. 'roscpp')\n",
      "\n",
      "optional arguments:\n",
      "  -h, --help          show this help message and exit\n",
      "  -s, --skip-newline  Skip trailing newline\n",
      "  -d, --distro        Output the ROS distribution name\n"
     ]
    }
   ],
   "source": [
    "rosversion --help"
   ]
  },
  {
   "cell_type": "markdown",
   "metadata": {},
   "source": [
    "http://www.ros.org/\n",
    "\n",
    "https://www.openrobotics.org/"
   ]
  },
  {
   "cell_type": "code",
   "execution_count": 4,
   "metadata": {},
   "outputs": [
    {
     "name": "stdout",
     "output_type": "stream",
     "text": [
      "reading in sources list data from /etc/ros/rosdep/sources.list.d\n",
      "Hit https://raw.githubusercontent.com/ros/rosdistro/master/rosdep/osx-homebrew.yaml\n",
      "Hit https://raw.githubusercontent.com/ros/rosdistro/master/rosdep/base.yaml\n",
      "Hit https://raw.githubusercontent.com/ros/rosdistro/master/rosdep/python.yaml\n",
      "Hit https://raw.githubusercontent.com/ros/rosdistro/master/rosdep/ruby.yaml\n",
      "Hit https://raw.githubusercontent.com/ros/rosdistro/master/releases/fuerte.yaml\n",
      "Query rosdistro index https://raw.githubusercontent.com/ros/rosdistro/master/index-v4.yaml\n",
      "Skip end-of-life distro \"ardent\"\n",
      "Skip end-of-life distro \"bouncy\"\n",
      "Skip end-of-life distro \"crystal\"\n",
      "Add distro \"dashing\"\n",
      "Add distro \"eloquent\"\n",
      "Add distro \"foxy\"\n",
      "Skip end-of-life distro \"groovy\"\n",
      "Skip end-of-life distro \"hydro\"\n",
      "Skip end-of-life distro \"indigo\"\n",
      "Skip end-of-life distro \"jade\"\n",
      "Add distro \"kinetic\"\n",
      "Skip end-of-life distro \"lunar\"\n",
      "Add distro \"melodic\"\n",
      "Add distro \"noetic\"\n",
      "updated cache in /home/pi-home/.ros/rosdep/sources.cache\n"
     ]
    }
   ],
   "source": [
    "rosdep update"
   ]
  },
  {
   "cell_type": "code",
   "execution_count": 5,
   "metadata": {},
   "outputs": [
    {
     "name": "stdout",
     "output_type": "stream",
     "text": [
      "/home/pi-home/catkin_ws/src:/opt/ros/melodic/share\n"
     ]
    }
   ],
   "source": [
    "echo $ROS_PACKAGE_PATH"
   ]
  },
  {
   "cell_type": "code",
   "execution_count": 6,
   "metadata": {},
   "outputs": [
    {
     "name": "stdout",
     "output_type": "stream",
     "text": [
      "Base path: /home/pi-home/catkin_ws\n",
      "Source space: /home/pi-home/catkin_ws/src\n",
      "Build space: /home/pi-home/catkin_ws/build\n",
      "Devel space: /home/pi-home/catkin_ws/devel\n",
      "Install space: /home/pi-home/catkin_ws/install\n",
      "\u001b[34m####\u001b[0m\n",
      "\u001b[34m#### Running command: \u001b[1m\"make cmake_check_build_system\"\u001b[0m\u001b[34m in \u001b[1m\"/home/pi-home/catkin_ws/build\"\u001b[0m\n",
      "\u001b[34m####\u001b[0m\n",
      "\u001b[34m####\u001b[0m\n",
      "\u001b[34m#### Running command: \u001b[1m\"make -j4 -l4\"\u001b[0m\u001b[34m in \u001b[1m\"/home/pi-home/catkin_ws/build\"\u001b[0m\n",
      "\u001b[34m####\u001b[0m\n",
      "[  0%] Built target std_msgs_generate_messages_cpp\n",
      "[  0%] Built target geometry_msgs_generate_messages_cpp\n",
      "[  0%] Built target std_msgs_generate_messages_py\n",
      "[  0%] Built target geometry_msgs_generate_messages_py\n",
      "[  0%] Built target _romipi_msgs_generate_messages_check_deps_NameList\n",
      "[  0%] Built target _romipi_msgs_generate_messages_check_deps_RomiPose\n",
      "[  0%] Built target std_msgs_generate_messages_nodejs\n",
      "[  0%] Built target geometry_msgs_generate_messages_nodejs\n",
      "[  0%] Built target std_msgs_generate_messages_lisp\n",
      "[  0%] Built target geometry_msgs_generate_messages_lisp\n",
      "[  0%] Built target std_msgs_generate_messages_eus\n",
      "[  0%] Built target geometry_msgs_generate_messages_eus\n",
      "[  0%] Built target turtlebot3_msgs_generate_messages_lisp\n",
      "[  0%] Built target roscpp_generate_messages_py\n",
      "[  0%] Built target roscpp_generate_messages_nodejs\n",
      "[  0%] Built target roscpp_generate_messages_eus\n",
      "[  0%] Built target roscpp_generate_messages_lisp\n",
      "[  0%] Built target sensor_msgs_generate_messages_py\n",
      "[  0%] Built target rosgraph_msgs_generate_messages_cpp\n",
      "[  0%] Built target roscpp_generate_messages_cpp\n",
      "[  0%] Built target rosgraph_msgs_generate_messages_eus\n",
      "[  0%] Built target rosgraph_msgs_generate_messages_lisp\n",
      "[  0%] Built target sensor_msgs_generate_messages_nodejs\n",
      "[  0%] Built target rosgraph_msgs_generate_messages_nodejs\n",
      "[  0%] Built target rosgraph_msgs_generate_messages_py\n",
      "[  0%] Built target sensor_msgs_generate_messages_cpp\n",
      "[  0%] Built target sensor_msgs_generate_messages_eus\n",
      "[  0%] Built target sensor_msgs_generate_messages_lisp\n",
      "[  0%] Built target diagnostic_msgs_generate_messages_py\n",
      "[  0%] Built target diagnostic_msgs_generate_messages_nodejs\n",
      "[  0%] Built target turtlebot3_msgs_generate_messages_cpp\n",
      "[  0%] Built target diagnostic_msgs_generate_messages_lisp\n",
      "[  0%] Built target turtlebot3_msgs_generate_messages_eus\n",
      "[  0%] Built target diagnostic_msgs_generate_messages_cpp\n",
      "[  0%] Built target diagnostic_msgs_generate_messages_eus\n",
      "[  0%] Built target turtlebot3_msgs_generate_messages_nodejs\n",
      "[  0%] Built target turtlebot3_msgs_generate_messages_py\n",
      "[  0%] Built target actionlib_generate_messages_cpp\n",
      "[  0%] Built target _romipi_fiducials_generate_messages_check_deps_GetPose\n",
      "[  0%] Built target _romipi_fiducials_generate_messages_check_deps_ResetVisible\n",
      "[  0%] Built target tf2_msgs_generate_messages_py\n",
      "[  0%] Built target _romipi_fiducials_generate_messages_check_deps_GetVisible\n",
      "[  0%] Built target tf2_msgs_generate_messages_cpp\n",
      "[  0%] Built target actionlib_generate_messages_py\n",
      "[  0%] Built target actionlib_generate_messages_nodejs\n",
      "[  0%] Built target actionlib_generate_messages_lisp\n",
      "[  0%] Built target actionlib_generate_messages_eus\n",
      "[  0%] Built target nav_msgs_generate_messages_py\n",
      "[  0%] Built target tf2_msgs_generate_messages_nodejs\n",
      "[  0%] Built target tf_generate_messages_nodejs\n",
      "[  0%] Built target nav_msgs_generate_messages_cpp\n",
      "[  0%] Built target nav_msgs_generate_messages_nodejs\n",
      "[  0%] Built target nav_msgs_generate_messages_eus\n",
      "[  0%] Built target tf2_msgs_generate_messages_lisp\n",
      "[  0%] Built target actionlib_msgs_generate_messages_eus\n",
      "[  0%] Built target tf_generate_messages_py\n",
      "[  0%] Built target actionlib_msgs_generate_messages_nodejs\n",
      "[  0%] Built target actionlib_msgs_generate_messages_lisp\n",
      "[  0%] Built target actionlib_msgs_generate_messages_py\n",
      "[  0%] Built target tf2_msgs_generate_messages_eus\n",
      "[  0%] Built target nav_msgs_generate_messages_lisp\n",
      "[  0%] Built target tf_generate_messages_lisp\n",
      "[  0%] Built target tf_generate_messages_cpp\n",
      "[  0%] Built target actionlib_msgs_generate_messages_cpp\n",
      "[  0%] Built target tf_generate_messages_eus\n",
      "[  0%] Built target gazebo_msgs_generate_messages_nodejs\n",
      "[  0%] Built target trajectory_msgs_generate_messages_nodejs\n",
      "[  0%] Built target gazebo_msgs_generate_messages_py\n",
      "[  0%] Built target trajectory_msgs_generate_messages_lisp\n",
      "[  0%] Built target trajectory_msgs_generate_messages_cpp\n",
      "[  0%] Built target dynamic_reconfigure_generate_messages_lisp\n",
      "[  0%] Built target std_srvs_generate_messages_py\n",
      "[  0%] Built target std_srvs_generate_messages_lisp\n",
      "[  0%] Built target std_srvs_generate_messages_eus\n",
      "[  0%] Built target trajectory_msgs_generate_messages_eus\n",
      "[  0%] Built target gazebo_ros_gencfg\n",
      "[  0%] Built target dynamic_reconfigure_generate_messages_eus\n",
      "[  0%] Built target std_srvs_generate_messages_cpp\n",
      "[  0%] Built target dynamic_reconfigure_generate_messages_cpp\n",
      "[  0%] Built target dynamic_reconfigure_generate_messages_nodejs\n",
      "[  0%] Built target dynamic_reconfigure_gencfg\n",
      "[  0%] Built target dynamic_reconfigure_generate_messages_py\n",
      "[  0%] Built target std_srvs_generate_messages_nodejs\n",
      "[  0%] Built target gazebo_msgs_generate_messages_cpp\n",
      "[  0%] Built target trajectory_msgs_generate_messages_py\n",
      "[  0%] Built target gazebo_msgs_generate_messages_eus\n",
      "[  0%] Built target gazebo_msgs_generate_messages_lisp\n",
      "[  0%] Built target romipi_description_xacro_generated_to_devel_space_\n",
      "[  5%] Built target romipi_msgs_generate_messages_cpp\n",
      "[ 14%] Built target romipi_msgs_generate_messages_py\n",
      "[ 20%] Built target romipi_msgs_generate_messages_nodejs\n",
      "[ 25%] Built target romipi_msgs_generate_messages_lisp\n",
      "[ 34%] Built target romipi_msgs_generate_messages_eus\n",
      "[ 40%] Built target romipi_diagnostics\n",
      "[ 48%] Built target romipi_fiducials_generate_messages_cpp\n",
      "[ 57%] Built target romipi_fiducials_generate_messages_nodejs\n",
      "[ 68%] Built target romipi_fiducials_generate_messages_py\n",
      "[ 74%] Built target romipi_fake_node\n",
      "[ 74%] Built target romipi_msgs_generate_messages\n",
      "[ 82%] Built target romipi_fiducials_generate_messages_lisp\n",
      "[ 88%] Built target romipi_drive\n",
      "[100%] Built target romipi_fiducials_generate_messages_eus\n",
      "[100%] Built target romipi_fiducials_generate_messages\n"
     ]
    }
   ],
   "source": [
    "cd ~/catkin_ws\n",
    "catkin_make"
   ]
  },
  {
   "cell_type": "code",
   "execution_count": 7,
   "metadata": {},
   "outputs": [],
   "source": [
    "roscd\n",
    "cd .."
   ]
  },
  {
   "cell_type": "code",
   "execution_count": 8,
   "metadata": {},
   "outputs": [
    {
     "name": "stdout",
     "output_type": "stream",
     "text": [
      "/home/pi-home/catkin_ws\n"
     ]
    }
   ],
   "source": [
    "pwd"
   ]
  },
  {
   "cell_type": "code",
   "execution_count": 9,
   "metadata": {},
   "outputs": [
    {
     "name": "stdout",
     "output_type": "stream",
     "text": [
      "total 12\n",
      "drwxrwxr-x 9 pi-home pi-home 4096 Feb 19 23:53 build\n",
      "drwxrwxr-x 5 pi-home pi-home 4096 Feb 19 23:53 devel\n",
      "drwxr-xr-x 3 pi-home pi-home 4096 Feb 19 23:52 src\n"
     ]
    }
   ],
   "source": [
    "ls -l"
   ]
  },
  {
   "cell_type": "code",
   "execution_count": null,
   "metadata": {},
   "outputs": [],
   "source": []
  }
 ],
 "metadata": {
  "kernelspec": {
   "display_name": "Bash",
   "language": "bash",
   "name": "bash"
  },
  "language_info": {
   "codemirror_mode": "shell",
   "file_extension": ".sh",
   "mimetype": "text/x-sh",
   "name": "bash"
  }
 },
 "nbformat": 4,
 "nbformat_minor": 4
}
