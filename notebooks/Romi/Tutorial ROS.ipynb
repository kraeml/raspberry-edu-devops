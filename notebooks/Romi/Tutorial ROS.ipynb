{
 "cells": [
  {
   "cell_type": "markdown",
   "metadata": {},
   "source": [
    "# Ros Tutorials\n",
    "\n",
    "## Installing and Configuring Your ROS Environment\n",
    "\n",
    "http://wiki.ros.org/ROS/Tutorials/InstallingandConfiguringROSEnvironment"
   ]
  },
  {
   "cell_type": "code",
   "execution_count": 1,
   "metadata": {},
   "outputs": [
    {
     "name": "stdout",
     "output_type": "stream",
     "text": [
      "ROS_ETC_DIR=/opt/ros/melodic/etc/ros\n",
      "ROS_ROOT=/opt/ros/melodic/share/ros\n",
      "ROS_MASTER_URI=http://localhost:11311\n",
      "ROS_VERSION=1\n",
      "ROS_PYTHON_VERSION=2\n",
      "ROS_PACKAGE_PATH=/home/pi-home/catkin_ws/src:/opt/ros/melodic/share\n",
      "ROSLISP_PACKAGE_DIRECTORIES=/home/pi-home/catkin_ws/devel/share/common-lisp\n",
      "ROS_DISTRO=melodic\n"
     ]
    }
   ],
   "source": [
    "printenv | grep ROS"
   ]
  },
  {
   "cell_type": "code",
   "execution_count": 5,
   "metadata": {},
   "outputs": [
    {
     "name": "stdout",
     "output_type": "stream",
     "text": [
      "Base path: /home/pi-home/catkin_ws\n",
      "Source space: /home/pi-home/catkin_ws/src\n",
      "Build space: /home/pi-home/catkin_ws/build\n",
      "Devel space: /home/pi-home/catkin_ws/devel\n",
      "Install space: /home/pi-home/catkin_ws/install\n",
      "Creating symlink \"/home/pi-home/catkin_ws/src/CMakeLists.txt\" pointing to \"/opt/ros/melodic/share/catkin/cmake/toplevel.cmake\"\n",
      "\u001b[34m####\u001b[0m\n",
      "\u001b[34m#### Running command: \u001b[1m\"cmake /home/pi-home/catkin_ws/src -DCATKIN_DEVEL_PREFIX=/home/pi-home/catkin_ws/devel -DCMAKE_INSTALL_PREFIX=/home/pi-home/catkin_ws/install -G Unix Makefiles\"\u001b[0m\u001b[34m in \u001b[1m\"/home/pi-home/catkin_ws/build\"\u001b[0m\n",
      "\u001b[34m####\u001b[0m\n",
      "-- The C compiler identification is GNU 7.4.0\n",
      "\u001b[0m-- The CXX compiler identification is GNU 7.4.0\n",
      "\u001b[0m-- Check for working C compiler: /usr/bin/cc\n",
      "\u001b[0m-- Check for working C compiler: /usr/bin/cc -- works\n",
      "\u001b[0m-- Detecting C compiler ABI info\n",
      "\u001b[0m-- Detecting C compiler ABI info - done\n",
      "\u001b[0m-- Detecting C compile features\n",
      "\u001b[0m-- Detecting C compile features - done\n",
      "\u001b[0m-- Check for working CXX compiler: /usr/bin/c++\n",
      "\u001b[0m-- Check for working CXX compiler: /usr/bin/c++ -- works\n",
      "\u001b[0m-- Detecting CXX compiler ABI info\n",
      "\u001b[0m-- Detecting CXX compiler ABI info - done\n",
      "\u001b[0m-- Detecting CXX compile features\n",
      "\u001b[0m-- Detecting CXX compile features - done\n",
      "\u001b[0m-- Using CATKIN_DEVEL_PREFIX: /home/pi-home/catkin_ws/devel\n",
      "\u001b[0m-- Using CMAKE_PREFIX_PATH: /home/pi-home/catkin_ws/devel;/opt/ros/melodic\n",
      "\u001b[0m-- This workspace overlays: /home/pi-home/catkin_ws/devel;/opt/ros/melodic\n",
      "\u001b[0m-- Found PythonInterp: /usr/bin/python2 (found suitable version \"2.7.17\", minimum required is \"2\") \n",
      "\u001b[0m-- Using PYTHON_EXECUTABLE: /usr/bin/python2\n",
      "\u001b[0m-- Using Debian Python package layout\n",
      "\u001b[0m-- Using empy: /usr/bin/empy\n",
      "\u001b[0m-- Using CATKIN_ENABLE_TESTING: ON\n",
      "\u001b[0m-- Call enable_testing()\n",
      "\u001b[0m-- Using CATKIN_TEST_RESULTS_DIR: /home/pi-home/catkin_ws/build/test_results\n",
      "\u001b[0m-- Found gtest sources under '/usr/src/googletest': gtests will be built\n",
      "\u001b[0m-- Found gmock sources under '/usr/src/googletest': gmock will be built\n",
      "\u001b[0m-- Found PythonInterp: /usr/bin/python2 (found version \"2.7.17\") \n",
      "\u001b[0m-- Looking for pthread.h\n",
      "\u001b[0m-- Looking for pthread.h - found\n",
      "\u001b[0m-- Looking for pthread_create\n",
      "\u001b[0m-- Looking for pthread_create - not found\n",
      "\u001b[0m-- Looking for pthread_create in pthreads\n",
      "\u001b[0m-- Looking for pthread_create in pthreads - not found\n",
      "\u001b[0m-- Looking for pthread_create in pthread\n",
      "\u001b[0m-- Looking for pthread_create in pthread - found\n",
      "\u001b[0m-- Found Threads: TRUE  \n",
      "\u001b[0m-- Using Python nosetests: /usr/bin/nosetests-2.7\n",
      "\u001b[0m-- catkin 0.7.20\n",
      "\u001b[0m-- BUILD_SHARED_LIBS is on\n",
      "\u001b[0m-- BUILD_SHARED_LIBS is on\n",
      "\u001b[0m-- Configuring done\n",
      "\u001b[0m-- Generating done\n",
      "\u001b[0m-- Build files have been written to: /home/pi-home/catkin_ws/build\n",
      "\u001b[0m\u001b[34m####\u001b[0m\n",
      "\u001b[34m#### Running command: \u001b[1m\"make -j4 -l4\"\u001b[0m\u001b[34m in \u001b[1m\"/home/pi-home/catkin_ws/build\"\u001b[0m\n",
      "\u001b[34m####\u001b[0m\n"
     ]
    }
   ],
   "source": [
    "mkdir -p ~/catkin_ws/src\n",
    "cd ~/catkin_ws/\n",
    "catkin_make"
   ]
  },
  {
   "cell_type": "code",
   "execution_count": 6,
   "metadata": {},
   "outputs": [],
   "source": [
    "source devel/setup.bash"
   ]
  },
  {
   "cell_type": "code",
   "execution_count": 8,
   "metadata": {},
   "outputs": [
    {
     "name": "stdout",
     "output_type": "stream",
     "text": [
      "/home/pi-home/catkin_ws/src:/opt/ros/melodic/share\n"
     ]
    }
   ],
   "source": [
    "echo $ROS_PACKAGE_PATH"
   ]
  },
  {
   "cell_type": "markdown",
   "metadata": {},
   "source": [
    "## Navigating the ROS Filesystem\n",
    "\n",
    "http://wiki.ros.org/ROS/Tutorials/NavigatingTheFilesystem"
   ]
  },
  {
   "cell_type": "code",
   "execution_count": 10,
   "metadata": {},
   "outputs": [
    {
     "name": "stdout",
     "output_type": "stream",
     "text": [
      "Paketlisten werden gelesen... Fertig\n",
      "Abhängigkeitsbaum wird aufgebaut.       \n",
      "Statusinformationen werden eingelesen.... Fertig\n",
      "Die folgenden zusätzlichen Pakete werden installiert:\n",
      "  ros-melodic-roscpp-tutorials ros-melodic-rospy-tutorials\n",
      "  ros-melodic-turtlesim\n",
      "Die folgenden NEUEN Pakete werden installiert:\n",
      "  ros-melodic-ros-tutorials ros-melodic-roscpp-tutorials\n",
      "  ros-melodic-rospy-tutorials ros-melodic-turtlesim\n",
      "0 aktualisiert, 4 neu installiert, 0 zu entfernen und 0 nicht aktualisiert.\n",
      "Es müssen 383 kB an Archiven heruntergeladen werden.\n",
      "Nach dieser Operation werden 2.608 kB Plattenplatz zusätzlich benutzt.\n",
      "Holen:1 http://packages.ros.org/ros/ubuntu bionic/main arm64 ros-melodic-roscpp-tutorials arm64 0.9.1-0bionic.20191211.194356 [137 kB]\n",
      "Holen:2 http://packages.ros.org/ros/ubuntu bionic/main arm64 ros-melodic-rospy-tutorials arm64 0.9.1-0bionic.20191211.205443 [30,1 kB]\n",
      "Holen:3 http://packages.ros.org/ros/ubuntu bionic/main arm64 ros-melodic-turtlesim arm64 0.9.1-0bionic.20191211.193315 [214 kB]\n",
      "Holen:4 http://packages.ros.org/ros/ubuntu bionic/main arm64 ros-melodic-ros-tutorials arm64 0.9.1-0bionic.20191211.210910 [2.284 B]\n",
      "Es wurden 383 kB in 2 s geholt (253 kB/s).            \n",
      "debconf: kann Oberfläche nicht initialisieren: Dialog\n",
      "debconf: (Die Dialog-Oberfläche funktioniert nicht auf einem Dumb-Terminal, einem Emacs-Shellbuffer oder ohne ein steuerndes Terminal.)\n",
      "debconf: greife zurück auf die Oberfläche: Readline\n",
      "Vormals nicht ausgewähltes Paket ros-melodic-roscpp-tutorials wird gewählt.\n",
      "(Lese Datenbank ... 213026 Dateien und Verzeichnisse sind derzeit installiert.)\n",
      "Vorbereitung zum Entpacken von .../ros-melodic-roscpp-tutorials_0.9.1-0bionic.20191211.194356_arm64.deb ...\n",
      "Entpacken von ros-melodic-roscpp-tutorials (0.9.1-0bionic.20191211.194356) ...\n",
      "Vormals nicht ausgewähltes Paket ros-melodic-rospy-tutorials wird gewählt.\n",
      "Vorbereitung zum Entpacken von .../ros-melodic-rospy-tutorials_0.9.1-0bionic.20191211.205443_arm64.deb ...\n",
      "Entpacken von ros-melodic-rospy-tutorials (0.9.1-0bionic.20191211.205443) ...\n",
      "Vormals nicht ausgewähltes Paket ros-melodic-turtlesim wird gewählt.\n",
      "Vorbereitung zum Entpacken von .../ros-melodic-turtlesim_0.9.1-0bionic.20191211.193315_arm64.deb ...\n",
      "Entpacken von ros-melodic-turtlesim (0.9.1-0bionic.20191211.193315) ...\n",
      "Vormals nicht ausgewähltes Paket ros-melodic-ros-tutorials wird gewählt.\n",
      "Vorbereitung zum Entpacken von .../ros-melodic-ros-tutorials_0.9.1-0bionic.20191211.210910_arm64.deb ...\n",
      "Entpacken von ros-melodic-ros-tutorials (0.9.1-0bionic.20191211.210910) ...\n",
      "ros-melodic-roscpp-tutorials (0.9.1-0bionic.20191211.194356) wird eingerichtet ...\n",
      "ros-melodic-rospy-tutorials (0.9.1-0bionic.20191211.205443) wird eingerichtet ...\n",
      "ros-melodic-turtlesim (0.9.1-0bionic.20191211.193315) wird eingerichtet ...\n",
      "ros-melodic-ros-tutorials (0.9.1-0bionic.20191211.210910) wird eingerichtet ...\n"
     ]
    }
   ],
   "source": [
    "sudo apt-get install --yes ros-melodic-ros-tutorials"
   ]
  },
  {
   "cell_type": "code",
   "execution_count": 11,
   "metadata": {},
   "outputs": [
    {
     "name": "stdout",
     "output_type": "stream",
     "text": [
      "Usage: rospack find\n",
      "\n",
      "Print absolute path to the package\n"
     ]
    }
   ],
   "source": [
    "rospack find --help"
   ]
  },
  {
   "cell_type": "code",
   "execution_count": 12,
   "metadata": {},
   "outputs": [
    {
     "name": "stdout",
     "output_type": "stream",
     "text": [
      "/opt/ros/melodic/share/roscpp\n"
     ]
    }
   ],
   "source": [
    "rospack find roscpp"
   ]
  },
  {
   "cell_type": "code",
   "execution_count": 13,
   "metadata": {},
   "outputs": [
    {
     "name": "stdout",
     "output_type": "stream",
     "text": [
      "usage: roscd package\n",
      "\n",
      "Jump to target package.\n"
     ]
    }
   ],
   "source": [
    "roscd --help"
   ]
  },
  {
   "cell_type": "code",
   "execution_count": 14,
   "metadata": {},
   "outputs": [],
   "source": [
    "roscd roscpp"
   ]
  },
  {
   "cell_type": "code",
   "execution_count": 15,
   "metadata": {},
   "outputs": [
    {
     "name": "stdout",
     "output_type": "stream",
     "text": [
      "/opt/ros/melodic/share/roscpp\n"
     ]
    }
   ],
   "source": [
    "pwd"
   ]
  },
  {
   "cell_type": "code",
   "execution_count": 16,
   "metadata": {},
   "outputs": [
    {
     "name": "stdout",
     "output_type": "stream",
     "text": [
      "/opt/ros/melodic/share/roscpp/cmake\n"
     ]
    }
   ],
   "source": [
    "roscd roscpp/cmake\n",
    "pwd"
   ]
  },
  {
   "cell_type": "code",
   "execution_count": 17,
   "metadata": {},
   "outputs": [
    {
     "name": "stdout",
     "output_type": "stream",
     "text": [
      "No active roscore\n"
     ]
    }
   ],
   "source": [
    "roscd log"
   ]
  },
  {
   "cell_type": "code",
   "execution_count": 18,
   "metadata": {},
   "outputs": [
    {
     "name": "stdout",
     "output_type": "stream",
     "text": [
      "usage: rosls [package]\n",
      "\n",
      "Lists contents of a package directory.\n"
     ]
    }
   ],
   "source": [
    "rosls --help"
   ]
  },
  {
   "cell_type": "code",
   "execution_count": 19,
   "metadata": {},
   "outputs": [
    {
     "name": "stdout",
     "output_type": "stream",
     "text": [
      "360fca02-5642-11ea-a473-b827eb74034a  romipi_astar_node_2401_1582465466145.log\n",
      "latest\n"
     ]
    }
   ],
   "source": [
    "rosls "
   ]
  },
  {
   "cell_type": "code",
   "execution_count": 21,
   "metadata": {},
   "outputs": [
    {
     "name": "stdout",
     "output_type": "stream",
     "text": [
      "cmake  launch  package.xml  srv\n"
     ]
    }
   ],
   "source": [
    "rosls roscpp_tutorials"
   ]
  },
  {
   "cell_type": "code",
   "execution_count": 24,
   "metadata": {},
   "outputs": [],
   "source": [
    "roscd turtlesim/"
   ]
  },
  {
   "cell_type": "code",
   "execution_count": 25,
   "metadata": {},
   "outputs": [
    {
     "name": "stdout",
     "output_type": "stream",
     "text": [
      "cmake  images  msg  package.xml  srv\n"
     ]
    }
   ],
   "source": [
    "rosls"
   ]
  },
  {
   "cell_type": "markdown",
   "metadata": {},
   "source": [
    "## Creating a ROS Package\n",
    "\n",
    "http://wiki.ros.org/ROS/Tutorials/CreatingPackage"
   ]
  },
  {
   "cell_type": "code",
   "execution_count": 26,
   "metadata": {},
   "outputs": [],
   "source": [
    "cd ~/catkin_ws/src"
   ]
  },
  {
   "cell_type": "code",
   "execution_count": 27,
   "metadata": {},
   "outputs": [
    {
     "name": "stdout",
     "output_type": "stream",
     "text": [
      "Created file beginner_tutorials/CMakeLists.txt\n",
      "Created file beginner_tutorials/package.xml\n",
      "Created folder beginner_tutorials/include/beginner_tutorials\n",
      "Created folder beginner_tutorials/src\n",
      "Successfully created files in /home/pi-home/catkin_ws/src/beginner_tutorials. Please adjust the values in package.xml.\n"
     ]
    }
   ],
   "source": [
    "catkin_create_pkg beginner_tutorials std_msgs rospy roscpp"
   ]
  },
  {
   "cell_type": "markdown",
   "metadata": {},
   "source": [
    "catkin_create_pkg requires that you give it a package_name and optionally a list of dependencies on which that package depends:\n",
    "\n",
    "```bash\n",
    "catkin_create_pkg <package_name> [depend1] [depend2] [depend3]\n",
    "```"
   ]
  },
  {
   "cell_type": "code",
   "execution_count": 28,
   "metadata": {},
   "outputs": [
    {
     "name": "stdout",
     "output_type": "stream",
     "text": [
      "Base path: /home/pi-home/catkin_ws\n",
      "Source space: /home/pi-home/catkin_ws/src\n",
      "Build space: /home/pi-home/catkin_ws/build\n",
      "Devel space: /home/pi-home/catkin_ws/devel\n",
      "Install space: /home/pi-home/catkin_ws/install\n",
      "\u001b[34m####\u001b[0m\n",
      "\u001b[34m#### Running command: \u001b[1m\"cmake /home/pi-home/catkin_ws/src -DCATKIN_DEVEL_PREFIX=/home/pi-home/catkin_ws/devel -DCMAKE_INSTALL_PREFIX=/home/pi-home/catkin_ws/install -G Unix Makefiles\"\u001b[0m\u001b[34m in \u001b[1m\"/home/pi-home/catkin_ws/build\"\u001b[0m\n",
      "\u001b[34m####\u001b[0m\n",
      "-- Using CATKIN_DEVEL_PREFIX: /home/pi-home/catkin_ws/devel\n",
      "\u001b[0m-- Using CMAKE_PREFIX_PATH: /home/pi-home/catkin_ws/devel;/opt/ros/melodic\n",
      "\u001b[0m-- This workspace overlays: /home/pi-home/catkin_ws/devel;/opt/ros/melodic\n",
      "\u001b[0m-- Found PythonInterp: /usr/bin/python2 (found suitable version \"2.7.17\", minimum required is \"2\") \n",
      "\u001b[0m-- Using PYTHON_EXECUTABLE: /usr/bin/python2\n",
      "\u001b[0m-- Using Debian Python package layout\n",
      "\u001b[0m-- Using empy: /usr/bin/empy\n",
      "\u001b[0m-- Using CATKIN_ENABLE_TESTING: ON\n",
      "\u001b[0m-- Call enable_testing()\n",
      "\u001b[0m-- Using CATKIN_TEST_RESULTS_DIR: /home/pi-home/catkin_ws/build/test_results\n",
      "\u001b[0m-- Found gtest sources under '/usr/src/googletest': gtests will be built\n",
      "\u001b[0m-- Found gmock sources under '/usr/src/googletest': gmock will be built\n",
      "\u001b[0m-- Found PythonInterp: /usr/bin/python2 (found version \"2.7.17\") \n",
      "\u001b[0m-- Using Python nosetests: /usr/bin/nosetests-2.7\n",
      "\u001b[0m-- catkin 0.7.20\n",
      "\u001b[0m-- BUILD_SHARED_LIBS is on\n",
      "\u001b[0m-- BUILD_SHARED_LIBS is on\n",
      "\u001b[0m-- \u001b[35m~~~~~~~~~~~~~~~~~~~~~~~~~~~~~~~~~~~~~~~~~~~~~~~~~\u001b[0m\n",
      "\u001b[0m-- \u001b[35m~~ \u001b[0m traversing 1 packages in topological order:\n",
      "\u001b[0m-- \u001b[35m~~ \u001b[0m - \u001b[1m\u001b[34mbeginner_tutorials\n",
      "\u001b[0m-- \u001b[35m~~~~~~~~~~~~~~~~~~~~~~~~~~~~~~~~~~~~~~~~~~~~~~~~~\u001b[0m\n",
      "\u001b[0m-- \u001b[1m\u001b[32m+++\u001b[0m processing catkin package: '\u001b[1m\u001b[34mbeginner_tutorials\u001b[0m\u001b[0m'\n",
      "\u001b[0m-- \u001b[1m\u001b[34m==>\u001b[0m add_subdirectory(beginner_tutorials)\n",
      "\u001b[0m-- Configuring done\n",
      "\u001b[0m-- Generating done\n",
      "\u001b[0m-- Build files have been written to: /home/pi-home/catkin_ws/build\n",
      "\u001b[0m\u001b[34m####\u001b[0m\n",
      "\u001b[34m#### Running command: \u001b[1m\"make -j4 -l4\"\u001b[0m\u001b[34m in \u001b[1m\"/home/pi-home/catkin_ws/build\"\u001b[0m\n",
      "\u001b[34m####\u001b[0m\n"
     ]
    }
   ],
   "source": [
    "cd ~/catkin_ws\n",
    "catkin_make"
   ]
  },
  {
   "cell_type": "code",
   "execution_count": 29,
   "metadata": {},
   "outputs": [],
   "source": [
    ". ~/catkin_ws/devel/setup.bash"
   ]
  },
  {
   "cell_type": "code",
   "execution_count": 30,
   "metadata": {},
   "outputs": [
    {
     "name": "stdout",
     "output_type": "stream",
     "text": [
      "roscpp\n",
      "rospy\n",
      "std_msgs\n"
     ]
    }
   ],
   "source": [
    "rospack depends1 beginner_tutorials "
   ]
  },
  {
   "cell_type": "code",
   "execution_count": 33,
   "metadata": {},
   "outputs": [
    {
     "name": "stdout",
     "output_type": "stream",
     "text": [
      "<?xml version=\"1.0\"?>\n",
      "<package format=\"2\">\n",
      "  <name>beginner_tutorials</name>\n",
      "  <version>0.0.0</version>\n",
      "  <description>The beginner_tutorials package</description>\n",
      "  <maintainer email=\"pi-home@todo.todo\">pi-home</maintainer>\n",
      "  <license>TODO</license>\n",
      "  <buildtool_depend>catkin</buildtool_depend>\n",
      "  <build_depend>roscpp</build_depend>\n",
      "  <build_depend>rospy</build_depend>\n",
      "  <build_depend>std_msgs</build_depend>\n",
      "  <build_export_depend>roscpp</build_export_depend>\n",
      "  <build_export_depend>rospy</build_export_depend>\n",
      "  <build_export_depend>std_msgs</build_export_depend>\n",
      "  <exec_depend>roscpp</exec_depend>\n",
      "  <exec_depend>rospy</exec_depend>\n",
      "  <exec_depend>std_msgs</exec_depend>\n",
      "  <export>\n",
      "  </export>\n",
      "</package>\n"
     ]
    }
   ],
   "source": [
    "roscd beginner_tutorials\n",
    "grep -v '<!' package.xml | grep -v '^\\s*$'"
   ]
  },
  {
   "cell_type": "code",
   "execution_count": 34,
   "metadata": {},
   "outputs": [
    {
     "name": "stdout",
     "output_type": "stream",
     "text": [
      "genpy\n",
      "roscpp\n",
      "rosgraph\n",
      "rosgraph_msgs\n",
      "roslib\n",
      "std_msgs\n"
     ]
    }
   ],
   "source": [
    "rospack depends1 rospy"
   ]
  },
  {
   "cell_type": "code",
   "execution_count": 35,
   "metadata": {},
   "outputs": [
    {
     "name": "stdout",
     "output_type": "stream",
     "text": [
      "cpp_common\n",
      "rostime\n",
      "roscpp_traits\n",
      "roscpp_serialization\n",
      "catkin\n",
      "genmsg\n",
      "genpy\n",
      "message_runtime\n",
      "gencpp\n",
      "geneus\n",
      "gennodejs\n",
      "genlisp\n",
      "message_generation\n",
      "rosbuild\n",
      "rosconsole\n",
      "std_msgs\n",
      "rosgraph_msgs\n",
      "xmlrpcpp\n",
      "roscpp\n",
      "rosgraph\n",
      "ros_environment\n",
      "rospack\n",
      "roslib\n",
      "rospy\n"
     ]
    }
   ],
   "source": [
    "rospack depends beginner_tutorials"
   ]
  },
  {
   "cell_type": "code",
   "execution_count": 54,
   "metadata": {},
   "outputs": [],
   "source": [
    "sed -i 's/todo.todo/sesamestreet.franken.de/g' package.xml"
   ]
  },
  {
   "cell_type": "code",
   "execution_count": 55,
   "metadata": {},
   "outputs": [
    {
     "name": "stdout",
     "output_type": "stream",
     "text": [
      "<?xml version=\"1.0\"?>\n",
      "<package format=\"2\">\n",
      "  <name>beginner_tutorials</name>\n",
      "  <version>0.0.0</version>\n",
      "  <description>The beginner_tutorials package</description>\n",
      "  <maintainer email=\"pi-home@sesamestreet.franken.de\">pi-home</maintainer>\n",
      "  <license>TODO</license>\n",
      "  <buildtool_depend>catkin</buildtool_depend>\n",
      "  <build_depend>roscpp</build_depend>\n",
      "  <build_depend>rospy</build_depend>\n",
      "  <build_depend>std_msgs</build_depend>\n",
      "  <build_export_depend>roscpp</build_export_depend>\n",
      "  <build_export_depend>rospy</build_export_depend>\n",
      "  <build_export_depend>std_msgs</build_export_depend>\n",
      "  <exec_depend>roscpp</exec_depend>\n",
      "  <exec_depend>rospy</exec_depend>\n",
      "  <exec_depend>std_msgs</exec_depend>\n",
      "  <export>\n",
      "  </export>\n",
      "</package>\n"
     ]
    }
   ],
   "source": [
    "grep -v '<!' package.xml | grep -v '^\\s*$'"
   ]
  },
  {
   "cell_type": "code",
   "execution_count": 56,
   "metadata": {},
   "outputs": [
    {
     "name": "stdout",
     "output_type": "stream",
     "text": [
      "  <license>TODO</license>\n"
     ]
    }
   ],
   "source": [
    "grep TODO package.xml"
   ]
  },
  {
   "cell_type": "code",
   "execution_count": 57,
   "metadata": {},
   "outputs": [],
   "source": [
    "sed -i 's/TODO/BSD/g' package.xml"
   ]
  },
  {
   "cell_type": "code",
   "execution_count": 58,
   "metadata": {},
   "outputs": [
    {
     "name": "stdout",
     "output_type": "stream",
     "text": [
      "<?xml version=\"1.0\"?>\n",
      "<package format=\"2\">\n",
      "  <name>beginner_tutorials</name>\n",
      "  <version>0.0.0</version>\n",
      "  <description>The beginner_tutorials package</description>\n",
      "  <maintainer email=\"pi-home@sesamestreet.franken.de\">pi-home</maintainer>\n",
      "  <license>BSD</license>\n",
      "  <buildtool_depend>catkin</buildtool_depend>\n",
      "  <build_depend>roscpp</build_depend>\n",
      "  <build_depend>rospy</build_depend>\n",
      "  <build_depend>std_msgs</build_depend>\n",
      "  <build_export_depend>roscpp</build_export_depend>\n",
      "  <build_export_depend>rospy</build_export_depend>\n",
      "  <build_export_depend>std_msgs</build_export_depend>\n",
      "  <exec_depend>roscpp</exec_depend>\n",
      "  <exec_depend>rospy</exec_depend>\n",
      "  <exec_depend>std_msgs</exec_depend>\n",
      "  <export>\n",
      "  </export>\n",
      "</package>\n"
     ]
    }
   ],
   "source": [
    "grep -v '<!' package.xml | grep -v '^\\s*$'"
   ]
  },
  {
   "cell_type": "markdown",
   "metadata": {},
   "source": [
    "## Building a ROS Package\n",
    "\n",
    "http://wiki.ros.org/ROS/Tutorials/BuildingPackages"
   ]
  },
  {
   "cell_type": "code",
   "execution_count": 59,
   "metadata": {},
   "outputs": [
    {
     "name": "stdout",
     "output_type": "stream",
     "text": [
      "beginner_tutorials  CMakeLists.txt\n"
     ]
    }
   ],
   "source": [
    "cd ~/catkin_ws/\n",
    "ls src"
   ]
  },
  {
   "cell_type": "code",
   "execution_count": 60,
   "metadata": {},
   "outputs": [
    {
     "name": "stdout",
     "output_type": "stream",
     "text": [
      "Base path: /home/pi-home/catkin_ws\n",
      "Source space: /home/pi-home/catkin_ws/src\n",
      "Build space: /home/pi-home/catkin_ws/build\n",
      "Devel space: /home/pi-home/catkin_ws/devel\n",
      "Install space: /home/pi-home/catkin_ws/install\n",
      "\u001b[34m####\u001b[0m\n",
      "\u001b[34m#### Running command: \u001b[1m\"make cmake_check_build_system\"\u001b[0m\u001b[34m in \u001b[1m\"/home/pi-home/catkin_ws/build\"\u001b[0m\n",
      "\u001b[34m####\u001b[0m\n",
      "-- Using CATKIN_DEVEL_PREFIX: /home/pi-home/catkin_ws/devel\n",
      "\u001b[0m-- Using CMAKE_PREFIX_PATH: /home/pi-home/catkin_ws/devel;/opt/ros/melodic\n",
      "\u001b[0m-- This workspace overlays: /home/pi-home/catkin_ws/devel;/opt/ros/melodic\n",
      "\u001b[0m-- Found PythonInterp: /usr/bin/python2 (found suitable version \"2.7.17\", minimum required is \"2\") \n",
      "\u001b[0m-- Using PYTHON_EXECUTABLE: /usr/bin/python2\n",
      "\u001b[0m-- Using Debian Python package layout\n",
      "\u001b[0m-- Using empy: /usr/bin/empy\n",
      "\u001b[0m-- Using CATKIN_ENABLE_TESTING: ON\n",
      "\u001b[0m-- Call enable_testing()\n",
      "\u001b[0m-- Using CATKIN_TEST_RESULTS_DIR: /home/pi-home/catkin_ws/build/test_results\n",
      "\u001b[0m-- Found gtest sources under '/usr/src/googletest': gtests will be built\n",
      "\u001b[0m-- Found gmock sources under '/usr/src/googletest': gmock will be built\n",
      "\u001b[0m-- Found PythonInterp: /usr/bin/python2 (found version \"2.7.17\") \n",
      "\u001b[0m-- Using Python nosetests: /usr/bin/nosetests-2.7\n",
      "\u001b[0m-- catkin 0.7.20\n",
      "\u001b[0m-- BUILD_SHARED_LIBS is on\n",
      "\u001b[0m-- BUILD_SHARED_LIBS is on\n",
      "\u001b[0m-- \u001b[35m~~~~~~~~~~~~~~~~~~~~~~~~~~~~~~~~~~~~~~~~~~~~~~~~~\u001b[0m\n",
      "\u001b[0m-- \u001b[35m~~ \u001b[0m traversing 1 packages in topological order:\n",
      "\u001b[0m-- \u001b[35m~~ \u001b[0m - \u001b[1m\u001b[34mbeginner_tutorials\n",
      "\u001b[0m-- \u001b[35m~~~~~~~~~~~~~~~~~~~~~~~~~~~~~~~~~~~~~~~~~~~~~~~~~\u001b[0m\n",
      "\u001b[0m-- \u001b[1m\u001b[32m+++\u001b[0m processing catkin package: '\u001b[1m\u001b[34mbeginner_tutorials\u001b[0m\u001b[0m'\n",
      "\u001b[0m-- \u001b[1m\u001b[34m==>\u001b[0m add_subdirectory(beginner_tutorials)\n",
      "\u001b[0m-- Configuring done\n",
      "\u001b[0m-- Generating done\n",
      "\u001b[0m-- Build files have been written to: /home/pi-home/catkin_ws/build\n",
      "\u001b[0m\u001b[34m####\u001b[0m\n",
      "\u001b[34m#### Running command: \u001b[1m\"make -j4 -l4\"\u001b[0m\u001b[34m in \u001b[1m\"/home/pi-home/catkin_ws/build\"\u001b[0m\n",
      "\u001b[34m####\u001b[0m\n"
     ]
    }
   ],
   "source": [
    "catkin_make"
   ]
  },
  {
   "cell_type": "code",
   "execution_count": 61,
   "metadata": {},
   "outputs": [
    {
     "name": "stdout",
     "output_type": "stream",
     "text": [
      "build  devel  src\n"
     ]
    }
   ],
   "source": [
    "ls"
   ]
  },
  {
   "cell_type": "markdown",
   "metadata": {},
   "source": [
    "## Understanding ROS Nodes\n",
    "\n",
    "http://wiki.ros.org/ROS/Tutorials/UnderstandingNodes"
   ]
  },
  {
   "cell_type": "markdown",
   "metadata": {},
   "source": [
    "### Quick Overview of Graph Concepts\n",
    "\n",
    "* Nodes: A node is an executable that uses ROS to communicate with other nodes.\n",
    "\n",
    "* Messages: ROS data type used when subscribing or publishing to a topic.\n",
    "\n",
    "* Topics: Nodes can publish messages to a topic as well as subscribe to a topic to receive messages.\n",
    "\n",
    "* Master: Name service for ROS (i.e. helps nodes find each other)\n",
    "\n",
    "* rosout: ROS equivalent of stdout/stderr\n",
    "\n",
    "* roscore: Master + rosout + parameter server (parameter server will be introduced later)\n",
    "\n",
    "Run in Background\n",
    "\n",
    "```bash\n",
    "roscore\n",
    "```"
   ]
  },
  {
   "cell_type": "code",
   "execution_count": 63,
   "metadata": {},
   "outputs": [
    {
     "name": "stdout",
     "output_type": "stream",
     "text": [
      "pi-home   4912  3.0  5.9 282004 55384 pts/0    Sl   10:56   0:01 /usr/bin/python /opt/ros/melodic/bin/roscore\n",
      "pi-home   4951  0.0  0.0   4708   572 pts/2    SN+  10:57   0:00 grep --color=auto roscore\n"
     ]
    }
   ],
   "source": [
    "ps aux | grep roscore"
   ]
  },
  {
   "cell_type": "code",
   "execution_count": 62,
   "metadata": {},
   "outputs": [
    {
     "name": "stdout",
     "output_type": "stream",
     "text": [
      "/rosout\n"
     ]
    }
   ],
   "source": [
    "rosnode list"
   ]
  },
  {
   "cell_type": "code",
   "execution_count": 64,
   "metadata": {},
   "outputs": [
    {
     "name": "stdout",
     "output_type": "stream",
     "text": [
      "--------------------------------------------------------------------------------\n",
      "Node [/rosout]\n",
      "Publications: \n",
      " * /rosout_agg [rosgraph_msgs/Log]\n",
      "\n",
      "Subscriptions: \n",
      " * /rosout [unknown type]\n",
      "\n",
      "Services: \n",
      " * /rosout/get_loggers\n",
      " * /rosout/set_logger_level\n",
      "\n",
      "\n",
      "contacting node http://ubuntu-romi:43859/ ...\n",
      "Pid: 4938\n",
      "\n"
     ]
    }
   ],
   "source": [
    "rosnode info /rosout"
   ]
  },
  {
   "cell_type": "markdown",
   "metadata": {},
   "source": [
    "```\n",
    "rosrun [package_name] [node_name]\n",
    "```\n",
    "\n",
    "In der GUI/Desktop starten\n",
    "\n"
   ]
  },
  {
   "cell_type": "code",
   "execution_count": null,
   "metadata": {},
   "outputs": [],
   "source": []
  }
 ],
 "metadata": {
  "kernelspec": {
   "display_name": "Bash",
   "language": "bash",
   "name": "bash"
  },
  "language_info": {
   "codemirror_mode": "shell",
   "file_extension": ".sh",
   "mimetype": "text/x-sh",
   "name": "bash"
  }
 },
 "nbformat": 4,
 "nbformat_minor": 4
}
