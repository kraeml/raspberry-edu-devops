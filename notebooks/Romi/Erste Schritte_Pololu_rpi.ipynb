{
 "cells": [
  {
   "cell_type": "code",
   "execution_count": 1,
   "metadata": {},
   "outputs": [
    {
     "name": "stdout",
     "output_type": "stream",
     "text": [
      "/home/pirate\n",
      "/home/pirate/pololu-rpi-slave-arduino-library/pi\n",
      "insgesamt 48\n",
      "-rw-r--r-- 1 pirate pirate 1781 Feb 10 11:12 a_star.py\n",
      "-rw-r--r-- 1 pirate pirate 3351 Feb 10 11:14 a_star.pyc\n",
      "-rwxr-xr-x 1 pirate pirate 1694 Feb 10 11:12 \u001b[0m\u001b[01;32ma_star_slave_heartbeat.sh\u001b[0m*\n",
      "-rwxr-xr-x 1 pirate pirate 1671 Feb 10 11:12 \u001b[01;32ma_star_slave.sh\u001b[0m*\n",
      "-rw-r--r-- 1 pirate pirate  160 Feb 10 11:12 beep.py\n",
      "-rwxr--r-- 1 pirate pirate  622 Feb 10 11:12 \u001b[01;32mbenchmark.py\u001b[0m*\n",
      "-rw-r--r-- 1 pirate pirate  226 Feb 10 11:12 blink.py\n",
      "-rwxr-xr-x 1 pirate pirate  396 Feb 10 11:12 \u001b[01;32mheartbeat.py\u001b[0m*\n",
      "drwxr-xr-x 2 pirate pirate 4096 Feb 10 11:14 \u001b[01;34m__pycache__\u001b[0m/\n",
      "-rwxr-xr-x 1 pirate pirate 1864 Feb 10 11:12 \u001b[01;32mserver.py\u001b[0m*\n",
      "drwxr-xr-x 2 pirate pirate 4096 Feb 10 11:12 \u001b[01;34mstatic\u001b[0m/\n",
      "drwxr-xr-x 2 pirate pirate 4096 Feb 10 11:12 \u001b[01;34mtemplates\u001b[0m/\n"
     ]
    }
   ],
   "source": [
    "%cd\n",
    "%cd pololu-rpi-slave-arduino-library/pi\n",
    "%ls -l"
   ]
  },
  {
   "cell_type": "code",
   "execution_count": 12,
   "metadata": {},
   "outputs": [],
   "source": [
    "# %load beep.py\n",
    "# Copyright Pololu Corporation.  For more information, see https://www.pololu.com/\n",
    "from a_star import AStar\n",
    "\n",
    "a_star = AStar()\n",
    "\n",
    "a_star.play_notes(\"o4l16ceg>c8\")\n"
   ]
  },
  {
   "cell_type": "code",
   "execution_count": 17,
   "metadata": {},
   "outputs": [],
   "source": [
    "# %load blink.py\n",
    "# Copyright Pololu Corporation.  For more information, see https://www.pololu.com/\n",
    "from a_star import AStar\n",
    "import time\n",
    "\n",
    "a_star = AStar()\n",
    "a = 0\n",
    "steps = 20\n",
    "while a < steps:\n",
    "  a_star.leds(0,0,0)\n",
    "  time.sleep(0.5)\n",
    "  a_star.leds(1,1,1)\n",
    "  time.sleep(0.5)\n",
    "  a = a + 1\n"
   ]
  },
  {
   "cell_type": "code",
   "execution_count": 19,
   "metadata": {},
   "outputs": [],
   "source": [
    "# %load server.py\n",
    "#!/usr/bin/env python3\n",
    "\n",
    "# Copyright Pololu Corporation.  For more information, see https://www.pololu.com/\n",
    "from flask import Flask\n",
    "from flask import render_template\n",
    "from flask import redirect\n",
    "from subprocess import call\n",
    "app = Flask(__name__)\n",
    "app.debug = True\n",
    "\n",
    "from a_star import AStar\n",
    "a_star = AStar()\n",
    "\n",
    "import json\n",
    "\n",
    "led0_state = False\n",
    "led1_state = False\n",
    "led2_state = False\n",
    "\n",
    "@app.route(\"/\")\n",
    "def hello():\n",
    "    return render_template(\"index.html\")\n",
    "\n",
    "@app.route(\"/status.json\")\n",
    "def status():\n",
    "    buttons = a_star.read_buttons()\n",
    "    analog = a_star.read_analog()\n",
    "    battery_millivolts = a_star.read_battery_millivolts()\n",
    "    encoders = a_star.read_encoders()\n",
    "    data = {\n",
    "        \"buttons\": buttons,\n",
    "        \"battery_millivolts\": battery_millivolts,\n",
    "        \"analog\": analog,\n",
    "        \"encoders\": encoders\n",
    "    }\n",
    "    return json.dumps(data)\n",
    "\n",
    "@app.route(\"/motors/<left>,<right>\")\n",
    "def motors(left, right):\n",
    "    a_star.motors(int(left), int(right))\n",
    "    return \"\"\n",
    "\n",
    "@app.route(\"/leds/<int:led0>,<int:led1>,<int:led2>\")\n",
    "def leds(led0, led1, led2):\n",
    "    a_star.leds(led0, led1, led2)\n",
    "    global led0_state\n",
    "    global led1_state\n",
    "    global led2_state\n",
    "    led0_state = led0\n",
    "    led1_state = led1\n",
    "    led2_state = led2\n",
    "    return \"\"\n",
    "\n",
    "@app.route(\"/heartbeat/<int:state>\")\n",
    "def hearbeat(state):\n",
    "    if state == 0:\n",
    "      a_star.leds(led0_state, led1_state, led2_state)\n",
    "    else:\n",
    "        a_star.leds(not led0_state, not led1_state, not led2_state)\n",
    "    return \"\"\n",
    "\n",
    "@app.route(\"/play_notes/<notes>\")\n",
    "def play_notes(notes):\n",
    "    a_star.play_notes(notes)\n",
    "    return \"\"\n",
    "\n",
    "@app.route(\"/halt\")\n",
    "def halt():\n",
    "    call([\"bash\", \"-c\", \"(sleep 2; sudo halt)&\"])\n",
    "    return redirect(\"/shutting-down\")\n",
    "\n",
    "@app.route(\"/shutting-down\")\n",
    "def shutting_down():\n",
    "    return \"Shutting down in 2 seconds! You can remove power when the green LED stops flashing.\"\n",
    "\n",
    "if __name__ == \"__main__\":\n",
    "    app.run(host = \"0.0.0.0\")\n"
   ]
  },
  {
   "cell_type": "code",
   "execution_count": 2,
   "metadata": {},
   "outputs": [],
   "source": [
    "from a_star import AStar\n",
    "a_star = AStar()"
   ]
  },
  {
   "cell_type": "code",
   "execution_count": 23,
   "metadata": {},
   "outputs": [],
   "source": [
    "a_star.motors(50,50)"
   ]
  },
  {
   "cell_type": "code",
   "execution_count": 24,
   "metadata": {},
   "outputs": [],
   "source": [
    "a_star.motors(0,0)"
   ]
  },
  {
   "cell_type": "code",
   "execution_count": 25,
   "metadata": {},
   "outputs": [],
   "source": [
    "a_star.motors(-50,-50)"
   ]
  },
  {
   "cell_type": "code",
   "execution_count": 26,
   "metadata": {},
   "outputs": [],
   "source": [
    "a_star.motors(0,0)"
   ]
  },
  {
   "cell_type": "markdown",
   "metadata": {},
   "source": [
    "Werte von 30 bis 300 (ToDo messen ob nach 300 die Drezahl erhöht wird)"
   ]
  },
  {
   "cell_type": "code",
   "execution_count": 57,
   "metadata": {},
   "outputs": [
    {
     "name": "stdout",
     "output_type": "stream",
     "text": [
      "(-8905, -14134)\n"
     ]
    }
   ],
   "source": [
    "print(a_star.read_encoders())"
   ]
  },
  {
   "cell_type": "code",
   "execution_count": 36,
   "metadata": {},
   "outputs": [],
   "source": [
    "# %load a_star.py\n",
    "# Copyright Pololu Corporation.  For more information, see https://www.pololu.com/\n",
    "import smbus\n",
    "import struct\n",
    "import time\n",
    "\n",
    "class AStar:\n",
    "  def __init__(self):\n",
    "    self.bus = smbus.SMBus(1)\n",
    "\n",
    "  def read_unpack(self, address, size, format):\n",
    "    # Ideally we could do this:\n",
    "    #    byte_list = self.bus.read_i2c_block_data(20, address, size)\n",
    "    # But the AVR's TWI module can't handle a quick write->read transition,\n",
    "    # since the STOP interrupt will occasionally happen after the START\n",
    "    # condition, and the TWI module is disabled until the interrupt can\n",
    "    # be processed.\n",
    "    #\n",
    "    # A delay of 0.0001 (100 us) after each write is enough to account\n",
    "    # for the worst-case situation in our example code.\n",
    "\n",
    "    self.bus.write_byte(20, address)\n",
    "    time.sleep(0.0001)\n",
    "    byte_list = [self.bus.read_byte(20) for _ in range(size)]\n",
    "    return struct.unpack(format, bytes(byte_list))\n",
    "\n",
    "  def write_pack(self, address, format, *data):\n",
    "    data_array = list(struct.pack(format, *data))\n",
    "    self.bus.write_i2c_block_data(20, address, data_array)\n",
    "    time.sleep(0.0001)\n",
    "\n",
    "  def leds(self, red, yellow, green):\n",
    "    self.write_pack(0, 'BBB', red, yellow, green)\n",
    "\n",
    "  def play_notes(self, notes):\n",
    "    self.write_pack(24, 'B15s', 1, notes.encode(\"ascii\"))\n",
    "\n",
    "  def motors(self, left, right):\n",
    "    self.write_pack(6, 'hh', left, right)\n",
    "\n",
    "  def read_buttons(self):\n",
    "    return self.read_unpack(3, 3, \"???\")\n",
    "\n",
    "  def read_battery_millivolts(self):\n",
    "    return self.read_unpack(10, 2, \"H\")\n",
    "\n",
    "  def read_analog(self):\n",
    "    return self.read_unpack(12, 12, \"HHHHHH\")\n",
    "\n",
    "  def read_encoders(self):\n",
    "    return self.read_unpack(39, 4, 'hh')\n",
    "\n",
    "  def test_read8(self):\n",
    "    self.read_unpack(0, 8, 'cccccccc')\n",
    "\n",
    "  def test_write8(self):\n",
    "    self.bus.write_i2c_block_data(20, 0, [0,0,0,0,0,0,0,0])\n",
    "    time.sleep(0.0001)\n"
   ]
  },
  {
   "cell_type": "code",
   "execution_count": 61,
   "metadata": {},
   "outputs": [
    {
     "name": "stdout",
     "output_type": "stream",
     "text": [
      "WARNING! This program can confuse your I2C bus, cause data loss and worse!\n",
      "I will probe file /dev/i2c-1.\n",
      "I will probe address range 0x03-0x77.\n",
      "Continue? [Y/n]      0  1  2  3  4  5  6  7  8  9  a  b  c  d  e  f\n",
      "00:          -- -- -- -- -- -- -- -- -- -- -- -- -- \n",
      "10: -- -- -- -- 14 -- -- -- -- -- -- -- -- -- -- -- \n",
      "20: -- -- -- -- -- -- -- -- -- -- -- -- -- -- -- -- \n",
      "30: -- -- -- -- -- -- -- -- -- -- -- -- -- -- -- -- \n",
      "40: -- -- -- -- -- -- -- -- -- -- -- -- -- -- -- -- \n",
      "50: -- -- -- -- -- -- -- -- -- -- -- -- -- -- -- -- \n",
      "60: -- -- -- -- -- -- -- -- -- -- -- 6b -- -- -- -- \n",
      "70: -- -- -- -- -- -- -- --                         \n",
      "yes: Standardausgabe: Datenübergabe unterbrochen (broken pipe)\n"
     ]
    }
   ],
   "source": [
    "!yes | /usr/sbin/i2cdetect 1"
   ]
  },
  {
   "cell_type": "code",
   "execution_count": 63,
   "metadata": {},
   "outputs": [
    {
     "name": "stdout",
     "output_type": "stream",
     "text": [
      "20\n"
     ]
    }
   ],
   "source": [
    "print(0x14)"
   ]
  },
  {
   "cell_type": "code",
   "execution_count": 64,
   "metadata": {},
   "outputs": [
    {
     "name": "stdout",
     "output_type": "stream",
     "text": [
      "107\n"
     ]
    }
   ],
   "source": [
    "print(0x6b)"
   ]
  },
  {
   "cell_type": "code",
   "execution_count": 68,
   "metadata": {},
   "outputs": [],
   "source": [
    "a_star.leds(1, 1, 1)"
   ]
  },
  {
   "cell_type": "code",
   "execution_count": 69,
   "metadata": {},
   "outputs": [
    {
     "data": {
      "text/plain": [
       "(7590,)"
      ]
     },
     "execution_count": 69,
     "metadata": {},
     "output_type": "execute_result"
    }
   ],
   "source": [
    "a_star.read_battery_millivolts()"
   ]
  },
  {
   "cell_type": "code",
   "execution_count": 71,
   "metadata": {},
   "outputs": [
    {
     "data": {
      "text/plain": [
       "(502, 519, 500, 484, 464, 16)"
      ]
     },
     "execution_count": 71,
     "metadata": {},
     "output_type": "execute_result"
    }
   ],
   "source": [
    "a_star.read_analog()"
   ]
  },
  {
   "cell_type": "code",
   "execution_count": 73,
   "metadata": {},
   "outputs": [
    {
     "data": {
      "text/plain": [
       "(False, False, False)"
      ]
     },
     "execution_count": 73,
     "metadata": {},
     "output_type": "execute_result"
    }
   ],
   "source": [
    "a_star.read_buttons()"
   ]
  },
  {
   "cell_type": "code",
   "execution_count": 76,
   "metadata": {},
   "outputs": [
    {
     "name": "stdout",
     "output_type": "stream",
     "text": [
      "None\n"
     ]
    }
   ],
   "source": [
    "print(a_star.test_read8())"
   ]
  },
  {
   "cell_type": "code",
   "execution_count": 89,
   "metadata": {},
   "outputs": [
    {
     "name": "stdout",
     "output_type": "stream",
     "text": [
      "/home/pirate\n",
      "/home/pirate/pololu-rpi-slave-arduino-library/examples\n",
      "-rw-r--r-- 1 pirate pirate 2940 Feb 10 11:12 AStarRPiSlaveDemo/AStarRPiSlaveDemo.ino\n",
      "-rw-r--r-- 1 pirate pirate 3060 Feb 10 11:12 RomiRPiSlaveDemo/RomiRPiSlaveDemo.ino\n"
     ]
    }
   ],
   "source": [
    "%cd\n",
    "%cd pololu-rpi-slave-arduino-library/examples\n",
    "%ls -l */*.*"
   ]
  },
  {
   "cell_type": "code",
   "execution_count": 81,
   "metadata": {},
   "outputs": [],
   "source": [
    "# %load AStarRPiSlaveDemo/AStarRPiSlaveDemo.ino\n",
    "#include <Servo.h>\n",
    "#include <AStar32U4.h>\n",
    "#include <PololuRPiSlave.h>\n",
    "\n",
    "/* This example program shows how to make the A-Star 32U4 Robot\n",
    " * Controller into a Raspberry Pi I2C slave.  The RPi and A-Star can\n",
    " * exchange data bidirectionally, allowing each device to do what it\n",
    " * does best: high-level programming can be handled in a language such\n",
    " * as Python on the RPi, while the A-Star takes charge of motor\n",
    " * control, analog inputs, and other low-level I/O.\n",
    " *\n",
    " * The example and libraries are available for download at:\n",
    " *\n",
    " * https://github.com/pololu/pololu-rpi-slave-arduino-library\n",
    " *\n",
    " * You will need the corresponding Raspberry Pi code, which is\n",
    " * available in that repository under the pi/ subfolder.  The Pi code\n",
    " * sets up a simple Python-based web application as a control panel\n",
    " * for your Raspberry Pi robot.\n",
    " */\n",
    "\n",
    "// Custom data structure that we will use for interpreting the buffer.\n",
    "// We recommend keeping this under 64 bytes total.  If you change the\n",
    "// data format, make sure to update the corresponding code in\n",
    "// a_star.py on the Raspberry Pi.\n",
    "\n",
    "struct Data\n",
    "{\n",
    "  bool yellow, green, red;\n",
    "  bool buttonA, buttonB, buttonC;\n",
    "\n",
    "  int16_t leftMotor, rightMotor;\n",
    "  uint16_t batteryMillivolts;\n",
    "  uint16_t analog[6];\n",
    "\n",
    "  bool playNotes;\n",
    "  char notes[14];\n",
    "  \n",
    "  // Encoders are unused in this example.\n",
    "  int16_t leftEncoder, rightEncoder;\n",
    "};\n",
    "\n",
    "PololuRPiSlave<struct Data,5> slave;\n",
    "PololuBuzzer buzzer;\n",
    "AStar32U4Motors motors;\n",
    "AStar32U4ButtonA buttonA;\n",
    "AStar32U4ButtonB buttonB;\n",
    "AStar32U4ButtonC buttonC;\n",
    "\n",
    "void setup()\n",
    "{\n",
    "  // Set up the slave at I2C address 20.\n",
    "  slave.init(20);\n",
    "\n",
    "  // Play startup sound.\n",
    "  buzzer.play(\"v10>>g16>>>c16\");\n",
    "}\n",
    "\n",
    "void loop()\n",
    "{\n",
    "  // Call updateBuffer() before using the buffer, to get the latest\n",
    "  // data including recent master writes.\n",
    "  slave.updateBuffer();\n",
    "\n",
    "  // Write various values into the data structure.\n",
    "  slave.buffer.buttonA = buttonA.isPressed();\n",
    "  slave.buffer.buttonB = buttonB.isPressed();\n",
    "  slave.buffer.buttonC = buttonC.isPressed();\n",
    "\n",
    "  // Change this to readBatteryMillivoltsLV() for the LV model.\n",
    "  slave.buffer.batteryMillivolts = readBatteryMillivoltsSV();\n",
    "\n",
    "  for(uint8_t i=0; i<6; i++)\n",
    "  {\n",
    "    slave.buffer.analog[i] = analogRead(i);\n",
    "  }\n",
    "\n",
    "  // READING the buffer is allowed before or after finalizeWrites().\n",
    "  ledYellow(slave.buffer.yellow);\n",
    "  ledGreen(slave.buffer.green);\n",
    "  ledRed(slave.buffer.red);\n",
    "  motors.setSpeeds(slave.buffer.leftMotor, slave.buffer.rightMotor);\n",
    "\n",
    "  // Playing music involves both reading and writing, since we only\n",
    "  // want to do it once.\n",
    "  static bool startedPlaying = false;\n",
    "  \n",
    "  if(slave.buffer.playNotes && !startedPlaying)\n",
    "  {\n",
    "    buzzer.play(slave.buffer.notes);\n",
    "    startedPlaying = true;\n",
    "  }\n",
    "  else if (startedPlaying && !buzzer.isPlaying())\n",
    "  {\n",
    "    slave.buffer.playNotes = false;\n",
    "    startedPlaying = false;\n",
    "  }\n",
    "\n",
    "  // When you are done WRITING, call finalizeWrites() to make modified\n",
    "  // data available to I2C master.\n",
    "  slave.finalizeWrites();\n",
    "}\n"
   ]
  },
  {
   "cell_type": "code",
   "execution_count": 83,
   "metadata": {},
   "outputs": [],
   "source": [
    "# %load RomiRPiSlaveDemo/RomiRPiSlaveDemo.ino\n",
    "#include <Servo.h>\n",
    "#include <Romi32U4.h>\n",
    "#include <PololuRPiSlave.h>\n",
    "\n",
    "/* This example program shows how to make the Romi 32U4 Control Board \n",
    " * into a Raspberry Pi I2C slave.  The RPi and Romi 32U4 Control Board can\n",
    " * exchange data bidirectionally, allowing each device to do what it\n",
    " * does best: high-level programming can be handled in a language such\n",
    " * as Python on the RPi, while the Romi 32U4 Control Board takes charge \n",
    " * of motor control, analog inputs, and other low-level I/O.\n",
    " *\n",
    " * The example and libraries are available for download at:\n",
    " *\n",
    " * https://github.com/pololu/pololu-rpi-slave-arduino-library\n",
    " *\n",
    " * You will need the corresponding Raspberry Pi code, which is\n",
    " * available in that repository under the pi/ subfolder.  The Pi code\n",
    " * sets up a simple Python-based web application as a control panel\n",
    " * for your Raspberry Pi robot.\n",
    " */\n",
    "\n",
    "// Custom data structure that we will use for interpreting the buffer.\n",
    "// We recommend keeping this under 64 bytes total.  If you change the\n",
    "// data format, make sure to update the corresponding code in\n",
    "// a_star.py on the Raspberry Pi.\n",
    "\n",
    "struct Data\n",
    "{\n",
    "  bool yellow, green, red;\n",
    "  bool buttonA, buttonB, buttonC;\n",
    "\n",
    "  int16_t leftMotor, rightMotor;\n",
    "  uint16_t batteryMillivolts;\n",
    "  uint16_t analog[6];\n",
    "\n",
    "  bool playNotes;\n",
    "  char notes[14];\n",
    "\n",
    "  int16_t leftEncoder, rightEncoder;\n",
    "};\n",
    "\n",
    "PololuRPiSlave<struct Data,5> slave;\n",
    "PololuBuzzer buzzer;\n",
    "Romi32U4Motors motors;\n",
    "Romi32U4ButtonA buttonA;\n",
    "Romi32U4ButtonB buttonB;\n",
    "Romi32U4ButtonC buttonC;\n",
    "Romi32U4Encoders encoders;\n",
    "\n",
    "void setup()\n",
    "{\n",
    "  // Set up the slave at I2C address 20.\n",
    "  slave.init(20);\n",
    "\n",
    "  // Play startup sound.\n",
    "  buzzer.play(\"v10>>g16>>>c16\");\n",
    "}\n",
    "\n",
    "void loop()\n",
    "{\n",
    "  // Call updateBuffer() before using the buffer, to get the latest\n",
    "  // data including recent master writes.\n",
    "  slave.updateBuffer();\n",
    "\n",
    "  // Write various values into the data structure.\n",
    "  slave.buffer.buttonA = buttonA.isPressed();\n",
    "  slave.buffer.buttonB = buttonB.isPressed();\n",
    "  slave.buffer.buttonC = buttonC.isPressed();\n",
    "\n",
    "  // Change this to readBatteryMillivoltsLV() for the LV model.\n",
    "  slave.buffer.batteryMillivolts = readBatteryMillivolts();\n",
    "\n",
    "  for(uint8_t i=0; i<6; i++)\n",
    "  {\n",
    "    slave.buffer.analog[i] = analogRead(i);\n",
    "  }\n",
    "\n",
    "  // READING the buffer is allowed before or after finalizeWrites().\n",
    "  ledYellow(slave.buffer.yellow);\n",
    "  ledGreen(slave.buffer.green);\n",
    "  ledRed(slave.buffer.red);\n",
    "  motors.setSpeeds(slave.buffer.leftMotor, slave.buffer.rightMotor);\n",
    "\n",
    "  // Playing music involves both reading and writing, since we only\n",
    "  // want to do it once.\n",
    "  static bool startedPlaying = false;\n",
    "  \n",
    "  if(slave.buffer.playNotes && !startedPlaying)\n",
    "  {\n",
    "    buzzer.play(slave.buffer.notes);\n",
    "    startedPlaying = true;\n",
    "  }\n",
    "  else if (startedPlaying && !buzzer.isPlaying())\n",
    "  {\n",
    "    slave.buffer.playNotes = false;\n",
    "    startedPlaying = false;\n",
    "  }\n",
    "\n",
    "  slave.buffer.leftEncoder = encoders.getCountsLeft();\n",
    "  slave.buffer.rightEncoder = encoders.getCountsRight();\n",
    "\n",
    "  // When you are done WRITING, call finalizeWrites() to make modified\n",
    "  // data available to I2C master.\n",
    "  slave.finalizeWrites();\n",
    "}\n"
   ]
  },
  {
   "cell_type": "code",
   "execution_count": 86,
   "metadata": {},
   "outputs": [
    {
     "name": "stdout",
     "output_type": "stream",
     "text": [
      "/home/pirate\n",
      "/home/pirate/pololu-rpi-slave-arduino-library/src\n",
      "insgesamt 16\n",
      "-rw-r--r-- 1 pirate pirate 4139 Feb 10 11:12 PololuRPiSlave.h\n",
      "-rw-r--r-- 1 pirate pirate 2604 Feb 10 11:12 PololuTWISlave.cpp\n",
      "-rw-r--r-- 1 pirate pirate 1446 Feb 10 11:12 PololuTWISlave.h\n"
     ]
    }
   ],
   "source": [
    "%cd\n",
    "%cd pololu-rpi-slave-arduino-library/src\n",
    "%ls -l "
   ]
  },
  {
   "cell_type": "code",
   "execution_count": 87,
   "metadata": {},
   "outputs": [],
   "source": [
    "# %load PololuRPiSlave.h\n",
    "// Copyright Pololu Corporation.  For more information, see https://www.pololu.com/\n",
    "\n",
    "#pragma once\n",
    "#include \"PololuTWISlave.h\"\n",
    "\n",
    "/* PololuRPiSlave is an extension of PololuTWISlave that slows down\n",
    " * communication where necessary to work around the RPi I2C clock\n",
    " * stretching bug described here:\n",
    " *\n",
    " * http://www.advamation.com/knowhow/raspberrypi/rpi-i2c-bug.html\n",
    " *\n",
    " * The second template parameter, pi_delay_us, specifies the delay.\n",
    " * We recommend a value of 10 for an I2C speed of 100 kHz or a value\n",
    " * of 0 for 400 kHz. However, on the Pi 3, CPU scaling will cause I2C\n",
    " * to run at half the speed; in this case we recommend values of 20 or\n",
    " * 5.\n",
    " *\n",
    " * Additionally, it implements a system of buffers allowing user code\n",
    " * and the I2C system to read and write asynchronously from the same\n",
    " * data, without dictating any particular protocol.\n",
    " *\n",
    " * The data size is determined by the template parameter BufferType.\n",
    " * As described below, we allocate four copies of the buffer.  We\n",
    " * recommend keeping the buffer under 64 bytes.\n",
    " *\n",
    " * I2C writes are limited in the code to 16 bytes.\n",
    " *\n",
    " * You probably don't have to worry about the details below, since the\n",
    " * point of this buffering is to make it simple: all you need to do is\n",
    " * call updateBuffer() before using the buffer, do your writes and\n",
    " * reads, then call finalizeWrites() when you are done.  The I2C\n",
    " * master can read and write to the same data at any time, and you\n",
    " * should never encounter inconsistent data unless both sides attempt\n",
    " * to write to the same region simultaneously.\n",
    " *\n",
    " * Buffering details:\n",
    " *\n",
    " * The point is that reads and writes involving I2C and user code are\n",
    " * asynchronous and slow, but we want these slow operations to be\n",
    " * effectively atomic, so the two sides have to avoid reading and\n",
    " * writing from the same buffer at the same time.\n",
    " *\n",
    " * There is a central buffer (staging_buffer) that is synchronized\n",
    " * with three other buffers (buffer, buffer_old, i2c_read_buffer) when\n",
    " * appropriate; I2C reads are done directly from i2c_read_buffer, and\n",
    " * user code can read and write to \"buffer\" as desired.\n",
    " *\n",
    " * There is also a 16-byte buffer i2c_write_buffer, which stores\n",
    " * incoming I2C writes until they can be applied.\n",
    " */\n",
    "\n",
    "\n",
    "template <class BufferType, unsigned int pi_delay_us>\n",
    "  class PololuRPiSlave: public PololuTWISlave\n",
    "{\n",
    "private:\n",
    "  uint8_t index;\n",
    "  bool index_set = 0;\n",
    "  uint8_t i2c_write_length = 0;\n",
    "  uint8_t i2c_write_buffer[16];\n",
    "\n",
    "  BufferType i2c_read_buffer;\n",
    "  BufferType staging_buffer;\n",
    "  BufferType buffer_old;\n",
    "\n",
    "  void piDelay()\n",
    "  {\n",
    "    delayMicroseconds(pi_delay_us);\n",
    "  }\n",
    "\n",
    "  void updateI2CBuffer()\n",
    "  {\n",
    "    memcpy(&i2c_read_buffer, &staging_buffer, sizeof(BufferType));\n",
    "  }\n",
    "\n",
    "  void finalizeI2CWrites()\n",
    "  {\n",
    "    if(i2c_write_length == 0) return;\n",
    "\n",
    "    for(uint8_t i=0; i < i2c_write_length; i++)\n",
    "    {\n",
    "      ((uint8_t *)&staging_buffer)[i+index] = i2c_write_buffer[i];\n",
    "    }\n",
    "    i2c_write_length = 0;\n",
    "  }\n",
    "\n",
    "public:\n",
    "\n",
    "  BufferType buffer;\n",
    "\n",
    "  void updateBuffer()\n",
    "  {\n",
    "    cli();\n",
    "    memcpy(&buffer, &staging_buffer, sizeof(BufferType));\n",
    "    sei();\n",
    "    memcpy(&buffer_old, &buffer, sizeof(BufferType));\n",
    "  }\n",
    "\n",
    "  void finalizeWrites()\n",
    "  {\n",
    "    uint8_t i;\n",
    "    cli();\n",
    "    for(i=0; i < sizeof(BufferType); i++)\n",
    "    {\n",
    "      if(((uint8_t *)&buffer_old)[i] != ((uint8_t *)&buffer)[i])\n",
    "        ((uint8_t *)&staging_buffer)[i] = ((uint8_t *)&buffer)[i];\n",
    "    }\n",
    "    sei();\n",
    "  }\n",
    "\n",
    "  virtual void receive(uint8_t b)\n",
    "  {\n",
    "    piDelay();\n",
    "    if(!index_set)\n",
    "    {\n",
    "      updateI2CBuffer();\n",
    "      index = b;\n",
    "      index_set = true;\n",
    "    }\n",
    "    else\n",
    "    {\n",
    "      // Wrap writes at the end of the buffer\n",
    "      if(i2c_write_length > sizeof(i2c_write_buffer))\n",
    "        i2c_write_length = 0;\n",
    "\n",
    "      // Write the data to the buffer\n",
    "      i2c_write_buffer[i2c_write_length] = b;\n",
    "      i2c_write_length ++;\n",
    "    }\n",
    "  }\n",
    "\n",
    "  virtual uint8_t transmit()\n",
    "  {\n",
    "    piDelay();\n",
    "    return ((uint8_t *)&i2c_read_buffer)[index++];\n",
    "  }\n",
    "\n",
    "  virtual void start()\n",
    "  {\n",
    "    piDelay();\n",
    "    index_set = false;\n",
    "  }\n",
    "\n",
    "  virtual void stop()\n",
    "  {\n",
    "    finalizeI2CWrites();\n",
    "  }\n",
    "\n",
    "  /* Initialize the slave on a given address. */\n",
    "  void init(uint8_t address)\n",
    "  {\n",
    "    PololuTWISlave::init(address, *this);\n",
    "  }\n",
    "};\n"
   ]
  },
  {
   "cell_type": "code",
   "execution_count": 88,
   "metadata": {},
   "outputs": [],
   "source": [
    "# %load PololuTWISlave.h\n",
    "// Copyright Pololu Corporation.  For more information, see https://www.pololu.com/\n",
    "\n",
    "#pragma once\n",
    "#include <stdint.h>\n",
    "\n",
    "/* PololuTWISlave is a basic AVR I2C slave library that is lightweight\n",
    " * and fast.  Unlike the standard Arduino library Wire.h, it does not\n",
    " * enforce a particular style of buffering the data - you get to\n",
    " * handle the bytes and events one at a time.\n",
    " *\n",
    " * To use this library, inherit from PololuTWISlave and implement the\n",
    " * four virtual functions that specify how to receive and transmit\n",
    " * bytes and how to handle the start and stop signals.\n",
    " *\n",
    " * The library does not support master mode, general calls, error\n",
    " * states, and possibly other features of I2C - it only does the\n",
    " * minimum required to establish communication with a master that we\n",
    " * control.\n",
    " */\n",
    "\n",
    "class PololuTWISlave\n",
    "{\n",
    "public:\n",
    "  /* Methods for a slave to declare.  These methods will be called\n",
    "   * from the ISR, with clock stretching used to delay further bus\n",
    "   * activity until they return. */\n",
    "  virtual void receive(uint8_t b) = 0;\n",
    "  virtual uint8_t transmit() = 0;\n",
    "  virtual void start() = 0;\n",
    "  virtual void stop() = 0;\n",
    "\n",
    "  /* Initialize slave on a specific address; do not respond to general calls. */\n",
    "  static void init(uint8_t address, PololuTWISlave &slave);\n",
    "\n",
    "  /* Low-level static methods not meant to be called by users. */\n",
    "  static uint8_t handleEvent(uint8_t event);\n",
    "  static void ack();\n",
    "  static void nack();\n",
    "  static void clearBusError();\n",
    "};\n"
   ]
  },
  {
   "cell_type": "code",
   "execution_count": null,
   "metadata": {},
   "outputs": [],
   "source": []
  }
 ],
 "metadata": {
  "kernelspec": {
   "display_name": "Python 3",
   "language": "python",
   "name": "python3"
  },
  "language_info": {
   "codemirror_mode": {
    "name": "ipython",
    "version": 3
   },
   "file_extension": ".py",
   "mimetype": "text/x-python",
   "name": "python",
   "nbconvert_exporter": "python",
   "pygments_lexer": "ipython3",
   "version": "3.6.9"
  }
 },
 "nbformat": 4,
 "nbformat_minor": 4
}
