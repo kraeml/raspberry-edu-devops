{
 "cells": [
  {
   "cell_type": "markdown",
   "metadata": {
    "deletable": true,
    "editable": true
   },
   "source": [
    "# Install RPi"
   ]
  },
  {
   "cell_type": "code",
   "execution_count": 1,
   "metadata": {
    "collapsed": false,
    "deletable": true,
    "editable": true
   },
   "outputs": [
    {
     "name": "stdout",
     "output_type": "stream",
     "text": [
      "Klone nach '/tmp/ipython'...\n",
      "remote: Counting objects: 247, done.        \n",
      "remote: Total 247 (delta 0), reused 0 (delta 0), pack-reused 247        \n",
      "Empfange Objekte: 100% (247/247), 1.19 MiB | 1.12 MiB/s, Fertig.\n",
      "Löse Unterschiede auf: 100% (132/132), Fertig.\n",
      "Prüfe Konnektivität... Fertig.\n"
     ]
    }
   ],
   "source": [
    "git clone https://github.com/kraeml/ipython-notebooks.git /tmp/ipython"
   ]
  },
  {
   "cell_type": "code",
   "execution_count": 2,
   "metadata": {
    "collapsed": false,
    "deletable": true,
    "editable": true
   },
   "outputs": [],
   "source": [
    "cp -r /tmp/ipython/notebooks/* ~/notebooks\n",
    "rm -rf /tmp/ipython"
   ]
  },
  {
   "cell_type": "code",
   "execution_count": 3,
   "metadata": {
    "collapsed": false
   },
   "outputs": [
    {
     "name": "stdout",
     "output_type": "stream",
     "text": [
      "de-de  en-gb  nl-be  Untitled.ipynb\n"
     ]
    }
   ],
   "source": [
    "ls ~/notebooks"
   ]
  }
 ],
 "metadata": {
  "kernelspec": {
   "display_name": "Bash",
   "language": "bash",
   "name": "bash"
  },
  "language_info": {
   "codemirror_mode": "shell",
   "file_extension": ".sh",
   "mimetype": "text/x-sh",
   "name": "bash"
  }
 },
 "nbformat": 4,
 "nbformat_minor": 2
}
