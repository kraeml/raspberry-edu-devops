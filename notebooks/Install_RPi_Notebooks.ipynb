{
 "cells": [
  {
   "cell_type": "markdown",
   "metadata": {},
   "source": [
    "# Install RPi"
   ]
  },
  {
   "cell_type": "code",
   "execution_count": 1,
   "metadata": {},
   "outputs": [
    {
     "name": "stdout",
     "output_type": "stream",
     "text": [
      "Klone nach '/home/pi/notebooks/ipython-notebooks' ...\n",
      "remote: Counting objects: 247, done.        \n",
      "remote: Total 247 (delta 0), reused 0 (delta 0), pack-reused 247        \n",
      "Empfange Objekte: 100% (247/247), 1.19 MiB | 725.00 KiB/s, Fertig.\n",
      "Löse Unterschiede auf: 100% (132/132), Fertig.\n"
     ]
    }
   ],
   "source": [
    "git clone https://github.com/kraeml/ipython-notebooks.git ~/notebooks/ipython-notebooks"
   ]
  },
  {
   "cell_type": "code",
   "execution_count": 2,
   "metadata": {},
   "outputs": [],
   "source": [
    "cp -r /tmp/ipython/notebooks/* ~/notebooks\n",
    "rm -rf /tmp/ipython"
   ]
  },
  {
   "cell_type": "code",
   "execution_count": 3,
   "metadata": {},
   "outputs": [
    {
     "name": "stdout",
     "output_type": "stream",
     "text": [
      "de-de  en-gb  nl-be\n"
     ]
    }
   ],
   "source": [
    "ls ~/notebooks/ipython-notebooks/notebooks"
   ]
  },
  {
   "cell_type": "code",
   "execution_count": null,
   "metadata": {},
   "outputs": [],
   "source": []
  }
 ],
 "metadata": {
  "kernelspec": {
   "display_name": "Bash",
   "language": "bash",
   "name": "bash"
  },
  "language_info": {
   "codemirror_mode": "shell",
   "file_extension": ".sh",
   "mimetype": "text/x-sh",
   "name": "bash"
  }
 },
 "nbformat": 4,
 "nbformat_minor": 2
}
