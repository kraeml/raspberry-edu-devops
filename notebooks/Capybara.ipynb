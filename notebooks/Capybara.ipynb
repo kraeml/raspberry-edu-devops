{
 "cells": [
  {
   "cell_type": "markdown",
   "metadata": {},
   "source": [
    "# Erste Schritte mit Capybara"
   ]
  },
  {
   "cell_type": "code",
   "execution_count": 4,
   "metadata": {
    "collapsed": true
   },
   "outputs": [],
   "source": [
    "cd ~/notebooks/raspberry-edu-devops"
   ]
  },
  {
   "cell_type": "code",
   "execution_count": 5,
   "metadata": {},
   "outputs": [
    {
     "name": "stdout",
     "output_type": "stream",
     "text": [
      "Klone nach 'application_testing_with_capybara'...\n",
      "remote: Counting objects: 234, done.        \n",
      "remote: Total 234 (delta 0), reused 0 (delta 0), pack-reused 234        \n",
      "Empfange Objekte: 100% (234/234), 177.03 KiB | 0 bytes/s, Fertig.\n",
      "Löse Unterschiede auf: 100% (99/99), Fertig.\n",
      "Prüfe Konnektivität... Fertig.\n"
     ]
    }
   ],
   "source": [
    "if [ -e application_testing_with_capybara ]; then\n",
    "    rm -rf application_testing_with_capybara\n",
    "fi\n",
    "git clone https://github.com/kraeml/application_testing_with_capybara.git"
   ]
  },
  {
   "cell_type": "code",
   "execution_count": 6,
   "metadata": {},
   "outputs": [
    {
     "name": "stdout",
     "output_type": "stream",
     "text": [
      "ruby 2.1.5p273 (2014-11-13) [arm-linux-gnueabihf]\n"
     ]
    }
   ],
   "source": [
    "ruby -v"
   ]
  },
  {
   "cell_type": "code",
   "execution_count": 10,
   "metadata": {},
   "outputs": [
    {
     "name": "stdout",
     "output_type": "stream",
     "text": [
      "2.6.13\n"
     ]
    }
   ],
   "source": [
    "gem -v"
   ]
  },
  {
   "cell_type": "markdown",
   "metadata": {},
   "source": [
    "Keine gute Idee: sudo gem update --system"
   ]
  },
  {
   "cell_type": "code",
   "execution_count": 13,
   "metadata": {},
   "outputs": [
    {
     "name": "stdout",
     "output_type": "stream",
     "text": [
      "libxml2:\n",
      "  Installiert:           2.9.1+dfsg1-5+deb8u5\n",
      "  Installationskandidat: 2.9.1+dfsg1-5+deb8u5\n",
      "  Versionstabelle:\n",
      "     2.9.4+dfsg1-2.2+deb9u1 0\n",
      "        500 http://mirrordirector.raspbian.org/raspbian/ stretch/main armhf Packages\n",
      " *** 2.9.1+dfsg1-5+deb8u5 0\n",
      "        990 http://mirrordirector.raspbian.org/raspbian/ jessie/main armhf Packages\n",
      "        100 /var/lib/dpkg/status\n",
      "libxml2-dev:\n",
      "  Installiert:           2.9.1+dfsg1-5+deb8u5\n",
      "  Installationskandidat: 2.9.1+dfsg1-5+deb8u5\n",
      "  Versionstabelle:\n",
      "     2.9.4+dfsg1-2.2+deb9u1 0\n",
      "        500 http://mirrordirector.raspbian.org/raspbian/ stretch/main armhf Packages\n",
      " *** 2.9.1+dfsg1-5+deb8u5 0\n",
      "        990 http://mirrordirector.raspbian.org/raspbian/ jessie/main armhf Packages\n",
      "        100 /var/lib/dpkg/status\n",
      "libxslt1.1:\n",
      "  Installiert:           1.1.28-2+deb8u3\n",
      "  Installationskandidat: 1.1.28-2+deb8u3\n",
      "  Versionstabelle:\n",
      "     1.1.29-2.1 0\n",
      "        500 http://mirrordirector.raspbian.org/raspbian/ stretch/main armhf Packages\n",
      " *** 1.1.28-2+deb8u3 0\n",
      "        990 http://mirrordirector.raspbian.org/raspbian/ jessie/main armhf Packages\n",
      "        100 /var/lib/dpkg/status\n",
      "libxslt1-dev:\n",
      "  Installiert:           1.1.28-2+deb8u3\n",
      "  Installationskandidat: 1.1.28-2+deb8u3\n",
      "  Versionstabelle:\n",
      "     1.1.29-2.1 0\n",
      "        500 http://mirrordirector.raspbian.org/raspbian/ stretch/main armhf Packages\n",
      " *** 1.1.28-2+deb8u3 0\n",
      "        990 http://mirrordirector.raspbian.org/raspbian/ jessie/main armhf Packages\n",
      "        100 /var/lib/dpkg/status\n"
     ]
    }
   ],
   "source": [
    "apt-cache policy libxml2 libxml2-dev libxslt1.1 libxslt1-dev"
   ]
  },
  {
   "cell_type": "code",
   "execution_count": 16,
   "metadata": {},
   "outputs": [
    {
     "name": "stdout",
     "output_type": "stream",
     "text": [
      "\n",
      "*** LOCAL GEMS ***\n",
      "\n",
      "bigdecimal (default: 1.2.4)\n",
      "io-console (default: 0.4.2)\n",
      "json (default: 1.8.1)\n",
      "mini_portile2 (2.2.0)\n",
      "minitest (default: 4.7.5)\n",
      "psych (default: 2.0.5)\n",
      "rake (default: 10.1.0)\n",
      "rdoc (default: 4.1.0)\n",
      "rubygems-update (2.6.13)\n",
      "test-unit (default: 2.1.5.0)\n"
     ]
    }
   ],
   "source": [
    "gem list"
   ]
  },
  {
   "cell_type": "code",
   "execution_count": 17,
   "metadata": {},
   "outputs": [
    {
     "name": "stdout",
     "output_type": "stream",
     "text": [
      "Building native extensions.  This could take a while...\n",
      "ERROR:  Error installing capybara:\n",
      "\tERROR: Failed to build gem native extension.\n",
      "\n",
      "    current directory: /var/lib/gems/2.1.0/gems/nokogiri-1.8.0/ext/nokogiri\n",
      "/usr/bin/ruby2.1 -r ./siteconf20170828-4284-hhlkw1.rb extconf.rb\n",
      "mkmf.rb can't find header files for ruby at /usr/lib/ruby/include/ruby.h\n",
      "\n",
      "extconf failed, exit code 1\n",
      "\n",
      "Gem files will remain installed in /var/lib/gems/2.1.0/gems/nokogiri-1.8.0 for inspection.\n",
      "Results logged to /var/lib/gems/2.1.0/extensions/arm-linux/2.1.0/nokogiri-1.8.0/gem_make.out\n"
     ]
    },
    {
     "ename": "",
     "evalue": "1",
     "output_type": "error",
     "traceback": []
    }
   ],
   "source": [
    "sudo gem install capybara"
   ]
  },
  {
   "cell_type": "code",
   "execution_count": null,
   "metadata": {
    "collapsed": true
   },
   "outputs": [],
   "source": []
  }
 ],
 "metadata": {
  "kernelspec": {
   "display_name": "Bash",
   "language": "bash",
   "name": "bash"
  },
  "language_info": {
   "codemirror_mode": "shell",
   "file_extension": ".sh",
   "mimetype": "text/x-sh",
   "name": "bash"
  }
 },
 "nbformat": 4,
 "nbformat_minor": 2
}
