{
 "cells": [
  {
   "cell_type": "markdown",
   "metadata": {},
   "source": [
    "# Erste Schritte mit Capybara"
   ]
  },
  {
   "cell_type": "code",
   "execution_count": 1,
   "metadata": {
    "collapsed": true
   },
   "outputs": [],
   "source": [
    "cd ~/notebooks/raspberry-edu-devops"
   ]
  },
  {
   "cell_type": "code",
   "execution_count": 2,
   "metadata": {},
   "outputs": [
    {
     "name": "stdout",
     "output_type": "stream",
     "text": [
      "Klone nach 'application_testing_with_capybara'...\n",
      "remote: Counting objects: 234, done.        \n",
      "remote: Total 234 (delta 0), reused 0 (delta 0), pack-reused 234        \n",
      "Empfange Objekte: 100% (234/234), 177.03 KiB | 0 bytes/s, Fertig.\n",
      "Löse Unterschiede auf: 100% (99/99), Fertig.\n",
      "Prüfe Konnektivität... Fertig.\n"
     ]
    }
   ],
   "source": [
    "if [ -e application_testing_with_capybara ]; then\n",
    "    rm -rf application_testing_with_capybara\n",
    "fi\n",
    "git clone https://github.com/kraeml/application_testing_with_capybara.git"
   ]
  },
  {
   "cell_type": "code",
   "execution_count": 16,
   "metadata": {},
   "outputs": [],
   "source": [
    "export PATH=/home/pi/bin:/usr/local/rbenv/shims:/usr/local/src/rbenv/libexec:/usr/local/bin:/usr/bin:/bin:/usr/local/games:/usr/games\n",
    "export RBENV_ROOT=/usr/local/rbenv\n",
    "eval \"$(rbenv init -)\""
   ]
  },
  {
   "cell_type": "code",
   "execution_count": 24,
   "metadata": {},
   "outputs": [],
   "source": [
    "rbenv local 2.4.1"
   ]
  },
  {
   "cell_type": "code",
   "execution_count": 25,
   "metadata": {},
   "outputs": [
    {
     "name": "stdout",
     "output_type": "stream",
     "text": [
      "ruby 2.4.1p111 (2017-03-22 revision 58053) [armv7l-linux-eabihf]\n"
     ]
    }
   ],
   "source": [
    "ruby -v"
   ]
  },
  {
   "cell_type": "code",
   "execution_count": 26,
   "metadata": {},
   "outputs": [
    {
     "name": "stdout",
     "output_type": "stream",
     "text": [
      "2.6.11\n"
     ]
    }
   ],
   "source": [
    "gem -v"
   ]
  },
  {
   "cell_type": "markdown",
   "metadata": {},
   "source": [
    "Keine gute Idee: sudo gem update --system"
   ]
  },
  {
   "cell_type": "code",
   "execution_count": 27,
   "metadata": {},
   "outputs": [
    {
     "name": "stdout",
     "output_type": "stream",
     "text": [
      "libxml2:\n",
      "  Installiert:           2.9.1+dfsg1-5+deb8u5\n",
      "  Installationskandidat: 2.9.1+dfsg1-5+deb8u5\n",
      "  Versionstabelle:\n",
      "     2.9.4+dfsg1-2.2+deb9u1 0\n",
      "        500 http://mirrordirector.raspbian.org/raspbian/ stretch/main armhf Packages\n",
      " *** 2.9.1+dfsg1-5+deb8u5 0\n",
      "        990 http://mirrordirector.raspbian.org/raspbian/ jessie/main armhf Packages\n",
      "        100 /var/lib/dpkg/status\n",
      "libxml2-dev:\n",
      "  Installiert:           2.9.1+dfsg1-5+deb8u5\n",
      "  Installationskandidat: 2.9.1+dfsg1-5+deb8u5\n",
      "  Versionstabelle:\n",
      "     2.9.4+dfsg1-2.2+deb9u1 0\n",
      "        500 http://mirrordirector.raspbian.org/raspbian/ stretch/main armhf Packages\n",
      " *** 2.9.1+dfsg1-5+deb8u5 0\n",
      "        990 http://mirrordirector.raspbian.org/raspbian/ jessie/main armhf Packages\n",
      "        100 /var/lib/dpkg/status\n",
      "libxslt1.1:\n",
      "  Installiert:           1.1.28-2+deb8u3\n",
      "  Installationskandidat: 1.1.28-2+deb8u3\n",
      "  Versionstabelle:\n",
      "     1.1.29-2.1 0\n",
      "        500 http://mirrordirector.raspbian.org/raspbian/ stretch/main armhf Packages\n",
      " *** 1.1.28-2+deb8u3 0\n",
      "        990 http://mirrordirector.raspbian.org/raspbian/ jessie/main armhf Packages\n",
      "        100 /var/lib/dpkg/status\n",
      "libxslt1-dev:\n",
      "  Installiert:           1.1.28-2+deb8u3\n",
      "  Installationskandidat: 1.1.28-2+deb8u3\n",
      "  Versionstabelle:\n",
      "     1.1.29-2.1 0\n",
      "        500 http://mirrordirector.raspbian.org/raspbian/ stretch/main armhf Packages\n",
      " *** 1.1.28-2+deb8u3 0\n",
      "        990 http://mirrordirector.raspbian.org/raspbian/ jessie/main armhf Packages\n",
      "        100 /var/lib/dpkg/status\n"
     ]
    }
   ],
   "source": [
    "apt-cache policy libxml2 libxml2-dev libxslt1.1 libxslt1-dev"
   ]
  },
  {
   "cell_type": "code",
   "execution_count": 28,
   "metadata": {},
   "outputs": [
    {
     "name": "stdout",
     "output_type": "stream",
     "text": [
      "\n",
      "*** LOCAL GEMS ***\n",
      "\n",
      "addressable (2.5.2)\n",
      "bigdecimal (default: 1.3.0)\n",
      "blankslate (2.1.2.4)\n",
      "builder (3.2.3)\n",
      "bundler (1.15.4)\n",
      "capybara (2.15.1)\n",
      "childprocess (0.7.1)\n",
      "cliver (0.3.2)\n",
      "coderay (1.1.1)\n",
      "cucumber (2.4.0)\n",
      "cucumber-core (1.5.0)\n",
      "cucumber-wire (0.0.1)\n",
      "did_you_mean (1.1.0)\n",
      "diff-lcs (1.3)\n",
      "docker-api (1.33.6)\n",
      "domain_name (0.5.20170404)\n",
      "erubis (2.7.0)\n",
      "excon (0.58.0)\n",
      "faraday (0.13.1)\n",
      "ffi (1.9.18)\n",
      "gherkin (4.1.3)\n",
      "gssapi (1.2.0)\n",
      "gyoku (1.3.1)\n",
      "hashie (3.5.6)\n",
      "htmlentities (4.3.4)\n",
      "http-cookie (1.0.3)\n",
      "httpclient (2.8.3)\n",
      "inspec (1.34.1)\n",
      "io-console (default: 0.4.6)\n",
      "json (default: 2.0.2)\n",
      "launchy (2.4.3)\n",
      "little-plugger (1.1.4)\n",
      "logging (2.2.2)\n",
      "method_source (0.8.2)\n",
      "mime-types (3.1)\n",
      "mime-types-data (3.2016.0521)\n",
      "mini_mime (0.1.4)\n",
      "mini_portile2 (2.2.0)\n",
      "minitest (5.10.1)\n",
      "mixlib-log (1.7.1)\n",
      "mixlib-shellout (2.3.2)\n",
      "multi_json (1.12.1)\n",
      "multi_test (0.1.2)\n",
      "multipart-post (2.0.0)\n",
      "mustermann (1.0.1)\n",
      "net-scp (1.2.1)\n",
      "net-ssh (4.1.0)\n",
      "net-telnet (0.1.1)\n",
      "netrc (0.11.0)\n",
      "nokogiri (1.8.0)\n",
      "nori (2.6.0)\n",
      "openssl (default: 2.0.3)\n",
      "parallel (1.12.0)\n",
      "parslet (1.5.0)\n",
      "poltergeist (1.16.0)\n",
      "power_assert (0.4.1)\n",
      "pry (0.10.4)\n",
      "psych (default: 2.2.2)\n",
      "public_suffix (3.0.0)\n",
      "rack (2.0.3)\n",
      "rack-protection (2.0.0)\n",
      "rack-test (0.7.0)\n",
      "rainbow (2.2.2)\n",
      "rake (12.0.0)\n",
      "rdoc (default: 5.0.0)\n",
      "rest-client (2.0.2)\n",
      "rspec (3.6.0)\n",
      "rspec-core (3.6.0)\n",
      "rspec-expectations (3.6.0)\n",
      "rspec-its (1.2.0)\n",
      "rspec-mocks (3.6.0)\n",
      "rspec-support (3.6.0)\n",
      "rubyntlm (0.6.2)\n",
      "rubyzip (1.2.1)\n",
      "selenium-webdriver (3.5.1)\n",
      "semverse (2.0.0)\n",
      "sinatra (2.0.0)\n",
      "slop (3.6.0)\n",
      "sslshake (1.2.0)\n",
      "test-unit (3.2.3)\n",
      "thor (0.20.0)\n",
      "tilt (2.0.8)\n",
      "toml (0.1.2)\n",
      "train (0.26.1)\n",
      "unf (0.1.4)\n",
      "unf_ext (0.0.7.4)\n",
      "websocket-driver (0.6.5)\n",
      "websocket-extensions (0.1.2)\n",
      "winrm (2.2.3)\n",
      "winrm-fs (1.0.1)\n",
      "xmlrpc (0.2.1)\n",
      "xpath (2.1.0)\n"
     ]
    }
   ],
   "source": [
    "gem list"
   ]
  },
  {
   "cell_type": "code",
   "execution_count": 31,
   "metadata": {},
   "outputs": [
    {
     "name": "stdout",
     "output_type": "stream",
     "text": [
      "1251OS.jpg  Gemfile       html       sinatra\n",
      "features    Gemfile.lock  README.md  vanilla_ruby_examples\n"
     ]
    }
   ],
   "source": [
    "cd application_testing_with_capybara\n",
    "ls"
   ]
  },
  {
   "cell_type": "code",
   "execution_count": 32,
   "metadata": {},
   "outputs": [
    {
     "name": "stdout",
     "output_type": "stream",
     "text": [
      ".\n",
      "├── 1251OS.jpg\n",
      "├── features\n",
      "│   ├── chapter1\n",
      "│   │   ├── steps\n",
      "│   │   │   └── youtube_search.rb\n",
      "│   │   └── youtube_search.feature\n",
      "│   ├── chapter2\n",
      "│   │   ├── finders.feature\n",
      "│   │   ├── form.feature\n",
      "│   │   ├── hidden.feature\n",
      "│   │   ├── multiple.feature\n",
      "│   │   ├── navigation.feature\n",
      "│   │   ├── query.feature\n",
      "│   │   ├── steps\n",
      "│   │   │   ├── finders.rb\n",
      "│   │   │   ├── form.rb\n",
      "│   │   │   ├── hidden.rb\n",
      "│   │   │   ├── multiple.rb\n",
      "│   │   │   ├── navigation.rb\n",
      "│   │   │   ├── query.rb\n",
      "│   │   │   └── within.rb\n",
      "│   │   └── within.feature\n",
      "│   ├── chapter3\n",
      "│   │   ├── sinatra.feature\n",
      "│   │   └── steps\n",
      "│   │       └── sinatra.rb\n",
      "│   ├── chapter4\n",
      "│   │   ├── ajax.feature\n",
      "│   │   ├── asynch.feature\n",
      "│   │   ├── html5.feature\n",
      "│   │   └── steps\n",
      "│   │       ├── ajax.rb\n",
      "│   │       ├── asynch.rb\n",
      "│   │       └── html5.rb\n",
      "│   ├── chapter5\n",
      "│   │   ├── cookie.feature\n",
      "│   │   ├── hover.feature\n",
      "│   │   └── steps\n",
      "│   │       └── steps.rb\n",
      "│   └── support\n",
      "│       └── env.rb\n",
      "├── Gemfile\n",
      "├── Gemfile.lock\n",
      "├── html\n",
      "│   ├── chapter2\n",
      "│   │   ├── click.html\n",
      "│   │   ├── finders.html\n",
      "│   │   ├── form.html\n",
      "│   │   ├── hidden.html\n",
      "│   │   ├── multiple.html\n",
      "│   │   ├── query.html\n",
      "│   │   ├── selectors.html\n",
      "│   │   ├── visibility.html\n",
      "│   │   └── within.html\n",
      "│   ├── chapter4\n",
      "│   │   ├── ajax.html\n",
      "│   │   ├── asynch.html\n",
      "│   │   ├── html5.html\n",
      "│   │   └── html5_jsobject.html\n",
      "│   ├── chapter5\n",
      "│   │   ├── cookie.html\n",
      "│   │   └── hover.html\n",
      "│   ├── google.png\n",
      "│   └── jquery-1.8.3.js\n",
      "├── README.md\n",
      "├── sinatra\n",
      "│   ├── app.rb\n",
      "│   ├── public\n",
      "│   │   └── css\n",
      "│   │       └── form.css\n",
      "│   ├── small.rb\n",
      "│   ├── test.rb\n",
      "│   └── views\n",
      "│       ├── form.erb\n",
      "│       └── result.erb\n",
      "└── vanilla_ruby_examples\n",
      "    ├── chapter2\n",
      "    │   └── matching_strategies.rb\n",
      "    └── chapter5\n",
      "        ├── using_modules.rb\n",
      "        └── using_session.rb\n",
      "\n",
      "23 directories, 58 files\n"
     ]
    }
   ],
   "source": [
    "tree ."
   ]
  },
  {
   "cell_type": "code",
   "execution_count": 36,
   "metadata": {},
   "outputs": [
    {
     "name": "stdout",
     "output_type": "stream",
     "text": [
      "Using builder 3.2.2\n",
      "Using bundler 1.15.4\n",
      "Using mime-types 1.25\n",
      "Using mini_portile 0.5.1\n",
      "Using rack 1.5.2\n",
      "Using ffi 1.9.0\n",
      "Using cliver 0.3.2\n",
      "Using diff-lcs 1.2.4\n",
      "Using multi_json 1.7.9\n",
      "Using multi_test 0.0.2\n",
      "Using websocket-extensions 0.1.2\n",
      "Using rspec-core 2.14.5\n",
      "Using rspec-mocks 2.14.3\n",
      "Using rubyzip 0.9.9\n",
      "Using websocket 1.0.7\n",
      "Using tilt 1.4.1\n",
      "Using nokogiri 1.6.0\n",
      "Using rack-test 0.6.2\n",
      "Using rack-protection 1.5.0\n",
      "Using childprocess 0.3.9\n",
      "Using rspec-expectations 2.14.2\n",
      "Using gherkin 2.12.1\n",
      "Using websocket-driver 0.6.5\n",
      "Using xpath 2.0.0\n",
      "Using sinatra 1.4.3\n",
      "Using selenium-webdriver 2.35.1\n",
      "Using rspec 2.14.1\n",
      "Using cucumber 1.3.6\n",
      "Using capybara 2.1.0\n",
      "Using poltergeist 1.16.0\n",
      "\u001b[32mBundle complete! 6 Gemfile dependencies, 30 gems now installed.\u001b[0m\n",
      "\u001b[32mUse `bundle info [gemname]` to see where a bundled gem is installed.\u001b[0m\n"
     ]
    }
   ],
   "source": [
    "bundle install"
   ]
  },
  {
   "cell_type": "code",
   "execution_count": 38,
   "metadata": {},
   "outputs": [
    {
     "name": "stdout",
     "output_type": "stream",
     "text": [
      "  * capybara (2.1.0)\n",
      "\tSummary: Capybara aims to simplify the process of integration testing Rack applications, such as Rails, Sinatra or Merb\n",
      "\tHomepage: http://github.com/jnicklas/capybara\n",
      "\tPath: /usr/local/rbenv/versions/2.4.1/lib/ruby/gems/2.4.0/gems/capybara-2.1.0\n"
     ]
    }
   ],
   "source": [
    "bundle info capybara"
   ]
  },
  {
   "cell_type": "code",
   "execution_count": 39,
   "metadata": {},
   "outputs": [
    {
     "name": "stdout",
     "output_type": "stream",
     "text": [
      "/usr/local/rbenv/versions/2.4.1/lib/ruby/gems/2.4.0/gems/cucumber-1.3.6/lib/cucumber/ast/step.rb:80: warning: circular argument reference - name\n",
      "WARNING: Nokogiri was built against LibXML version 2.9.1, but has dynamically loaded 2.8.0\n",
      "/usr/local/rbenv/versions/2.4.1/lib/ruby/gems/2.4.0/gems/sinatra-1.4.3/lib/sinatra/base.rb:1200: warning: constant ::Fixnum is deprecated\n",
      "/usr/local/rbenv/versions/2.4.1/lib/ruby/gems/2.4.0/gems/sinatra-1.4.3/lib/sinatra/base.rb:1200: warning: constant ::Fixnum is deprecated\n",
      "/usr/local/rbenv/versions/2.4.1/lib/ruby/gems/2.4.0/gems/sinatra-1.4.3/lib/sinatra/base.rb:1200: warning: constant ::Fixnum is deprecated\n",
      "/usr/local/rbenv/versions/2.4.1/lib/ruby/gems/2.4.0/gems/sinatra-1.4.3/lib/sinatra/base.rb:1200: warning: constant ::Fixnum is deprecated\n",
      "/usr/local/rbenv/versions/2.4.1/lib/ruby/gems/2.4.0/gems/sinatra-1.4.3/lib/sinatra/base.rb:1200: warning: constant ::Fixnum is deprecated\n",
      "Feature: Search for Videos on YouTube\n",
      "\n",
      "  Scenario: Search for Videos of Large Rodents\u001b[90m # features/chapter1/youtube_search.feature:3\u001b[0m\n",
      "    \u001b[32mGiven I am on the YouTube home page\u001b[90m        # features/chapter1/steps/youtube_search.rb:1\u001b[0m\u001b[0m\n",
      "    \u001b[32mWhen I search for \"\u001b[32m\u001b[1mcapybara rodents\u001b[0m\u001b[0m\u001b[32m\"\u001b[90m       # features/chapter1/steps/youtube_search.rb:5\u001b[0m\u001b[0m\n",
      "    \u001b[32mThen videos of large rodents are returned\u001b[90m  # features/chapter1/steps/youtube_search.rb:10\u001b[0m\u001b[0m\n",
      "\n",
      "1 scenario (\u001b[32m1 passed\u001b[0m)\n",
      "3 steps (\u001b[32m3 passed\u001b[0m)\n",
      "0m10.487s\n"
     ]
    }
   ],
   "source": [
    "bundle exec cucumber -r features features/chapter1/youtube_search.feature"
   ]
  },
  {
   "cell_type": "code",
   "execution_count": 40,
   "metadata": {},
   "outputs": [
    {
     "name": "stdout",
     "output_type": "stream",
     "text": [
      "Feature: Search for Videos on YouTube\n",
      "\n",
      "  Scenario: Search for Videos of Large Rodents\n",
      "    Given I am on the YouTube home page\n",
      "    When I search for \"capybara rodents\"\n",
      "    Then videos of large rodents are returned\n"
     ]
    }
   ],
   "source": [
    "cat features/chapter1/youtube_search.feature"
   ]
  },
  {
   "cell_type": "code",
   "execution_count": 41,
   "metadata": {},
   "outputs": [
    {
     "name": "stdout",
     "output_type": "stream",
     "text": [
      "Given(/^I am on the YouTube home page$/) do\n",
      "  visit 'http://www.youtube.com'\n",
      "end\n",
      "\n",
      "When(/^I search for \"(.*?)\"/) do |search_term|\n",
      "  fill_in 'search_query', :with => search_term\n",
      "  click_on 'search-btn'\n",
      "end\n",
      "\n",
      "Then(/^videos of large rodents are returned$/) do\n",
      "  page.should have_content 'Largest Rodent'\n",
      "end\n"
     ]
    }
   ],
   "source": [
    "cat features/chapter1/steps/youtube_search.rb"
   ]
  },
  {
   "cell_type": "code",
   "execution_count": 42,
   "metadata": {},
   "outputs": [
    {
     "name": "stdout",
     "output_type": "stream",
     "text": [
      "require 'bundler/setup'\n",
      "require 'capybara/cucumber'\n",
      "require 'rspec/expectations'\n",
      "require_relative '../../sinatra/app'\n",
      "require 'capybara/cucumber'\n",
      "require 'capybara/poltergeist'\n",
      "\n",
      "#Capybara.default_driver = :selenium\n",
      "#Capybara.default_driver = :rack_test #Use this when looking at the examples in chapter 3 and compare it with using Selenium!\n",
      "\n",
      "#Capybara.register_driver :selenium do |app|\n",
      "#  Capybara::Selenium::Driver.new(app, :browser => :firefox)\n",
      "#end\n",
      "\n",
      "#Capybara.app = BookReview #our Sinatra app\n",
      "\n",
      "if ENV['IN_BROWSER']\n",
      "  # On demand: non-headless tests via Selenium/WebDriver\n",
      "  # To run the scenarios in browser (default: Firefox), use the following command line:\n",
      "  # IN_BROWSER=true bundle exec cucumber\n",
      "  # or (to have a pause of 1 second between each step):\n",
      "  # IN_BROWSER=true PAUSE=1 bundle exec cucumber\n",
      "  Capybara.default_driver = :selenium\n",
      "  AfterStep do\n",
      "    sleep (ENV['PAUSE'] || 0).to_i\n",
      "  end\n",
      "else\n",
      "  # DEFAULT: headless tests with poltergeist/PhantomJS\n",
      "  Capybara.register_driver :poltergeist do |app|\n",
      "    Capybara::Poltergeist::Driver.new(\n",
      "      app,\n",
      "      window_size: [1280, 1024]#,\n",
      "      #debug:       true\n",
      "    )\n",
      "  end\n",
      "  Capybara.default_driver    = :poltergeist\n",
      "  Capybara.javascript_driver = :poltergeist\n",
      "end\n"
     ]
    }
   ],
   "source": [
    "cat features/support/env.rb"
   ]
  },
  {
   "cell_type": "code",
   "execution_count": null,
   "metadata": {
    "collapsed": true
   },
   "outputs": [],
   "source": []
  }
 ],
 "metadata": {
  "kernelspec": {
   "display_name": "Bash",
   "language": "bash",
   "name": "bash"
  },
  "language_info": {
   "codemirror_mode": "shell",
   "file_extension": ".sh",
   "mimetype": "text/x-sh",
   "name": "bash"
  }
 },
 "nbformat": 4,
 "nbformat_minor": 2
}
