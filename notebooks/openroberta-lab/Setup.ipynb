{
 "cells": [
  {
   "cell_type": "code",
   "execution_count": 1,
   "metadata": {},
   "outputs": [
    {
     "name": "stdout",
     "output_type": "stream",
     "text": [
      "git version 2.20.1\n"
     ]
    }
   ],
   "source": [
    "git --version"
   ]
  },
  {
   "cell_type": "code",
   "execution_count": 2,
   "metadata": {},
   "outputs": [
    {
     "name": "stdout",
     "output_type": "stream",
     "text": [
      "openjdk version \"11.0.7\" 2020-04-14\n",
      "OpenJDK Runtime Environment (build 11.0.7+10-post-Raspbian-3deb10u1)\n",
      "OpenJDK Server VM (build 11.0.7+10-post-Raspbian-3deb10u1, mixed mode)\n"
     ]
    }
   ],
   "source": [
    "java -version"
   ]
  },
  {
   "cell_type": "code",
   "execution_count": 3,
   "metadata": {},
   "outputs": [
    {
     "name": "stdout",
     "output_type": "stream",
     "text": [
      "\u001b[1mApache Maven 3.6.0\u001b[m\n",
      "Maven home: /usr/share/maven\n",
      "Java version: 11.0.7, vendor: Raspbian, runtime: /usr/lib/jvm/java-11-openjdk-armhf\n",
      "Default locale: de_DE, platform encoding: UTF-8\n",
      "OS name: \"linux\", version: \"4.19.118-v7l+\", arch: \"arm\", family: \"unix\"\n"
     ]
    }
   ],
   "source": [
    "mvn --version"
   ]
  },
  {
   "cell_type": "code",
   "execution_count": 4,
   "metadata": {},
   "outputs": [
    {
     "name": "stdout",
     "output_type": "stream",
     "text": [
      "PRETTY_NAME=\"Raspbian GNU/Linux 10 (buster)\"\n",
      "NAME=\"Raspbian GNU/Linux\"\n",
      "VERSION_ID=\"10\"\n",
      "VERSION=\"10 (buster)\"\n",
      "VERSION_CODENAME=buster\n",
      "ID=raspbian\n",
      "ID_LIKE=debian\n",
      "HOME_URL=\"http://www.raspbian.org/\"\n",
      "SUPPORT_URL=\"http://www.raspbian.org/RaspbianForums\"\n",
      "BUG_REPORT_URL=\"http://www.raspbian.org/RaspbianBugs\"\n"
     ]
    }
   ],
   "source": [
    "cat /etc/os-release"
   ]
  },
  {
   "cell_type": "code",
   "execution_count": 5,
   "metadata": {},
   "outputs": [
    {
     "name": "stdout",
     "output_type": "stream",
     "text": [
      "Linux pi4-home 4.19.118-v7l+ #1311 SMP Mon Apr 27 14:26:42 BST 2020 armv7l GNU/Linux\n"
     ]
    }
   ],
   "source": [
    "uname -a"
   ]
  },
  {
   "cell_type": "code",
   "execution_count": 6,
   "metadata": {},
   "outputs": [],
   "source": [
    "export ARCH=arm32v7"
   ]
  },
  {
   "cell_type": "code",
   "execution_count": 7,
   "metadata": {},
   "outputs": [
    {
     "name": "stdout",
     "output_type": "stream",
     "text": [
      "arm32v7\n"
     ]
    }
   ],
   "source": [
    "echo $ARCH"
   ]
  },
  {
   "cell_type": "code",
   "execution_count": 8,
   "metadata": {},
   "outputs": [
    {
     "name": "stdout",
     "output_type": "stream",
     "text": [
      "uid=1000(pirate) gid=1000(pirate) Gruppen=1000(pirate),4(adm),20(dialout),24(cdrom),27(sudo),29(audio),44(video),46(plugdev),60(games),100(users),105(input),109(netdev),996(docker),997(gpio),998(i2c),999(spi)\n"
     ]
    }
   ],
   "source": [
    "id"
   ]
  },
  {
   "cell_type": "code",
   "execution_count": 9,
   "metadata": {},
   "outputs": [
    {
     "name": "stdout",
     "output_type": "stream",
     "text": [
      "/home/pirate/notebooks/openroberta-lab\n"
     ]
    }
   ],
   "source": [
    "pwd"
   ]
  },
  {
   "cell_type": "code",
   "execution_count": 10,
   "metadata": {},
   "outputs": [
    {
     "name": "stdout",
     "output_type": "stream",
     "text": [
      "Starting Nmap 7.70 ( https://nmap.org ) at 2020-06-09 22:06 CEST\n",
      "Nmap scan report for localhost (127.0.0.1)\n",
      "Host is up (0.00085s latency).\n",
      "Not shown: 992 closed ports\n",
      "PORT     STATE SERVICE\n",
      "22/tcp   open  ssh\n",
      "25/tcp   open  smtp\n",
      "3306/tcp open  mysql\n",
      "3389/tcp open  ms-wbt-server\n",
      "8181/tcp open  intermapper\n",
      "8888/tcp open  sun-answerbook\n",
      "9002/tcp open  dynamid\n",
      "9999/tcp open  abyss\n",
      "\n",
      "Nmap done: 1 IP address (1 host up) scanned in 0.27 seconds\n"
     ]
    }
   ],
   "source": [
    "nmap localhost"
   ]
  },
  {
   "cell_type": "code",
   "execution_count": 11,
   "metadata": {},
   "outputs": [
    {
     "name": "stdout",
     "output_type": "stream",
     "text": [
      "Klone nach 'openroberta-lab' ...\n",
      "remote: Enumerating objects: 856, done.        \n",
      "remote: Counting objects: 100% (856/856), done.        \n",
      "remote: Compressing objects: 100% (461/461), done.        \n",
      "remote: Total 145104 (delta 310), reused 676 (delta 203), pack-reused 144248        \n",
      "Empfange Objekte: 100% (145104/145104), 388.39 MiB | 6.50 MiB/s, Fertig.\n",
      "Löse Unterschiede auf: 100% (80717/80717), Fertig.\n",
      "Checke Dateien aus: 100% (4481/4481), Fertig.\n"
     ]
    }
   ],
   "source": [
    "git clone https://github.com/OpenRoberta/openroberta-lab.git"
   ]
  },
  {
   "cell_type": "code",
   "execution_count": 12,
   "metadata": {},
   "outputs": [
    {
     "name": "stdout",
     "output_type": "stream",
     "text": [
      "-rwxr-xr-x 1 pirate pirate 7199 Jun  9 22:07 openroberta-lab/ora.sh\n"
     ]
    }
   ],
   "source": [
    "ls -l openroberta-lab/ora.sh"
   ]
  },
  {
   "cell_type": "markdown",
   "metadata": {},
   "source": [
    "## Operating Instructions"
   ]
  },
  {
   "cell_type": "code",
   "execution_count": 13,
   "metadata": {},
   "outputs": [
    {
     "name": "stdout",
     "output_type": "stream",
     "text": [
      "New docker setup created in pi-ora. Edit 'decl.sh' and setup databases and servers now.\n",
      "Create servers by calling './ora.sh new-server-in-docker-setup pi-ora SERVER_NAME'\n"
     ]
    }
   ],
   "source": [
    "cd openroberta-lab\n",
    "./ora.sh new-docker-setup pi-ora"
   ]
  },
  {
   "cell_type": "code",
   "execution_count": 14,
   "metadata": {},
   "outputs": [
    {
     "name": "stdout",
     "output_type": "stream",
     "text": [
      "New server test created. Edit 'pi-ora/decl.sh' and 'pi-ora/server/test/decl.sh'\n",
      "Copy an existing database or create an empty database after 'mvn clean install -DskipTests'\n",
      "by calling './ora.sh -dbParentdir pi-ora/db/test create-empty-db'\n"
     ]
    }
   ],
   "source": [
    "./ora.sh new-server-in-docker-setup pi-ora test"
   ]
  },
  {
   "cell_type": "code",
   "execution_count": 15,
   "metadata": {},
   "outputs": [
    {
     "name": "stdout",
     "output_type": "stream",
     "text": [
      "# essential configuration variables. Be very carefull!\n",
      "\n",
      "INAME=''                # the (short, alphanumeric) name of this installation\n",
      "DATABASE_SERVER_PORT='' # one database server for all jetty server. It is listening on this port. Usually this is '9001'\n",
      "DOCKER_NETWORK_NAME=''  # the network for cooperation between jetty and database server. Usually this is 'ora-net'\n",
      "\n",
      "SERVERS=''              # these servers can run (used in start-all and stop-all), e.g. 'test dev dev4'\n",
      "SERVERSXMX='-Xmx1G'     # maximum of heap size for the jetty server. CURRENTLY UNUSED. Production server needs 1G, raspi 1G or 500M\n",
      "DATABASES=''            # these databases are served by the database server, e.g. 'test dev dev4'\n",
      "DATABASEXMX='-Xmx4G'    # maximum of heap size for the database server. Production server needs 4G, raspi 1G or 500M\n",
      "AUTODEPLOY=''           # these servers are deployed when new commits hit the git repo. See auto-deploy and cron, e.g. 'dev dev4'\n",
      "\n",
      "# for operating purposes\n",
      "ALIVE_ACTIVE=true                                               # set to false if not needed\n",
      "  ALIVE_MAIL_SMTP_SERVER='smtps.iais.fraunhofer.de'               # smtp server\n",
      "  ALIVE_MAIL_SMTP_PORT='25'                                       # smtp port\n",
      "  ALIVE_MAIL_SENDER='lab-alive@open-roberta.org '                 # the name for the sender of the mail\n",
      "  ALIVE_MAIL_RECEIVER=( 'name-1@address-1' 'name-2@address-2' )   # list of receivers for the mail, white-space separated\n",
      "\n",
      "PYTHON=/usr/bin/python3 # for log file evaluation"
     ]
    }
   ],
   "source": [
    "cat pi-ora/decl.sh"
   ]
  },
  {
   "cell_type": "code",
   "execution_count": 16,
   "metadata": {},
   "outputs": [],
   "source": [
    "sed -Ei \"s/(INAME=')/\\1rdf-2020/g\" pi-ora/decl.sh"
   ]
  },
  {
   "cell_type": "code",
   "execution_count": 17,
   "metadata": {},
   "outputs": [],
   "source": [
    "sed -Ei \"s/(DATABASE_SERVER_PORT=')/\\19001/g\" pi-ora/decl.sh\n",
    "sed -Ei \"s/(DOCKER_NETWORK_NAME=')/\\1ora-net/g\" pi-ora/decl.sh\n",
    "sed -Ei \"s/(SERVERS=')/\\1test/g\" pi-ora/decl.sh\n",
    "sed -Ei \"s/(DATABASES=')/\\1test/g\" pi-ora/decl.sh\n",
    "sed -Ei \"s/(DATABASEXMX='-Xmx)4/\\12/g\" pi-ora/decl.sh"
   ]
  },
  {
   "cell_type": "code",
   "execution_count": 18,
   "metadata": {},
   "outputs": [
    {
     "name": "stdout",
     "output_type": "stream",
     "text": [
      "              total        used        free      shared  buff/cache   available\n",
      "Mem:        3999744      435744     2435896        8960     1128104     3425052\n",
      "Swap:       1048572        1536     1047036\n"
     ]
    }
   ],
   "source": [
    "free"
   ]
  },
  {
   "cell_type": "code",
   "execution_count": 19,
   "metadata": {},
   "outputs": [
    {
     "name": "stdout",
     "output_type": "stream",
     "text": [
      "# essential configuration variables. Be very carefull!\n",
      "\n",
      "INAME='rdf-2020'                # the (short, alphanumeric) name of this installation\n",
      "DATABASE_SERVER_PORT='9001' # one database server for all jetty server. It is listening on this port. Usually this is '9001'\n",
      "DOCKER_NETWORK_NAME='ora-net'  # the network for cooperation between jetty and database server. Usually this is 'ora-net'\n",
      "\n",
      "SERVERS='test'              # these servers can run (used in start-all and stop-all), e.g. 'test dev dev4'\n",
      "SERVERSXMX='-Xmx1G'     # maximum of heap size for the jetty server. CURRENTLY UNUSED. Production server needs 1G, raspi 1G or 500M\n",
      "DATABASES='test'            # these databases are served by the database server, e.g. 'test dev dev4'\n",
      "DATABASEXMX='-Xmx2G'    # maximum of heap size for the database server. Production server needs 4G, raspi 1G or 500M\n",
      "AUTODEPLOY=''           # these servers are deployed when new commits hit the git repo. See auto-deploy and cron, e.g. 'dev dev4'\n",
      "\n",
      "# for operating purposes\n",
      "ALIVE_ACTIVE=true                                               # set to false if not needed\n",
      "  ALIVE_MAIL_SMTP_SERVER='smtps.iais.fraunhofer.de'               # smtp server\n",
      "  ALIVE_MAIL_SMTP_PORT='25'                                       # smtp port\n",
      "  ALIVE_MAIL_SENDER='lab-alive@open-roberta.org '                 # the name for the sender of the mail\n",
      "  ALIVE_MAIL_RECEIVER=( 'name-1@address-1' 'name-2@address-2' )   # list of receivers for the mail, white-space separated\n",
      "\n",
      "PYTHON=/usr/bin/python3 # for log file evaluation"
     ]
    }
   ],
   "source": [
    "cat pi-ora/decl.sh"
   ]
  },
  {
   "cell_type": "code",
   "execution_count": 20,
   "metadata": {},
   "outputs": [
    {
     "name": "stdout",
     "output_type": "stream",
     "text": [
      "./Docker/openroberta/decl.sh\n",
      "./Docker/openroberta/server/_server-template/decl.sh\n",
      "./pi-ora/decl.sh\n",
      "./pi-ora/server/test/decl.sh\n",
      "./pi-ora/server/_server-template/decl.sh\n"
     ]
    }
   ],
   "source": [
    "find . -name decl.sh"
   ]
  },
  {
   "cell_type": "code",
   "execution_count": 21,
   "metadata": {},
   "outputs": [
    {
     "name": "stdout",
     "output_type": "stream",
     "text": [
      "BASE_VERSION=''           # the version of the docker base image, FROM which this server image is derived. Be careful to define the RIGHT number\n",
      "\n",
      "PORT=''                    # port the jetty server will listen to, very often 1999\n",
      "LOG_LEVEL=''               # the logging level of the root logger. From DEBUG to ERROR\n",
      "LOG_CONFIG_FILE=''         # logback configuration, very often /logback-prod.xml or /logback.xml\n",
      "\n",
      "BRANCH=''                  # the branch to be deployed on this server, e.g. 'develop'\n",
      "# COMMIT=''                # if a commit instead of a branch is deployed, e.g. '174db1b4f0'\n",
      "GIT_REPO=''                # the git repo where the branch is founf, e.g. 'openroberta-lab'\n",
      "GIT_PULL_BEFORE_BUILD=true # set to false ONLY, if you have a well-prepared, ready to use branch checked out. NEVER use such a git repo for other server deployments. NEVER.\n",
      "\n",
      "# START_ARGS='-d key1=val1 -d key2=val2' # use to supply parameter when container is started\n"
     ]
    }
   ],
   "source": [
    "cat pi-ora/server/test/decl.sh"
   ]
  },
  {
   "cell_type": "code",
   "execution_count": 22,
   "metadata": {},
   "outputs": [],
   "source": [
    "sed -Ei \"s/(BASE_VERSION=')/\\116/g\" pi-ora/server/test/decl.sh\n",
    "sed -Ei \"s/(PORT=')/\\11999/g\" pi-ora/server/test/decl.sh\n",
    "sed -Ei \"s/(LOG_LEVEL=')/\\1DEBUG/g\" pi-ora/server/test/decl.sh\n",
    "sed -Ei \"s/(LOG_CONFIG_FILE=')/\\1\\/logback.xml/g\" pi-ora/server/test/decl.sh\n",
    "sed -Ei \"s/(GIT_REPO=')/\\1openroberta-lab/g\" pi-ora/server/test/decl.sh"
   ]
  },
  {
   "cell_type": "code",
   "execution_count": 23,
   "metadata": {},
   "outputs": [],
   "source": [
    "sed -Ei \"s/(BRANCH=')/\\1master/g\" pi-ora/server/test/decl.sh"
   ]
  },
  {
   "cell_type": "code",
   "execution_count": 24,
   "metadata": {},
   "outputs": [
    {
     "name": "stdout",
     "output_type": "stream",
     "text": [
      "BASE_VERSION='16'           # the version of the docker base image, FROM which this server image is derived. Be careful to define the RIGHT number\n",
      "\n",
      "PORT='1999'                    # port the jetty server will listen to, very often 1999\n",
      "LOG_LEVEL='DEBUG'               # the logging level of the root logger. From DEBUG to ERROR\n",
      "LOG_CONFIG_FILE='/logback.xml'         # logback configuration, very often /logback-prod.xml or /logback.xml\n",
      "\n",
      "BRANCH='master'                  # the branch to be deployed on this server, e.g. 'develop'\n",
      "# COMMIT=''                # if a commit instead of a branch is deployed, e.g. '174db1b4f0'\n",
      "GIT_REPO='openroberta-lab'                # the git repo where the branch is founf, e.g. 'openroberta-lab'\n",
      "GIT_PULL_BEFORE_BUILD=true # set to false ONLY, if you have a well-prepared, ready to use branch checked out. NEVER use such a git repo for other server deployments. NEVER.\n",
      "\n",
      "# START_ARGS='-d key1=val1 -d key2=val2' # use to supply parameter when container is started\n"
     ]
    }
   ],
   "source": [
    "cat pi-ora/server/test/decl.sh"
   ]
  },
  {
   "cell_type": "code",
   "execution_count": 25,
   "metadata": {},
   "outputs": [],
   "source": [
    "cd pi-ora/git"
   ]
  },
  {
   "cell_type": "code",
   "execution_count": 26,
   "metadata": {},
   "outputs": [
    {
     "name": "stdout",
     "output_type": "stream",
     "text": [
      "Klone nach 'openroberta-lab' ...\n",
      "remote: Enumerating objects: 856, done.        \n",
      "remote: Counting objects: 100% (856/856), done.        \n",
      "remote: Compressing objects: 100% (461/461), done.        \n",
      "remote: Total 145104 (delta 310), reused 676 (delta 203), pack-reused 144248        \n",
      "Empfange Objekte: 100% (145104/145104), 388.39 MiB | 5.68 MiB/s, Fertig.\n",
      "Löse Unterschiede auf: 100% (80717/80717), Fertig.\n",
      "Checke Dateien aus: 100% (4481/4481), Fertig.\n"
     ]
    }
   ],
   "source": [
    "git clone https://github.com/OpenRoberta/openroberta-lab.git"
   ]
  },
  {
   "cell_type": "code",
   "execution_count": 27,
   "metadata": {},
   "outputs": [
    {
     "name": "stdout",
     "output_type": "stream",
     "text": [
      "/home/pirate/notebooks/openroberta-lab/openroberta-lab\n"
     ]
    }
   ],
   "source": [
    "cd ../..\n",
    "pwd"
   ]
  },
  {
   "cell_type": "code",
   "execution_count": 28,
   "metadata": {},
   "outputs": [
    {
     "name": "stdout",
     "output_type": "stream",
     "text": [
      "admin.sh          OpenRobertaServer  Resources    RobotNXT\n",
      "Docker            ora-help.txt       RobotArdu    RobotRaspberryPi\n",
      "JaxbGenerator     ora.sh             RobotEdison  RobotVorwerk\n",
      "LICENSE           pi-ora             RobotEV3     RobotWeDo\n",
      "NOTICE            pom.xml            RobotMbed    src\n",
      "OpenRobertaRobot  README.md          RobotNAO     WedoInterpreter\n"
     ]
    }
   ],
   "source": [
    "ls"
   ]
  },
  {
   "cell_type": "code",
   "execution_count": 29,
   "metadata": {},
   "outputs": [
    {
     "name": "stdout",
     "output_type": "stream",
     "text": [
      "NETWORK ID          NAME                DRIVER              SCOPE\n",
      "998870fc0249        bridge              bridge              local\n",
      "ec3caaa57eb5        host                host                local\n",
      "d5d27fda432a        none                null                local\n"
     ]
    }
   ],
   "source": [
    "docker network ls"
   ]
  },
  {
   "cell_type": "code",
   "execution_count": 30,
   "metadata": {},
   "outputs": [
    {
     "name": "stdout",
     "output_type": "stream",
     "text": [
      "******************** 2020-06-09 22:08:53 ********************\n",
      "-yes was set. Automatic 'y' for question: do you have double-checked, that the bridge network name 'ora-net' is NOT used elsewhere?\n",
      "2020-06-09 22:08:53: generating the openroberta bridge network 'ora-net'\n",
      "4e478575e56e6b4bb4056734ab0fd88bcc1de56cc0c15aa7b991da9a0ffc3422\n",
      "generating the openroberta bridge network 'ora-net' finished\n"
     ]
    }
   ],
   "source": [
    "pi-ora/scripts/run.sh -q -yes gen-net"
   ]
  },
  {
   "cell_type": "code",
   "execution_count": 31,
   "metadata": {},
   "outputs": [
    {
     "name": "stdout",
     "output_type": "stream",
     "text": [
      "NETWORK ID          NAME                DRIVER              SCOPE\n",
      "998870fc0249        bridge              bridge              local\n",
      "ec3caaa57eb5        host                host                local\n",
      "d5d27fda432a        none                null                local\n",
      "4e478575e56e        ora-net             bridge              local\n"
     ]
    }
   ],
   "source": [
    "docker network ls"
   ]
  },
  {
   "cell_type": "code",
   "execution_count": 32,
   "metadata": {},
   "outputs": [
    {
     "name": "stdout",
     "output_type": "stream",
     "text": [
      "WARNING: An illegal reflective access operation has occurred\n",
      "WARNING: Illegal reflective access by com.google.inject.internal.cglib.core.$ReflectUtils$1 (file:/usr/share/maven/lib/guice.jar) to method java.lang.ClassLoader.defineClass(java.lang.String,byte[],int,int,java.security.ProtectionDomain)\n",
      "WARNING: Please consider reporting this to the maintainers of com.google.inject.internal.cglib.core.$ReflectUtils$1\n",
      "WARNING: Use --illegal-access=warn to enable warnings of further illegal reflective access operations\n",
      "WARNING: All illegal access operations will be denied in a future release\n"
     ]
    }
   ],
   "source": [
    "mvn --quiet clean install -DskipTests"
   ]
  },
  {
   "cell_type": "code",
   "execution_count": 33,
   "metadata": {
    "collapsed": true,
    "jupyter": {
     "outputs_hidden": true
    }
   },
   "outputs": [
    {
     "name": "stdout",
     "output_type": "stream",
     "text": [
      "creating an empty db using the url jdbc:hsqldb:file:pi-ora/db/test/openroberta-db - an existing db is NOT overwritten\n",
      "2020-06-09 22:10:51,722 [main] session-id=[] user-id=[] robot-name=[] INFO d.f.iais.roberta.main.Administration - *** create-empty-db ***\n",
      "2020-06-09 22:10:51,945 [main] session-id=[] user-id=[] robot-name=[] DEBUG org.jboss.logging - Logging Provider: org.jboss.logging.Slf4jLoggerProvider\n",
      "WARNING: An illegal reflective access operation has occurred\n",
      "WARNING: Illegal reflective access by org.dom4j.io.SAXContentHandler (file:/home/pirate/notebooks/openroberta-lab/openroberta-lab/OpenRobertaServer/target/resources/dom4j-1.6.1.jar) to method com.sun.org.apache.xerces.internal.parsers.AbstractSAXParser$LocatorProxy.getEncoding()\n",
      "WARNING: Please consider reporting this to the maintainers of org.dom4j.io.SAXContentHandler\n",
      "WARNING: Use --illegal-access=warn to enable warnings of further illegal reflective access operations\n",
      "WARNING: All illegal access operations will be denied in a future release\n",
      "Juni 09, 2020 10:10:52 NACHM. com.mchange.v2.log.MLog <clinit>\n",
      "INFORMATION: MLog clients using java 1.4+ standard logging.\n",
      "Juni 09, 2020 10:10:53 NACHM. com.mchange.v2.c3p0.C3P0Registry banner\n",
      "INFORMATION: Initializing c3p0-0.9.2.1 [built 20-March-2013 10:47:27 +0000; debug? true; trace: 10]\n",
      "Juni 09, 2020 10:10:53 NACHM. com.mchange.v2.c3p0.impl.AbstractPoolBackedDataSource getPoolManager\n",
      "INFORMATION: Initializing c3p0 pool... com.mchange.v2.c3p0.PoolBackedDataSource@eb63906d [ connectionPoolDataSource -> com.mchange.v2.c3p0.WrapperConnectionPoolDataSource@bda28c58 [ acquireIncrement -> 3, acquireRetryAttempts -> 30, acquireRetryDelay -> 1000, autoCommitOnClose -> true, automaticTestTable -> null, breakAfterAcquireFailure -> false, checkoutTimeout -> 0, connectionCustomizerClassName -> null, connectionTesterClassName -> com.mchange.v2.c3p0.impl.DefaultConnectionTester, debugUnreturnedConnectionStackTraces -> false, factoryClassLocation -> null, forceIgnoreUnresolvedTransactions -> false, identityToken -> z8kfsxaa16xbpxo4clhso|15a12ae, idleConnectionTestPeriod -> 300, initialPoolSize -> 5, maxAdministrativeTaskTime -> 0, maxConnectionAge -> 0, maxIdleTime -> 700, maxIdleTimeExcessConnections -> 0, maxPoolSize -> 100, maxStatements -> 100, maxStatementsPerConnection -> 0, minPoolSize -> 5, nestedDataSource -> com.mchange.v2.c3p0.DriverManagerDataSource@c8ceef6c [ description -> null, driverClass -> null, factoryClassLocation -> null, identityToken -> z8kfsxaa16xbpxo4clhso|1010bf0, jdbcUrl -> jdbc:hsqldb:file:pi-ora/db/test/openroberta-db, properties -> {password=******, autocommit=false, user=******} ], preferredTestQuery -> null, propertyCycle -> 0, statementCacheNumDeferredCloseThreads -> 1, testConnectionOnCheckin -> false, testConnectionOnCheckout -> true, unreturnedConnectionTimeout -> 0, usesTraditionalReflectiveProxies -> false; userOverrides: {} ], dataSourceName -> null, factoryClassLocation -> null, identityToken -> z8kfsxaa16xbpxo4clhso|7634b9, numHelperThreads -> 3 ]\n",
      "Juni 09, 2020 10:10:54 NACHM. org.hsqldb.persist.Logger logInfoEvent\n",
      "INFORMATION: Checkpoint start\n",
      "Juni 09, 2020 10:10:54 NACHM. org.hsqldb.persist.Logger logInfoEvent\n",
      "INFORMATION: checkpointClose start\n",
      "Juni 09, 2020 10:10:54 NACHM. org.hsqldb.persist.Logger logInfoEvent\n",
      "INFORMATION: checkpointClose synched\n",
      "Juni 09, 2020 10:10:54 NACHM. org.hsqldb.persist.Logger logInfoEvent\n",
      "INFORMATION: checkpointClose script done\n",
      "Juni 09, 2020 10:10:54 NACHM. org.hsqldb.persist.Logger logInfoEvent\n",
      "INFORMATION: checkpointClose end\n",
      "Juni 09, 2020 10:10:54 NACHM. org.hsqldb.persist.Logger logInfoEvent\n",
      "INFORMATION: Checkpoint end - txts: 1\n",
      "2020-06-09 22:10:56,134 [main] session-id=[] user-id=[] robot-name=[] INFO d.f.i.r.p.util.SessionFactoryWrapper - session factory successfully created for dbUrl: jdbc:hsqldb:file:pi-ora/db/test/openroberta-db - now checking database upgrade\n",
      "2020-06-09 22:10:56,361 [main] session-id=[] user-id=[] robot-name=[] DEBUG d.f.i.r.persistence.util.DbExecutor - 0\n",
      "2020-06-09 22:10:56,367 [main] session-id=[] user-id=[] robot-name=[] INFO d.f.i.r.persistence.util.DbUpgrader - a new, empty db is being created. No upgrades, of course\n",
      "2020-06-09 22:10:56,485 [main] session-id=[] user-id=[] robot-name=[] DEBUG d.f.i.r.persistence.util.DbExecutor - 0\n",
      "2020-06-09 22:10:56,488 [main] session-id=[] user-id=[] robot-name=[] DEBUG d.f.i.r.persistence.util.DbExecutor - DDL: create cached table USER ( \n",
      "ID INTEGER not null, \n",
      "ACCOUNT varchar(255) not null, \n",
      "PASSWORD  varchar(255) not null, \n",
      "EMAIL varchar(255), \n",
      "ROLE varchar(32) not null, \n",
      "CREATED timestamp not null, \n",
      "LAST_LOGIN timestamp not null, \n",
      "TAGS varchar(16M), -- e.g. HERDER-GYMNASIUM KÖLN Q1 ED_SHEERAN \n",
      "USER_NAME varchar(255), \n",
      "YOUNGER_THAN_14 boolean default false not null, \n",
      "ACTIVATED boolean default false not null, \n",
      "primary key (ID) \n",
      ")\n",
      "2020-06-09 22:10:56,505 [main] session-id=[] user-id=[] robot-name=[] DEBUG d.f.i.r.persistence.util.DbExecutor - rows affected (probably 0): 0\n",
      "2020-06-09 22:10:56,506 [main] session-id=[] user-id=[] robot-name=[] DEBUG d.f.i.r.persistence.util.DbExecutor - DDL: create cached table LOST_PASSWORD ( \n",
      "ID INTEGER not null, \n",
      "USER_ID INTEGER not null, \n",
      "URL_POSTFIX varchar(255), \n",
      "CREATED timestamp not null, \n",
      "primary key (ID) \n",
      ")\n",
      "2020-06-09 22:10:56,512 [main] session-id=[] user-id=[] robot-name=[] DEBUG d.f.i.r.persistence.util.DbExecutor - rows affected (probably 0): 0\n",
      "2020-06-09 22:10:56,513 [main] session-id=[] user-id=[] robot-name=[] DEBUG d.f.i.r.persistence.util.DbExecutor - DDL: create cached table PENDING_EMAIL_CONFIRMATIONS ( \n",
      "ID INTEGER not null, \n",
      "USER_ID INTEGER not null, \n",
      "URL_POSTFIX varchar(255), \n",
      "CREATED timestamp not null, \n",
      "primary key (ID) \n",
      ")\n",
      "2020-06-09 22:10:56,521 [main] session-id=[] user-id=[] robot-name=[] DEBUG d.f.i.r.persistence.util.DbExecutor - rows affected (probably 0): 0\n",
      "2020-06-09 22:10:56,522 [main] session-id=[] user-id=[] robot-name=[] DEBUG d.f.i.r.persistence.util.DbExecutor - DDL: create cached table ROBOT ( \n",
      "ID INTEGER not null, \n",
      "NAME varchar(255) not null, \n",
      "CREATED timestamp not null, \n",
      "TAGS varchar(16M), \n",
      "ICON_NUMBER integer not null, \n",
      "primary key (ID), \n",
      ")\n",
      "2020-06-09 22:10:56,533 [main] session-id=[] user-id=[] robot-name=[] DEBUG d.f.i.r.persistence.util.DbExecutor - rows affected (probably 0): 0\n",
      "2020-06-09 22:10:56,534 [main] session-id=[] user-id=[] robot-name=[] DEBUG d.f.i.r.persistence.util.DbExecutor - DDL: create cached table PROGRAM ( \n",
      "ID INTEGER not null, \n",
      "NAME varchar(255) not null, \n",
      "OWNER_ID INTEGER not null, \n",
      "AUTHOR_ID INTEGER not null, \n",
      "ROBOT_ID INTEGER not null, \n",
      "PROGRAM_TEXT varchar(16M), \n",
      "CONFIG_NAME varchar(255), \n",
      "CONFIG_HASH varchar(255), \n",
      "CREATED timestamp not null, \n",
      "LAST_CHANGED timestamp not null, \n",
      "LAST_CHECKED timestamp, \n",
      "LAST_ERRORFREE timestamp, \n",
      "VIEWED INTEGER, \n",
      "TAGS varchar(16M), -- e.g. CAR AUTONOMOUS COOL 3WHEELS \n",
      "ICON_NUMBER integer not null, \n",
      "primary key (ID) \n",
      ")\n",
      "2020-06-09 22:10:56,544 [main] session-id=[] user-id=[] robot-name=[] DEBUG d.f.i.r.persistence.util.DbExecutor - rows affected (probably 0): 0\n",
      "2020-06-09 22:10:56,545 [main] session-id=[] user-id=[] robot-name=[] DEBUG d.f.i.r.persistence.util.DbExecutor - DDL: create cached table USER_PROGRAM ( \n",
      "ID INTEGER not null, \n",
      "USER_ID INTEGER not null, \n",
      "PROGRAM_ID INTEGER not null, \n",
      "RELATION varchar(32) not null -- 1 READ access, 2 WRITE access, 4 DELETE right, (really? not yet used) 8 PROMOTE_READ right, 16 PROMOTE_WRITE right \n",
      ")\n",
      "2020-06-09 22:10:56,551 [main] session-id=[] user-id=[] robot-name=[] DEBUG d.f.i.r.persistence.util.DbExecutor - rows affected (probably 0): 0\n",
      "2020-06-09 22:10:56,552 [main] session-id=[] user-id=[] robot-name=[] DEBUG d.f.i.r.persistence.util.DbExecutor - DDL: create cached table USER_PROGRAM_LIKE ( \n",
      "ID INTEGER not null, \n",
      "USER_ID INTEGER not null, \n",
      "PROGRAM_ID INTEGER not null, \n",
      "CREATED timestamp not null, \n",
      "MARK varchar(16M), \n",
      "COMMENT varchar(16M) \n",
      ")\n",
      "2020-06-09 22:10:56,558 [main] session-id=[] user-id=[] robot-name=[] DEBUG d.f.i.r.persistence.util.DbExecutor - rows affected (probably 0): 0\n",
      "2020-06-09 22:10:56,559 [main] session-id=[] user-id=[] robot-name=[] DEBUG d.f.i.r.persistence.util.DbExecutor - DDL: create table TOOLBOX ( \n",
      "ID INTEGER not null, \n",
      "NAME varchar(255) not null, \n",
      "OWNER_ID INTEGER, \n",
      "ROBOT_ID INTEGER not null, \n",
      "TOOLBOX_TEXT varchar(16M), \n",
      "CREATED timestamp not null, \n",
      "LAST_CHANGED timestamp not null, \n",
      "LAST_CHECKED timestamp, \n",
      "LAST_ERRORFREE timestamp, \n",
      "TAGS varchar(16M), -- e.g. CAR AUTONOMOUS COOL 3WHEELS \n",
      "ICON_NUMBER integer not null, \n",
      "primary key (ID) \n",
      ")\n",
      "2020-06-09 22:10:56,569 [main] session-id=[] user-id=[] robot-name=[] DEBUG d.f.i.r.persistence.util.DbExecutor - rows affected (probably 0): 0\n",
      "2020-06-09 22:10:56,570 [main] session-id=[] user-id=[] robot-name=[] DEBUG d.f.i.r.persistence.util.DbExecutor - DDL: create cached table CONFIGURATION ( \n",
      "ID INTEGER not null, \n",
      "NAME varchar(255) not null, \n",
      "OWNER_ID INTEGER, \n",
      "ROBOT_ID INTEGER not null, \n",
      "CONFIGURATION_HASH varchar(255), \n",
      "CREATED timestamp not null, \n",
      "LAST_CHANGED timestamp not null, \n",
      "LAST_CHECKED timestamp, \n",
      "LAST_ERRORFREE timestamp, \n",
      "TAGS varchar(16M), -- e.g. CAR AUTONOMOUS COOL 3WHEELS \n",
      "ICON_NUMBER integer not null, \n",
      "primary key (ID) \n",
      ")\n",
      "2020-06-09 22:10:56,578 [main] session-id=[] user-id=[] robot-name=[] DEBUG d.f.i.r.persistence.util.DbExecutor - rows affected (probably 0): 0\n",
      "2020-06-09 22:10:56,579 [main] session-id=[] user-id=[] robot-name=[] DEBUG d.f.i.r.persistence.util.DbExecutor - DDL: create cached table CONFIGURATION_DATA ( \n",
      "CONFIGURATION_HASH varchar(255) not null, \n",
      "CONFIGURATION_TEXT varchar(16M) not null, \n",
      "primary key (CONFIGURATION_HASH) \n",
      ")\n",
      "2020-06-09 22:10:56,583 [main] session-id=[] user-id=[] robot-name=[] DEBUG d.f.i.r.persistence.util.DbExecutor - rows affected (probably 0): 0\n",
      "2020-06-09 22:10:56,584 [main] session-id=[] user-id=[] robot-name=[] DEBUG d.f.i.r.persistence.util.DbExecutor - UPD: commit\n",
      "2020-06-09 22:10:56,588 [main] session-id=[] user-id=[] robot-name=[] DEBUG d.f.i.r.persistence.util.DbExecutor - rows affected: 0\n",
      "2020-06-09 22:10:56,589 [main] session-id=[] user-id=[] robot-name=[] INFO d.f.i.r.persistence.util.DbExecutor - 11 SQL-statements executed\n",
      "2020-06-09 22:10:56,592 [main] session-id=[] user-id=[] robot-name=[] DEBUG d.f.i.r.persistence.util.DbExecutor - DDL: create unique index accountIdx on USER(ACCOUNT)\n",
      "Juni 09, 2020 10:10:56 NACHM. org.hsqldb.persist.Logger logInfoEvent\n",
      "INFORMATION: dataFileCache open start\n",
      "Juni 09, 2020 10:10:56 NACHM. org.hsqldb.persist.Logger logInfoEvent\n",
      "INFORMATION: dataFileCache open end\n",
      "2020-06-09 22:10:56,638 [main] session-id=[] user-id=[] robot-name=[] DEBUG d.f.i.r.persistence.util.DbExecutor - rows affected (probably 0): 0\n",
      "2020-06-09 22:10:56,639 [main] session-id=[] user-id=[] robot-name=[] DEBUG d.f.i.r.persistence.util.DbExecutor - DDL: alter table LOST_PASSWORD               add foreign key (USER_ID) references USER(ID) ON DELETE CASCADE\n",
      "2020-06-09 22:10:56,647 [main] session-id=[] user-id=[] robot-name=[] DEBUG d.f.i.r.persistence.util.DbExecutor - rows affected (probably 0): 0\n",
      "2020-06-09 22:10:56,647 [main] session-id=[] user-id=[] robot-name=[] DEBUG d.f.i.r.persistence.util.DbExecutor - DDL: alter table PENDING_EMAIL_CONFIRMATIONS add foreign key (USER_ID) references USER(ID) ON DELETE CASCADE\n",
      "2020-06-09 22:10:56,657 [main] session-id=[] user-id=[] robot-name=[] DEBUG d.f.i.r.persistence.util.DbExecutor - rows affected (probably 0): 0\n",
      "2020-06-09 22:10:56,658 [main] session-id=[] user-id=[] robot-name=[] DEBUG d.f.i.r.persistence.util.DbExecutor - DDL: create unique index typeIdx on ROBOT(NAME)\n",
      "2020-06-09 22:10:56,661 [main] session-id=[] user-id=[] robot-name=[] DEBUG d.f.i.r.persistence.util.DbExecutor - rows affected (probably 0): 0\n",
      "2020-06-09 22:10:56,662 [main] session-id=[] user-id=[] robot-name=[] DEBUG d.f.i.r.persistence.util.DbExecutor - UPD: commit\n",
      "2020-06-09 22:10:56,665 [main] session-id=[] user-id=[] robot-name=[] DEBUG d.f.i.r.persistence.util.DbExecutor - rows affected: 0\n",
      "2020-06-09 22:10:56,665 [main] session-id=[] user-id=[] robot-name=[] DEBUG d.f.i.r.persistence.util.DbExecutor - DDL: alter table PROGRAM add foreign key (OWNER_ID)  references USER(ID) ON DELETE CASCADE\n",
      "2020-06-09 22:10:56,674 [main] session-id=[] user-id=[] robot-name=[] DEBUG d.f.i.r.persistence.util.DbExecutor - rows affected (probably 0): 0\n",
      "2020-06-09 22:10:56,674 [main] session-id=[] user-id=[] robot-name=[] DEBUG d.f.i.r.persistence.util.DbExecutor - DDL: alter table PROGRAM add foreign key (ROBOT_ID)  references ROBOT(ID)\n",
      "2020-06-09 22:10:56,683 [main] session-id=[] user-id=[] robot-name=[] DEBUG d.f.i.r.persistence.util.DbExecutor - rows affected (probably 0): 0\n",
      "2020-06-09 22:10:56,683 [main] session-id=[] user-id=[] robot-name=[] DEBUG d.f.i.r.persistence.util.DbExecutor - DDL: alter table PROGRAM add foreign key (AUTHOR_ID) references USER(ID) ON DELETE CASCADE\n",
      "2020-06-09 22:10:56,692 [main] session-id=[] user-id=[] robot-name=[] DEBUG d.f.i.r.persistence.util.DbExecutor - rows affected (probably 0): 0\n",
      "2020-06-09 22:10:56,692 [main] session-id=[] user-id=[] robot-name=[] DEBUG d.f.i.r.persistence.util.DbExecutor - UPD: commit\n",
      "2020-06-09 22:10:56,693 [main] session-id=[] user-id=[] robot-name=[] DEBUG d.f.i.r.persistence.util.DbExecutor - rows affected: 0\n",
      "2020-06-09 22:10:56,694 [main] session-id=[] user-id=[] robot-name=[] DEBUG d.f.i.r.persistence.util.DbExecutor - DDL: create unique index progNameOwnerRobotIdx on PROGRAM(NAME, OWNER_ID, ROBOT_ID, AUTHOR_ID)\n",
      "2020-06-09 22:10:56,697 [main] session-id=[] user-id=[] robot-name=[] DEBUG d.f.i.r.persistence.util.DbExecutor - rows affected (probably 0): 0\n",
      "2020-06-09 22:10:56,697 [main] session-id=[] user-id=[] robot-name=[] DEBUG d.f.i.r.persistence.util.DbExecutor - UPD: commit\n",
      "2020-06-09 22:10:56,699 [main] session-id=[] user-id=[] robot-name=[] DEBUG d.f.i.r.persistence.util.DbExecutor - rows affected: 0\n",
      "2020-06-09 22:10:56,699 [main] session-id=[] user-id=[] robot-name=[] DEBUG d.f.i.r.persistence.util.DbExecutor - DDL: alter table USER_PROGRAM      add foreign key (USER_ID)    references USER(ID) ON DELETE CASCADE\n",
      "2020-06-09 22:10:56,708 [main] session-id=[] user-id=[] robot-name=[] DEBUG d.f.i.r.persistence.util.DbExecutor - rows affected (probably 0): 0\n",
      "2020-06-09 22:10:56,708 [main] session-id=[] user-id=[] robot-name=[] DEBUG d.f.i.r.persistence.util.DbExecutor - DDL: alter table USER_PROGRAM      add foreign key (PROGRAM_ID) references PROGRAM(ID) ON DELETE CASCADE\n",
      "2020-06-09 22:10:56,715 [main] session-id=[] user-id=[] robot-name=[] DEBUG d.f.i.r.persistence.util.DbExecutor - rows affected (probably 0): 0\n",
      "2020-06-09 22:10:56,715 [main] session-id=[] user-id=[] robot-name=[] DEBUG d.f.i.r.persistence.util.DbExecutor - DDL: alter table USER_PROGRAM_LIKE add foreign key (USER_ID)    references USER(ID) ON DELETE CASCADE\n",
      "2020-06-09 22:10:56,722 [main] session-id=[] user-id=[] robot-name=[] DEBUG d.f.i.r.persistence.util.DbExecutor - rows affected (probably 0): 0\n",
      "2020-06-09 22:10:56,722 [main] session-id=[] user-id=[] robot-name=[] DEBUG d.f.i.r.persistence.util.DbExecutor - DDL: alter table USER_PROGRAM_LIKE add foreign key (PROGRAM_ID) references PROGRAM(ID) ON DELETE CASCADE\n",
      "2020-06-09 22:10:56,730 [main] session-id=[] user-id=[] robot-name=[] DEBUG d.f.i.r.persistence.util.DbExecutor - rows affected (probably 0): 0\n",
      "2020-06-09 22:10:56,730 [main] session-id=[] user-id=[] robot-name=[] DEBUG d.f.i.r.persistence.util.DbExecutor - DDL: create unique index userProgramLikeIdx on USER_PROGRAM_LIKE(USER_ID, PROGRAM_ID)\n",
      "2020-06-09 22:10:56,733 [main] session-id=[] user-id=[] robot-name=[] DEBUG d.f.i.r.persistence.util.DbExecutor - rows affected (probably 0): 0\n",
      "2020-06-09 22:10:56,733 [main] session-id=[] user-id=[] robot-name=[] DEBUG d.f.i.r.persistence.util.DbExecutor - UPD: commit\n",
      "2020-06-09 22:10:56,735 [main] session-id=[] user-id=[] robot-name=[] DEBUG d.f.i.r.persistence.util.DbExecutor - rows affected: 0\n",
      "2020-06-09 22:10:56,735 [main] session-id=[] user-id=[] robot-name=[] DEBUG d.f.i.r.persistence.util.DbExecutor - DDL: alter table TOOLBOX add foreign key (OWNER_ID) references USER(ID) ON DELETE CASCADE\n",
      "2020-06-09 22:10:56,744 [main] session-id=[] user-id=[] robot-name=[] DEBUG d.f.i.r.persistence.util.DbExecutor - rows affected (probably 0): 0\n",
      "2020-06-09 22:10:56,744 [main] session-id=[] user-id=[] robot-name=[] DEBUG d.f.i.r.persistence.util.DbExecutor - DDL: alter table TOOLBOX add foreign key (ROBOT_ID) references ROBOT(ID)\n",
      "2020-06-09 22:10:56,752 [main] session-id=[] user-id=[] robot-name=[] DEBUG d.f.i.r.persistence.util.DbExecutor - rows affected (probably 0): 0\n",
      "2020-06-09 22:10:56,753 [main] session-id=[] user-id=[] robot-name=[] DEBUG d.f.i.r.persistence.util.DbExecutor - DDL: create unique index toolNameOwnerIdx on TOOLBOX(NAME, OWNER_ID, ROBOT_ID)\n",
      "2020-06-09 22:10:56,756 [main] session-id=[] user-id=[] robot-name=[] DEBUG d.f.i.r.persistence.util.DbExecutor - rows affected (probably 0): 0\n",
      "2020-06-09 22:10:56,757 [main] session-id=[] user-id=[] robot-name=[] DEBUG d.f.i.r.persistence.util.DbExecutor - UPD: commit\n",
      "2020-06-09 22:10:56,759 [main] session-id=[] user-id=[] robot-name=[] DEBUG d.f.i.r.persistence.util.DbExecutor - rows affected: 0\n",
      "2020-06-09 22:10:56,760 [main] session-id=[] user-id=[] robot-name=[] DEBUG d.f.i.r.persistence.util.DbExecutor - DDL: alter table CONFIGURATION add foreign key (OWNER_ID) references USER(ID) ON DELETE CASCADE\n",
      "2020-06-09 22:10:56,769 [main] session-id=[] user-id=[] robot-name=[] DEBUG d.f.i.r.persistence.util.DbExecutor - rows affected (probably 0): 0\n",
      "2020-06-09 22:10:56,770 [main] session-id=[] user-id=[] robot-name=[] DEBUG d.f.i.r.persistence.util.DbExecutor - DDL: alter table CONFIGURATION add foreign key (ROBOT_ID) references ROBOT(ID)\n",
      "2020-06-09 22:10:56,779 [main] session-id=[] user-id=[] robot-name=[] DEBUG d.f.i.r.persistence.util.DbExecutor - rows affected (probably 0): 0\n",
      "2020-06-09 22:10:56,779 [main] session-id=[] user-id=[] robot-name=[] DEBUG d.f.i.r.persistence.util.DbExecutor - UPD: commit\n",
      "2020-06-09 22:10:56,781 [main] session-id=[] user-id=[] robot-name=[] DEBUG d.f.i.r.persistence.util.DbExecutor - rows affected: 0\n",
      "2020-06-09 22:10:56,781 [main] session-id=[] user-id=[] robot-name=[] DEBUG d.f.i.r.persistence.util.DbExecutor - DDL: alter table USER                        alter column ID generated by default as identity (start with 1)\n",
      "2020-06-09 22:10:56,786 [main] session-id=[] user-id=[] robot-name=[] DEBUG d.f.i.r.persistence.util.DbExecutor - rows affected (probably 0): 0\n",
      "2020-06-09 22:10:56,787 [main] session-id=[] user-id=[] robot-name=[] DEBUG d.f.i.r.persistence.util.DbExecutor - DDL: alter table LOST_PASSWORD               alter column ID generated by default as identity (start with 1)\n",
      "2020-06-09 22:10:56,794 [main] session-id=[] user-id=[] robot-name=[] DEBUG d.f.i.r.persistence.util.DbExecutor - rows affected (probably 0): 0\n",
      "2020-06-09 22:10:56,795 [main] session-id=[] user-id=[] robot-name=[] DEBUG d.f.i.r.persistence.util.DbExecutor - DDL: alter table PENDING_EMAIL_CONFIRMATIONS alter column ID generated by default as identity (start with 1)\n",
      "2020-06-09 22:10:56,802 [main] session-id=[] user-id=[] robot-name=[] DEBUG d.f.i.r.persistence.util.DbExecutor - rows affected (probably 0): 0\n",
      "2020-06-09 22:10:56,803 [main] session-id=[] user-id=[] robot-name=[] DEBUG d.f.i.r.persistence.util.DbExecutor - DDL: alter table ROBOT                       alter column ID generated by default as identity (start with 42)\n",
      "2020-06-09 22:10:56,811 [main] session-id=[] user-id=[] robot-name=[] DEBUG d.f.i.r.persistence.util.DbExecutor - rows affected (probably 0): 0\n",
      "2020-06-09 22:10:56,812 [main] session-id=[] user-id=[] robot-name=[] DEBUG d.f.i.r.persistence.util.DbExecutor - DDL: alter table PROGRAM                     alter column ID generated by default as identity (start with 42)\n",
      "2020-06-09 22:10:56,818 [main] session-id=[] user-id=[] robot-name=[] DEBUG d.f.i.r.persistence.util.DbExecutor - rows affected (probably 0): 0\n",
      "2020-06-09 22:10:56,819 [main] session-id=[] user-id=[] robot-name=[] DEBUG d.f.i.r.persistence.util.DbExecutor - DDL: alter table USER_PROGRAM                alter column ID generated by default as identity (start with 42)\n",
      "2020-06-09 22:10:56,824 [main] session-id=[] user-id=[] robot-name=[] DEBUG d.f.i.r.persistence.util.DbExecutor - rows affected (probably 0): 0\n",
      "2020-06-09 22:10:56,825 [main] session-id=[] user-id=[] robot-name=[] DEBUG d.f.i.r.persistence.util.DbExecutor - DDL: alter table USER_PROGRAM_LIKE           alter column ID generated by default as identity (start with 42)\n",
      "2020-06-09 22:10:56,832 [main] session-id=[] user-id=[] robot-name=[] DEBUG d.f.i.r.persistence.util.DbExecutor - rows affected (probably 0): 0\n",
      "2020-06-09 22:10:56,835 [main] session-id=[] user-id=[] robot-name=[] DEBUG d.f.i.r.persistence.util.DbExecutor - DDL: alter table TOOLBOX                     alter column ID generated by default as identity (start with 42)\n",
      "2020-06-09 22:10:56,839 [main] session-id=[] user-id=[] robot-name=[] DEBUG d.f.i.r.persistence.util.DbExecutor - rows affected (probably 0): 0\n",
      "2020-06-09 22:10:56,842 [main] session-id=[] user-id=[] robot-name=[] DEBUG d.f.i.r.persistence.util.DbExecutor - DDL: alter table CONFIGURATION               alter column ID generated by default as identity (start with 42)\n",
      "2020-06-09 22:10:56,847 [main] session-id=[] user-id=[] robot-name=[] DEBUG d.f.i.r.persistence.util.DbExecutor - rows affected (probably 0): 0\n",
      "2020-06-09 22:10:56,847 [main] session-id=[] user-id=[] robot-name=[] DEBUG d.f.i.r.persistence.util.DbExecutor - UPD: commit\n",
      "2020-06-09 22:10:56,849 [main] session-id=[] user-id=[] robot-name=[] DEBUG d.f.i.r.persistence.util.DbExecutor - rows affected: 0\n",
      "2020-06-09 22:10:56,850 [main] session-id=[] user-id=[] robot-name=[] INFO d.f.i.r.persistence.util.DbExecutor - 34 SQL-statements executed\n",
      "2020-06-09 22:10:56,853 [main] session-id=[] user-id=[] robot-name=[] DEBUG d.f.i.r.persistence.util.DbExecutor - UPD: insert into ROBOT \n",
      "( NAME, CREATED, TAGS, ICON_NUMBER ) \n",
      "values('ev3', \n",
      "now, \n",
      "'', 0 \n",
      ")\n",
      "2020-06-09 22:10:56,886 [main] session-id=[] user-id=[] robot-name=[] DEBUG d.f.i.r.persistence.util.DbExecutor - rows affected: 1\n",
      "2020-06-09 22:10:56,887 [main] session-id=[] user-id=[] robot-name=[] DEBUG d.f.i.r.persistence.util.DbExecutor - UPD: commit\n",
      "2020-06-09 22:10:56,889 [main] session-id=[] user-id=[] robot-name=[] DEBUG d.f.i.r.persistence.util.DbExecutor - rows affected: 0\n",
      "2020-06-09 22:10:56,889 [main] session-id=[] user-id=[] robot-name=[] DEBUG d.f.i.r.persistence.util.DbExecutor - UPD: insert into USER \n",
      "(ACCOUNT, PASSWORD, EMAIL, ROLE, CREATED, LAST_LOGIN, TAGS, USER_NAME) \n",
      "values ('Roberta','f17a0084220e822e:313c4eda282166163f78cd0b13da3b66f5ed6a0e','','TEACHER',now ,now ,'','Roberta Roboter' \n",
      ")\n",
      "2020-06-09 22:10:56,896 [main] session-id=[] user-id=[] robot-name=[] DEBUG d.f.i.r.persistence.util.DbExecutor - rows affected: 1\n",
      "2020-06-09 22:10:56,896 [main] session-id=[] user-id=[] robot-name=[] DEBUG d.f.i.r.persistence.util.DbExecutor - UPD: commit\n",
      "2020-06-09 22:10:56,898 [main] session-id=[] user-id=[] robot-name=[] DEBUG d.f.i.r.persistence.util.DbExecutor - rows affected: 0\n",
      "2020-06-09 22:10:56,899 [main] session-id=[] user-id=[] robot-name=[] DEBUG d.f.i.r.persistence.util.DbExecutor - UPD: insert into USER \n",
      "(ACCOUNT, PASSWORD, EMAIL, ROLE, CREATED, LAST_LOGIN, TAGS, USER_NAME) \n",
      "values ('Gallery','f17a0084220e822e:313c4eda282166163f78cd0b13da3b66f5ed6a0e','','TEACHER',now ,now ,'','The Gallery' \n",
      ")\n",
      "2020-06-09 22:10:56,902 [main] session-id=[] user-id=[] robot-name=[] DEBUG d.f.i.r.persistence.util.DbExecutor - rows affected: 1\n",
      "2020-06-09 22:10:56,903 [main] session-id=[] user-id=[] robot-name=[] DEBUG d.f.i.r.persistence.util.DbExecutor - UPD: commit\n",
      "2020-06-09 22:10:56,905 [main] session-id=[] user-id=[] robot-name=[] DEBUG d.f.i.r.persistence.util.DbExecutor - rows affected: 0\n",
      "2020-06-09 22:10:56,905 [main] session-id=[] user-id=[] robot-name=[] DEBUG d.f.i.r.persistence.util.DbExecutor - UPD: insert into USER \n",
      "(ACCOUNT, PASSWORD, EMAIL, ROLE, CREATED, LAST_LOGIN, TAGS, USER_NAME) \n",
      "values ('testUser','f17a0084220e822e:313c4eda282166163f78cd0b13da3b66f5ed6a0e','','TEACHER',now ,now ,'','Test User' \n",
      ")\n",
      "2020-06-09 22:10:56,909 [main] session-id=[] user-id=[] robot-name=[] DEBUG d.f.i.r.persistence.util.DbExecutor - rows affected: 1\n",
      "2020-06-09 22:10:56,909 [main] session-id=[] user-id=[] robot-name=[] DEBUG d.f.i.r.persistence.util.DbExecutor - UPD: commit\n",
      "2020-06-09 22:10:56,911 [main] session-id=[] user-id=[] robot-name=[] DEBUG d.f.i.r.persistence.util.DbExecutor - rows affected: 0\n",
      "2020-06-09 22:10:56,911 [main] session-id=[] user-id=[] robot-name=[] DEBUG d.f.i.r.persistence.util.DbExecutor - UPD: insert into PROGRAM \n",
      "( NAME, OWNER_ID, ROBOT_ID, AUTHOR_ID, PROGRAM_TEXT, CREATED, LAST_CHANGED, LAST_CHECKED, LAST_ERRORFREE, VIEWED, TAGS, ICON_NUMBER ) \n",
      "values('TestProg',3,42,3,'<block_set xmlns=\"http://de.fhg.iais.roberta.blockly\"><instance x=\"370\" y=\"50\"><block type=\"robControls_start\" id=\"149\" intask=\"true\" deletable=\"false\"><mutation declare=\"false\"></mutation></block><block type=\"robActions_motorDiff_on\" id=\"168\" inline=\"false\" intask=\"true\"><field name=\"DIRECTION\">FOREWARD</field><value name=\"POWER\"><block type=\"math_number\" id=\"169\" intask=\"true\"><field name=\"NUM\">30</field></block></value></block><block type=\"robControls_wait_for\" id=\"189\" inline=\"false\" intask=\"true\"><value name=\"WAIT0\"><block type=\"logic_compare\" id=\"190\" inline=\"true\" intask=\"true\"><mutation operator_range=\"COLOUR\"></mutation><field name=\"OP\">EQ</field><value name=\"A\"><block type=\"sim_getSample\" id=\"191\" intask=\"true\" deletable=\"false\" movable=\"false\"><mutation input=\"COLOUR_COLOUR\"></mutation><field name=\"SENSORTYPE\">COLOUR_COLOUR</field><field name=\"SENSORPORT\">3</field></block></value><value name=\"B\"><block type=\"robColour_picker\" id=\"197\" intask=\"true\"><field name=\"COLOUR\">#000000</field></block></value></block></value></block></instance></block_set>', \n",
      "now, now, now, now, \n",
      "0,'', 0 \n",
      ")\n",
      "2020-06-09 22:10:56,925 [main] session-id=[] user-id=[] robot-name=[] DEBUG d.f.i.r.persistence.util.DbExecutor - rows affected: 1\n",
      "2020-06-09 22:10:56,926 [main] session-id=[] user-id=[] robot-name=[] DEBUG d.f.i.r.persistence.util.DbExecutor - UPD: commit\n",
      "2020-06-09 22:10:56,929 [main] session-id=[] user-id=[] robot-name=[] DEBUG d.f.i.r.persistence.util.DbExecutor - rows affected: 0\n",
      "2020-06-09 22:10:56,930 [main] session-id=[] user-id=[] robot-name=[] INFO d.f.i.r.persistence.util.DbExecutor - 10 SQL-statements executed\n",
      "2020-06-09 22:10:56,935 [main] session-id=[] user-id=[] robot-name=[] DEBUG d.f.i.r.persistence.util.DbExecutor - 1\n",
      "Juni 09, 2020 10:10:56 NACHM. org.hsqldb.persist.Logger logInfoEvent\n",
      "INFORMATION: dataFileCache commit start\n",
      "Juni 09, 2020 10:10:56 NACHM. org.hsqldb.persist.Logger logInfoEvent\n",
      "INFORMATION: dataFileCache commit end\n",
      "Juni 09, 2020 10:10:57 NACHM. org.hsqldb.persist.Logger logInfoEvent\n",
      "INFORMATION: Database closed\n"
     ]
    }
   ],
   "source": [
    "./ora.sh -dbParentdir pi-ora/db/test create-empty-db\n",
    "#cp -r ~/openroberta-lab/BASEDIR_MUST_NOT_EXIST/db/test ./pi-ora/db/"
   ]
  },
  {
   "cell_type": "code",
   "execution_count": 34,
   "metadata": {},
   "outputs": [
    {
     "name": "stdout",
     "output_type": "stream",
     "text": [
      "******************** 2020-06-09 22:10:57 ********************\n",
      "2020-06-09 22:10:57: generating the database image openroberta/db_server:2.4.0\n",
      "Sending build context to Docker daemon  1.548MB\n",
      "Step 1/11 : FROM openjdk:8u151-jdk\n",
      "8u151-jdk: Pulling from library/openjdk\n",
      "\n",
      "\u001b[1Bb637c2f2: Pulling fs layer \n",
      "\u001b[1Bb5e048ba: Pulling fs layer \n",
      "\u001b[1B513627db: Pulling fs layer \n",
      "\u001b[1Bc0ade5ea: Pulling fs layer \n",
      "\u001b[1Bcd239270: Pulling fs layer \n",
      "\u001b[1Ba1e329a7: Pulling fs layer \n",
      "\u001b[1B99644e5a: Pulling fs layer \n",
      "\u001b[1B35c931d8: Pulling fs layer \n",
      "\u001b[1BDigest: sha256:07780244fce9b0a3b13a138adf45226372a80025c74bf81ce2bd509304d7a253\n",
      "Status: Downloaded newer image for openjdk:8u151-jdk\n",
      " ---> 53ad46d28735\n",
      "Step 2/11 : RUN mkdir --parent /opt/openRoberta/lib\n",
      " ---> Running in 6cbc9b203c97\n",
      "Removing intermediate container 6cbc9b203c97\n",
      " ---> e3b1a1d1bc57\n",
      "Step 3/11 : WORKDIR /opt/openRoberta\n",
      " ---> Running in f861d9b82794\n",
      "Removing intermediate container f861d9b82794\n",
      " ---> 9e9618db0ba3\n",
      "Step 4/11 : VOLUME /opt/db\n",
      " ---> Running in dcd1dd74edd7\n",
      "Removing intermediate container dcd1dd74edd7\n",
      " ---> 0fb7d682b58a\n",
      "Step 5/11 : VOLUME /opt/dbAdmin\n",
      " ---> Running in 8bea891ce20f\n",
      "Removing intermediate container 8bea891ce20f\n",
      " ---> a196f8913d4e\n",
      "Step 6/11 : EXPOSE 9001\n",
      " ---> Running in 14ae6984330b\n",
      "Removing intermediate container 14ae6984330b\n",
      " ---> 8e9653aa23d3\n",
      "Step 7/11 : COPY [\"startDbServer.sh\",\"./\"]\n",
      " ---> 573b3fb7ee4a\n",
      "Step 8/11 : RUN chmod +x ./startDbServer.sh\n",
      " ---> Running in b2debada8b6a\n",
      "Removing intermediate container b2debada8b6a\n",
      " ---> 71366771bbdf\n",
      "Step 9/11 : COPY [\"*.jar\",\"./lib/\"]\n",
      " ---> 37a952d972ba\n",
      "Step 10/11 : ENTRYPOINT [\"/opt/openRoberta/startDbServer.sh\"]\n",
      " ---> Running in d0c5a9478204\n",
      "Removing intermediate container d0c5a9478204\n",
      " ---> ccc40070477e\n",
      "Step 11/11 : CMD []\n",
      " ---> Running in a391a46ac221\n",
      "Removing intermediate container a391a46ac221\n",
      " ---> f289a0d42959\n",
      "Successfully built f289a0d42959\n",
      "Successfully tagged openroberta/db_server:2.4.0\n",
      "generating the database image openroberta/db_server:2.4.0 finished\n"
     ]
    }
   ],
   "source": [
    "pi-ora/scripts/run.sh -q -yes gen-dbc "
   ]
  },
  {
   "cell_type": "code",
   "execution_count": 35,
   "metadata": {},
   "outputs": [
    {
     "name": "stdout",
     "output_type": "stream",
     "text": [
      "******************** 2020-06-09 22:13:46 ********************\n",
      "stopping the database container 'rdf-2020-db-server', if running\n",
      "Error response from daemon: No such container: rdf-2020-db-server\n",
      "found no old container 'rdf-2020-db-server' to remove. That is ok\n",
      "starting the database image openroberta/db_server:2.4.0 as 'rdf-2020-db-server' for the database/s test\n",
      "database container started with id 0680551e3fb9a5099d48c4eb008f672041f3e15528fe392829882eb9abb903b6\n"
     ]
    }
   ],
   "source": [
    "pi-ora/scripts/run.sh -q -yes start-dbc "
   ]
  },
  {
   "cell_type": "code",
   "execution_count": 36,
   "metadata": {},
   "outputs": [
    {
     "name": "stdout",
     "output_type": "stream",
     "text": [
      "CONTAINER ID        IMAGE                         COMMAND                  CREATED             STATUS                  PORTS                    NAMES\n",
      "0680551e3fb9        openroberta/db_server:2.4.0   \"/opt/openRoberta/st…\"   4 seconds ago       Up Less than a second   0.0.0.0:9001->9001/tcp   rdf-2020-db-server\n"
     ]
    }
   ],
   "source": [
    "docker ps "
   ]
  },
  {
   "cell_type": "code",
   "execution_count": 37,
   "metadata": {},
   "outputs": [
    {
     "name": "stdout",
     "output_type": "stream",
     "text": [
      "xxxxxxxxxxxxxxxxxxxxxxxxxxxxxxxxxxxxxxxxxxxxxxxxxxxxxxxxxxxxxxxxxxxxxxxxxxxxxxxx\n",
      "the db server starting at Tue Jun 9 20:13:50 UTC 2020 will serve the databases test\n",
      "db admin dir /opt/dbAdmin stores logs and backups\n",
      "mount db admin dir with -v on container start (often /data/openroberta/dbAdmin)\n",
      "xxxxxxxxxxxxxxxxxxxxxxxxxxxxxxxxxxxxxxxxxxxxxxxxxxxxxxxxxxxxxxxxxxxxxxxxxxxxxxxx\n",
      "waiting for child with pid 9 to terminate\n",
      "[Server@574795]: Startup sequence initiated from main() method\n",
      "[Server@574795]: Could not load properties from file\n",
      "[Server@574795]: Using cli/default properties only\n",
      "[Server@574795]: Initiating startup sequence...\n",
      "[Server@574795]: Server socket opened successfully in 16 ms.\n"
     ]
    }
   ],
   "source": [
    "docker logs rdf-2020-db-server"
   ]
  },
  {
   "cell_type": "code",
   "execution_count": 38,
   "metadata": {},
   "outputs": [
    {
     "name": "stdout",
     "output_type": "stream",
     "text": [
      "insgesamt 8\n",
      "drwxr-xr-x 2 pirate pirate 4096 Jun  9 22:07 dbBackup\n",
      "-rw-r--r-- 1 root   root    694 Jun  9 22:13 ora-db.log\n"
     ]
    }
   ],
   "source": [
    "ls -l pi-ora/db/dbAdmin"
   ]
  },
  {
   "cell_type": "code",
   "execution_count": 39,
   "metadata": {},
   "outputs": [
    {
     "name": "stdout",
     "output_type": "stream",
     "text": [
      "the db server starting at Tue Jun 9 20:13:50 UTC 2020 will serve the databases test\n",
      "db admin dir /opt/dbAdmin stores logs and backups\n",
      "mount db admin dir with -v on container start (often /data/openroberta/dbAdmin)\n",
      "xxxxxxxxxxxxxxxxxxxxxxxxxxxxxxxxxxxxxxxxxxxxxxxxxxxxxxxxxxxxxxxxxxxxxxxxxxxxxxxx\n",
      "waiting for child with pid 9 to terminate\n",
      "[Server@574795]: Startup sequence initiated from main() method\n",
      "[Server@574795]: Could not load properties from file\n",
      "[Server@574795]: Using cli/default properties only\n",
      "[Server@574795]: Initiating startup sequence...\n",
      "[Server@574795]: Server socket opened successfully in 16 ms.\n"
     ]
    }
   ],
   "source": [
    "tail pi-ora/db/dbAdmin/ora-db.log"
   ]
  },
  {
   "cell_type": "code",
   "execution_count": 40,
   "metadata": {},
   "outputs": [],
   "source": [
    "sed -Ei \"s/(question) ('you generate an image)/echo \\2/\" pi-ora/scripts/helper/_gen.sh\n",
    "sed -Ei \"s/(mvn )/\\1--quiet /\" pi-ora/scripts/helper/_gen.sh"
   ]
  },
  {
   "cell_type": "code",
   "execution_count": 41,
   "metadata": {},
   "outputs": [],
   "source": [
    "#pi-ora/scripts/run.sh -q -yes gen test\n",
    "#pi-ora/scripts/run.sh -q -yes start test"
   ]
  },
  {
   "cell_type": "code",
   "execution_count": 42,
   "metadata": {
    "collapsed": true,
    "jupyter": {
     "outputs_hidden": true
    }
   },
   "outputs": [
    {
     "name": "stdout",
     "output_type": "stream",
     "text": [
      "******************** 2020-06-09 22:13:52 ********************\n",
      "2020-06-09 22:13:52: deploying (generating,starting) the server 'test'\n",
      "******************** 2020-06-09 22:13:52 ********************\n",
      "******************** 2020-06-09 22:13:52 generating the server test ********************\n",
      "you generate an image for the MASTER branch. This is the first step of a prod deployment. Is this ok?\n",
      "got the lock for file '/home/pirate/notebooks/openroberta-lab/openroberta-lab/pi-ora/git/lockfile'\n",
      "checking out branch 'master'. Throw away the complete old state\n",
      "Fordere an von origin\n",
      "HEAD ist jetzt bei d481ec6b0 deployment of version 3.9.3\n",
      "Branch 'develop' folgt nun Remote-Branch 'develop' von 'origin'.\n",
      "Zu neuem Branch 'develop' gewechselt\n",
      "Branch master entfernt (war d481ec6b0).\n",
      "Branch 'master' folgt nun Remote-Branch 'master' von 'origin'.\n",
      "Zu neuem Branch 'master' gewechselt\n",
      "WARNING: An illegal reflective access operation has occurred\n",
      "WARNING: Illegal reflective access by com.google.inject.internal.cglib.core.$ReflectUtils$1 (file:/usr/share/maven/lib/guice.jar) to method java.lang.ClassLoader.defineClass(java.lang.String,byte[],int,int,java.security.ProtectionDomain)\n",
      "WARNING: Please consider reporting this to the maintainers of com.google.inject.internal.cglib.core.$ReflectUtils$1\n",
      "WARNING: Use --illegal-access=warn to enable warnings of further illegal reflective access operations\n",
      "WARNING: All illegal access operations will be denied in a future release\n",
      "creating the target directory \"/home/pirate/notebooks/openroberta-lab/openroberta-lab/pi-ora/server/test/export\"\n",
      "server version: 3.9.3\n",
      "copying all jars\n",
      "copying the staticResources\n",
      "/home/pirate/notebooks/openroberta-lab/openroberta-lab/pi-ora/server/test/export/staticResources/index.html:\t 86.2% -- created /home/pirate/notebooks/openroberta-lab/openroberta-lab/pi-ora/server/test/export/staticResources/index.html.gz\n",
      "/home/pirate/notebooks/openroberta-lab/openroberta-lab/pi-ora/server/test/export/staticResources/socket.html:\t 51.1% -- created /home/pirate/notebooks/openroberta-lab/openroberta-lab/pi-ora/server/test/export/staticResources/socket.html.gz\n",
      "/home/pirate/notebooks/openroberta-lab/openroberta-lab/pi-ora/server/test/export/staticResources/css/simulator.css:\t 64.1% -- created /home/pirate/notebooks/openroberta-lab/openroberta-lab/pi-ora/server/test/export/staticResources/css/simulator.css.gz\n",
      "/home/pirate/notebooks/openroberta-lab/openroberta-lab/pi-ora/server/test/export/staticResources/css/img/bob3BackgroundConf.svg:\t 89.3% -- created /home/pirate/notebooks/openroberta-lab/openroberta-lab/pi-ora/server/test/export/staticResources/css/img/bob3BackgroundConf.svg.gz\n",
      "/home/pirate/notebooks/openroberta-lab/openroberta-lab/pi-ora/server/test/export/staticResources/css/img/edisonBackgroundConf.svg:\t 33.0% -- created /home/pirate/notebooks/openroberta-lab/openroberta-lab/pi-ora/server/test/export/staticResources/css/img/edisonBackgroundConf.svg.gz\n",
      "/home/pirate/notebooks/openroberta-lab/openroberta-lab/pi-ora/server/test/export/staticResources/css/img/microbitBackgroundConf.svg:\t 85.8% -- created /home/pirate/notebooks/openroberta-lab/openroberta-lab/pi-ora/server/test/export/staticResources/css/img/microbitBackgroundConf.svg.gz\n",
      "/home/pirate/notebooks/openroberta-lab/openroberta-lab/pi-ora/server/test/export/staticResources/css/img/calliopeBackgroundConf.svg:\t 84.3% -- created /home/pirate/notebooks/openroberta-lab/openroberta-lab/pi-ora/server/test/export/staticResources/css/img/calliopeBackgroundConf.svg.gz\n",
      "/home/pirate/notebooks/openroberta-lab/openroberta-lab/pi-ora/server/test/export/staticResources/css/img/naoBackgroundConf.svg:\t 71.7% -- created /home/pirate/notebooks/openroberta-lab/openroberta-lab/pi-ora/server/test/export/staticResources/css/img/naoBackgroundConf.svg.gz\n",
      "/home/pirate/notebooks/openroberta-lab/openroberta-lab/pi-ora/server/test/export/staticResources/css/img/NEPO.ico:\t 97.9% -- created /home/pirate/notebooks/openroberta-lab/openroberta-lab/pi-ora/server/test/export/staticResources/css/img/NEPO.ico.gz\n",
      "/home/pirate/notebooks/openroberta-lab/openroberta-lab/pi-ora/server/test/export/staticResources/css/languages.min.css:\t 83.8% -- created /home/pirate/notebooks/openroberta-lab/openroberta-lab/pi-ora/server/test/export/staticResources/css/languages.min.css.gz\n",
      "/home/pirate/notebooks/openroberta-lab/openroberta-lab/pi-ora/server/test/export/staticResources/css/fonts/Roboto-Medium.ttf:\t 46.3% -- created /home/pirate/notebooks/openroberta-lab/openroberta-lab/pi-ora/server/test/export/staticResources/css/fonts/Roboto-Medium.ttf.gz\n",
      "/home/pirate/notebooks/openroberta-lab/openroberta-lab/pi-ora/server/test/export/staticResources/css/fonts/fontawesome-webfont.woff2:\t  0.0% -- created /home/pirate/notebooks/openroberta-lab/openroberta-lab/pi-ora/server/test/export/staticResources/css/fonts/fontawesome-webfont.woff2.gz\n",
      "/home/pirate/notebooks/openroberta-lab/openroberta-lab/pi-ora/server/test/export/staticResources/css/fonts/Roboto-BlackItalic.ttf:\t 46.2% -- created /home/pirate/notebooks/openroberta-lab/openroberta-lab/pi-ora/server/test/export/staticResources/css/fonts/Roboto-BlackItalic.ttf.gz\n",
      "/home/pirate/notebooks/openroberta-lab/openroberta-lab/pi-ora/server/test/export/staticResources/css/fonts/typicons.eot:\t 48.6% -- created /home/pirate/notebooks/openroberta-lab/openroberta-lab/pi-ora/server/test/export/staticResources/css/fonts/typicons.eot.gz\n",
      "/home/pirate/notebooks/openroberta-lab/openroberta-lab/pi-ora/server/test/export/staticResources/css/fonts/fontawesome-webfont.woff:\t  0.1% -- created /home/pirate/notebooks/openroberta-lab/openroberta-lab/pi-ora/server/test/export/staticResources/css/fonts/fontawesome-webfont.woff.gz\n",
      "/home/pirate/notebooks/openroberta-lab/openroberta-lab/pi-ora/server/test/export/staticResources/css/fonts/typicons.ttf:\t 48.6% -- created /home/pirate/notebooks/openroberta-lab/openroberta-lab/pi-ora/server/test/export/staticResources/css/fonts/typicons.ttf.gz\n",
      "/home/pirate/notebooks/openroberta-lab/openroberta-lab/pi-ora/server/test/export/staticResources/css/fonts/Roboto-Regular.ttf:\t 46.6% -- created /home/pirate/notebooks/openroberta-lab/openroberta-lab/pi-ora/server/test/export/staticResources/css/fonts/Roboto-Regular.ttf.gz\n",
      "/home/pirate/notebooks/openroberta-lab/openroberta-lab/pi-ora/server/test/export/staticResources/css/fonts/Roboto-Thin.ttf:\t 43.8% -- created /home/pirate/notebooks/openroberta-lab/openroberta-lab/pi-ora/server/test/export/staticResources/css/fonts/Roboto-Thin.ttf.gz\n",
      "/home/pirate/notebooks/openroberta-lab/openroberta-lab/pi-ora/server/test/export/staticResources/css/fonts/casino_hand-webfont.ttf:\t 39.3% -- created /home/pirate/notebooks/openroberta-lab/openroberta-lab/pi-ora/server/test/export/staticResources/css/fonts/casino_hand-webfont.ttf.gz\n",
      "/home/pirate/notebooks/openroberta-lab/openroberta-lab/pi-ora/server/test/export/staticResources/css/fonts/Roboto-BoldItalic.ttf:\t 45.4% -- created /home/pirate/notebooks/openroberta-lab/openroberta-lab/pi-ora/server/test/export/staticResources/css/fonts/Roboto-BoldItalic.ttf.gz\n",
      "/home/pirate/notebooks/openroberta-lab/openroberta-lab/pi-ora/server/test/export/staticResources/css/fonts/Caveat-Bold.ttf:\t 52.3% -- created /home/pirate/notebooks/openroberta-lab/openroberta-lab/pi-ora/server/test/export/staticResources/css/fonts/Caveat-Bold.ttf.gz\n",
      "/home/pirate/notebooks/openroberta-lab/openroberta-lab/pi-ora/server/test/export/staticResources/css/fonts/Roboto-Light.ttf:\t 47.3% -- created /home/pirate/notebooks/openroberta-lab/openroberta-lab/pi-ora/server/test/export/staticResources/css/fonts/Roboto-Light.ttf.gz\n",
      "/home/pirate/notebooks/openroberta-lab/openroberta-lab/pi-ora/server/test/export/staticResources/css/fonts/Roboto-Italic.ttf:\t 47.2% -- created /home/pirate/notebooks/openroberta-lab/openroberta-lab/pi-ora/server/test/export/staticResources/css/fonts/Roboto-Italic.ttf.gz\n",
      "/home/pirate/notebooks/openroberta-lab/openroberta-lab/pi-ora/server/test/export/staticResources/css/fonts/casino_hand-webfont.eot:\t  0.1% -- created /home/pirate/notebooks/openroberta-lab/openroberta-lab/pi-ora/server/test/export/staticResources/css/fonts/casino_hand-webfont.eot.gz\n",
      "/home/pirate/notebooks/openroberta-lab/openroberta-lab/pi-ora/server/test/export/staticResources/css/fonts/typicons.svg:\t 71.4% -- created /home/pirate/notebooks/openroberta-lab/openroberta-lab/pi-ora/server/test/export/staticResources/css/fonts/typicons.svg.gz\n",
      "/home/pirate/notebooks/openroberta-lab/openroberta-lab/pi-ora/server/test/export/staticResources/css/fonts/Roboto-ThinItalic.ttf:\t 42.5% -- created /home/pirate/notebooks/openroberta-lab/openroberta-lab/pi-ora/server/test/export/staticResources/css/fonts/Roboto-ThinItalic.ttf.gz\n",
      "/home/pirate/notebooks/openroberta-lab/openroberta-lab/pi-ora/server/test/export/staticResources/css/fonts/Roboto-Black.ttf:\t 46.4% -- created /home/pirate/notebooks/openroberta-lab/openroberta-lab/pi-ora/server/test/export/staticResources/css/fonts/Roboto-Black.ttf.gz\n",
      "/home/pirate/notebooks/openroberta-lab/openroberta-lab/pi-ora/server/test/export/staticResources/css/fonts/Roboto-MediumItalic.ttf:\t 46.5% -- created /home/pirate/notebooks/openroberta-lab/openroberta-lab/pi-ora/server/test/export/staticResources/css/fonts/Roboto-MediumItalic.ttf.gz\n",
      "/home/pirate/notebooks/openroberta-lab/openroberta-lab/pi-ora/server/test/export/staticResources/css/fonts/Caveat-Regular.ttf:\t 54.1% -- created /home/pirate/notebooks/openroberta-lab/openroberta-lab/pi-ora/server/test/export/staticResources/css/fonts/Caveat-Regular.ttf.gz\n",
      "/home/pirate/notebooks/openroberta-lab/openroberta-lab/pi-ora/server/test/export/staticResources/css/fonts/Roboto-LightItalic.ttf:\t 46.7% -- created /home/pirate/notebooks/openroberta-lab/openroberta-lab/pi-ora/server/test/export/staticResources/css/fonts/Roboto-LightItalic.ttf.gz\n",
      "/home/pirate/notebooks/openroberta-lab/openroberta-lab/pi-ora/server/test/export/staticResources/css/fonts/Roboto-Bold.ttf:\t 46.8% -- created /home/pirate/notebooks/openroberta-lab/openroberta-lab/pi-ora/server/test/export/staticResources/css/fonts/Roboto-Bold.ttf.gz\n",
      "/home/pirate/notebooks/openroberta-lab/openroberta-lab/pi-ora/server/test/export/staticResources/css/fonts/fontawesome-webfont.ttf:\t 40.6% -- created /home/pirate/notebooks/openroberta-lab/openroberta-lab/pi-ora/server/test/export/staticResources/css/fonts/fontawesome-webfont.ttf.gz\n",
      "/home/pirate/notebooks/openroberta-lab/openroberta-lab/pi-ora/server/test/export/staticResources/css/fonts/typicons.woff:\t 48.6% -- created /home/pirate/notebooks/openroberta-lab/openroberta-lab/pi-ora/server/test/export/staticResources/css/fonts/typicons.woff.gz\n",
      "/home/pirate/notebooks/openroberta-lab/openroberta-lab/pi-ora/server/test/export/staticResources/css/fonts/casino_hand-webfont.woff:\t  0.1% -- created /home/pirate/notebooks/openroberta-lab/openroberta-lab/pi-ora/server/test/export/staticResources/css/fonts/casino_hand-webfont.woff.gz\n",
      "/home/pirate/notebooks/openroberta-lab/openroberta-lab/pi-ora/server/test/export/staticResources/css/fonts/casino_hand-webfont.svg:\t 67.1% -- created /home/pirate/notebooks/openroberta-lab/openroberta-lab/pi-ora/server/test/export/staticResources/css/fonts/casino_hand-webfont.svg.gz\n",
      "/home/pirate/notebooks/openroberta-lab/openroberta-lab/pi-ora/server/test/export/staticResources/css/wysiwyg.css:\t 70.2% -- created /home/pirate/notebooks/openroberta-lab/openroberta-lab/pi-ora/server/test/export/staticResources/css/wysiwyg.css.gz\n",
      "/home/pirate/notebooks/openroberta-lab/openroberta-lab/pi-ora/server/test/export/staticResources/css/slick-theme.css:\t 73.1% -- created /home/pirate/notebooks/openroberta-lab/openroberta-lab/pi-ora/server/test/export/staticResources/css/slick-theme.css.gz\n",
      "/home/pirate/notebooks/openroberta-lab/openroberta-lab/pi-ora/server/test/export/staticResources/css/roberta.css:\t 76.3% -- created /home/pirate/notebooks/openroberta-lab/openroberta-lab/pi-ora/server/test/export/staticResources/css/roberta.css.gz\n",
      "/home/pirate/notebooks/openroberta-lab/openroberta-lab/pi-ora/server/test/export/staticResources/css/enjoyhint.css:\t 83.6% -- created /home/pirate/notebooks/openroberta-lab/openroberta-lab/pi-ora/server/test/export/staticResources/css/enjoyhint.css.gz\n",
      "/home/pirate/notebooks/openroberta-lab/openroberta-lab/pi-ora/server/test/export/staticResources/css/typicons.css:\t 84.7% -- created /home/pirate/notebooks/openroberta-lab/openroberta-lab/pi-ora/server/test/export/staticResources/css/typicons.css.gz\n",
      "/home/pirate/notebooks/openroberta-lab/openroberta-lab/pi-ora/server/test/export/staticResources/css/svg/OpenRobertaLab_logo.svg:\t 54.8% -- created /home/pirate/notebooks/openroberta-lab/openroberta-lab/pi-ora/server/test/export/staticResources/css/svg/OpenRobertaLab_logo.svg.gz\n",
      "/home/pirate/notebooks/openroberta-lab/openroberta-lab/pi-ora/server/test/export/staticResources/css/svg/Roberta_zwinkernd.svg:\t 59.3% -- created /home/pirate/notebooks/openroberta-lab/openroberta-lab/pi-ora/server/test/export/staticResources/css/svg/Roberta_zwinkernd.svg.gz\n",
      "/home/pirate/notebooks/openroberta-lab/openroberta-lab/pi-ora/server/test/export/staticResources/css/svg/step_connector_active.svg:\t 40.5% -- created /home/pirate/notebooks/openroberta-lab/openroberta-lab/pi-ora/server/test/export/staticResources/css/svg/step_connector_active.svg.gz\n",
      "/home/pirate/notebooks/openroberta-lab/openroberta-lab/pi-ora/server/test/export/staticResources/css/svg/startButton.svg:\t 50.3% -- created /home/pirate/notebooks/openroberta-lab/openroberta-lab/pi-ora/server/test/export/staticResources/css/svg/startButton.svg.gz\n",
      "/home/pirate/notebooks/openroberta-lab/openroberta-lab/pi-ora/server/test/export/staticResources/css/svg/homescreen_button1.svg:\t 36.7% -- created /home/pirate/notebooks/openroberta-lab/openroberta-lab/pi-ora/server/test/export/staticResources/css/svg/homescreen_button1.svg.gz\n",
      "/home/pirate/notebooks/openroberta-lab/openroberta-lab/pi-ora/server/test/export/staticResources/css/svg/step_connector_before_active.svg:\t 40.5% -- created /home/pirate/notebooks/openroberta-lab/openroberta-lab/pi-ora/server/test/export/staticResources/css/svg/step_connector_before_active.svg.gz\n",
      "/home/pirate/notebooks/openroberta-lab/openroberta-lab/pi-ora/server/test/export/staticResources/css/svg/arrow-sorted-up.svg:\t 38.2% -- created /home/pirate/notebooks/openroberta-lab/openroberta-lab/pi-ora/server/test/export/staticResources/css/svg/arrow-sorted-up.svg.gz\n",
      "/home/pirate/notebooks/openroberta-lab/openroberta-lab/pi-ora/server/test/export/staticResources/css/svg/simPlayGround.svg:\t 81.4% -- created /home/pirate/notebooks/openroberta-lab/openroberta-lab/pi-ora/server/test/export/staticResources/css/svg/simPlayGround.svg.gz\n",
      "/home/pirate/notebooks/openroberta-lab/openroberta-lab/pi-ora/server/test/export/staticResources/css/svg/step_connector.svg:\t 41.3% -- created /home/pirate/notebooks/openroberta-lab/openroberta-lab/pi-ora/server/test/export/staticResources/css/svg/step_connector.svg.gz\n",
      "/home/pirate/notebooks/openroberta-lab/openroberta-lab/pi-ora/server/test/export/staticResources/css/svg/simBlockBackground.svg:\t 67.6% -- created /home/pirate/notebooks/openroberta-lab/openroberta-lab/pi-ora/server/test/export/staticResources/css/svg/simBlockBackground.svg.gz\n",
      "/home/pirate/notebooks/openroberta-lab/openroberta-lab/pi-ora/server/test/export/staticResources/css/svg/NEPO_Logo_RGB.svg:\t 48.7% -- created /home/pirate/notebooks/openroberta-lab/openroberta-lab/pi-ora/server/test/export/staticResources/css/svg/NEPO_Logo_RGB.svg.gz\n",
      "/home/pirate/notebooks/openroberta-lab/openroberta-lab/pi-ora/server/test/export/staticResources/css/svg/program.svg:\t 87.4% -- created /home/pirate/notebooks/openroberta-lab/openroberta-lab/pi-ora/server/test/export/staticResources/css/svg/program.svg.gz\n",
      "/home/pirate/notebooks/openroberta-lab/openroberta-lab/pi-ora/server/test/export/staticResources/css/svg/step_connector_last.svg:\t 41.3% -- created /home/pirate/notebooks/openroberta-lab/openroberta-lab/pi-ora/server/test/export/staticResources/css/svg/step_connector_last.svg.gz\n",
      "/home/pirate/notebooks/openroberta-lab/openroberta-lab/pi-ora/server/test/export/staticResources/css/svg/step_connector_active_last.svg:\t 41.2% -- created /home/pirate/notebooks/openroberta-lab/openroberta-lab/pi-ora/server/test/export/staticResources/css/svg/step_connector_active_last.svg.gz\n",
      "/home/pirate/notebooks/openroberta-lab/openroberta-lab/pi-ora/server/test/export/staticResources/css/svg/ev3Robot.svg:\t 51.0% -- created /home/pirate/notebooks/openroberta-lab/openroberta-lab/pi-ora/server/test/export/staticResources/css/svg/ev3Robot.svg.gz\n",
      "/home/pirate/notebooks/openroberta-lab/openroberta-lab/pi-ora/server/test/export/staticResources/css/svg/Google_logo.svg:\t 55.6% -- created /home/pirate/notebooks/openroberta-lab/openroberta-lab/pi-ora/server/test/export/staticResources/css/svg/Google_logo.svg.gz\n",
      "/home/pirate/notebooks/openroberta-lab/openroberta-lab/pi-ora/server/test/export/staticResources/css/svg/arrow-unsorted.svg:\t 49.6% -- created /home/pirate/notebooks/openroberta-lab/openroberta-lab/pi-ora/server/test/export/staticResources/css/svg/arrow-unsorted.svg.gz\n",
      "/home/pirate/notebooks/openroberta-lab/openroberta-lab/pi-ora/server/test/export/staticResources/css/svg/arrow-sorted-down.svg:\t 38.0% -- created /home/pirate/notebooks/openroberta-lab/openroberta-lab/pi-ora/server/test/export/staticResources/css/svg/arrow-sorted-down.svg.gz\n",
      "/home/pirate/notebooks/openroberta-lab/openroberta-lab/pi-ora/server/test/export/staticResources/css/prettify.css:\t 55.7% -- created /home/pirate/notebooks/openroberta-lab/openroberta-lab/pi-ora/server/test/export/staticResources/css/prettify.css.gz\n",
      "/home/pirate/notebooks/openroberta-lab/openroberta-lab/pi-ora/server/test/export/staticResources/css/bootstrap-tagsinput.css:\t 65.8% -- created /home/pirate/notebooks/openroberta-lab/openroberta-lab/pi-ora/server/test/export/staticResources/css/bootstrap-tagsinput.css.gz\n",
      "/home/pirate/notebooks/openroberta-lab/openroberta-lab/pi-ora/server/test/export/staticResources/css/font-awesome.min.css:\t 77.6% -- created /home/pirate/notebooks/openroberta-lab/openroberta-lab/pi-ora/server/test/export/staticResources/css/font-awesome.min.css.gz\n",
      "/home/pirate/notebooks/openroberta-lab/openroberta-lab/pi-ora/server/test/export/staticResources/css/slick.css:\t 69.0% -- created /home/pirate/notebooks/openroberta-lab/openroberta-lab/pi-ora/server/test/export/staticResources/css/slick.css.gz\n",
      "/home/pirate/notebooks/openroberta-lab/openroberta-lab/pi-ora/server/test/export/staticResources/blockly/msg/messages.js:\t 82.2% -- created /home/pirate/notebooks/openroberta-lab/openroberta-lab/pi-ora/server/test/export/staticResources/blockly/msg/messages.js.gz\n",
      "/home/pirate/notebooks/openroberta-lab/openroberta-lab/pi-ora/server/test/export/staticResources/blockly/msg/json/zh-hant.json:\t 73.4% -- created /home/pirate/notebooks/openroberta-lab/openroberta-lab/pi-ora/server/test/export/staticResources/blockly/msg/json/zh-hant.json.gz\n",
      "/home/pirate/notebooks/openroberta-lab/openroberta-lab/pi-ora/server/test/export/staticResources/blockly/msg/json/tlh.json:\t 69.2% -- created /home/pirate/notebooks/openroberta-lab/openroberta-lab/pi-ora/server/test/export/staticResources/blockly/msg/json/tlh.json.gz\n",
      "/home/pirate/notebooks/openroberta-lab/openroberta-lab/pi-ora/server/test/export/staticResources/blockly/msg/json/he.json:\t 76.6% -- created /home/pirate/notebooks/openroberta-lab/openroberta-lab/pi-ora/server/test/export/staticResources/blockly/msg/json/he.json.gz\n",
      "/home/pirate/notebooks/openroberta-lab/openroberta-lab/pi-ora/server/test/export/staticResources/blockly/msg/json/az.json:\t 74.9% -- created /home/pirate/notebooks/openroberta-lab/openroberta-lab/pi-ora/server/test/export/staticResources/blockly/msg/json/az.json.gz\n",
      "/home/pirate/notebooks/openroberta-lab/openroberta-lab/pi-ora/server/test/export/staticResources/blockly/msg/json/lb.json:\t 65.5% -- created /home/pirate/notebooks/openroberta-lab/openroberta-lab/pi-ora/server/test/export/staticResources/blockly/msg/json/lb.json.gz\n",
      "/home/pirate/notebooks/openroberta-lab/openroberta-lab/pi-ora/server/test/export/staticResources/blockly/msg/json/bcc.json:\t 78.8% -- created /home/pirate/notebooks/openroberta-lab/openroberta-lab/pi-ora/server/test/export/staticResources/blockly/msg/json/bcc.json.gz\n",
      "/home/pirate/notebooks/openroberta-lab/openroberta-lab/pi-ora/server/test/export/staticResources/blockly/msg/json/ro.json:\t 74.1% -- created /home/pirate/notebooks/openroberta-lab/openroberta-lab/pi-ora/server/test/export/staticResources/blockly/msg/json/ro.json.gz\n",
      "/home/pirate/notebooks/openroberta-lab/openroberta-lab/pi-ora/server/test/export/staticResources/blockly/msg/json/hi.json:\t 81.5% -- created /home/pirate/notebooks/openroberta-lab/openroberta-lab/pi-ora/server/test/export/staticResources/blockly/msg/json/hi.json.gz\n",
      "/home/pirate/notebooks/openroberta-lab/openroberta-lab/pi-ora/server/test/export/staticResources/blockly/msg/json/es.json:\t 75.8% -- created /home/pirate/notebooks/openroberta-lab/openroberta-lab/pi-ora/server/test/export/staticResources/blockly/msg/json/es.json.gz\n",
      "/home/pirate/notebooks/openroberta-lab/openroberta-lab/pi-ora/server/test/export/staticResources/blockly/msg/json/sk.json:\t 73.1% -- created /home/pirate/notebooks/openroberta-lab/openroberta-lab/pi-ora/server/test/export/staticResources/blockly/msg/json/sk.json.gz\n",
      "/home/pirate/notebooks/openroberta-lab/openroberta-lab/pi-ora/server/test/export/staticResources/blockly/msg/json/pms.json:\t 75.1% -- created /home/pirate/notebooks/openroberta-lab/openroberta-lab/pi-ora/server/test/export/staticResources/blockly/msg/json/pms.json.gz\n",
      "/home/pirate/notebooks/openroberta-lab/openroberta-lab/pi-ora/server/test/export/staticResources/blockly/msg/json/nl.json:\t 75.2% -- created /home/pirate/notebooks/openroberta-lab/openroberta-lab/pi-ora/server/test/export/staticResources/blockly/msg/json/nl.json.gz\n",
      "/home/pirate/notebooks/openroberta-lab/openroberta-lab/pi-ora/server/test/export/staticResources/blockly/msg/json/is.json:\t 74.4% -- created /home/pirate/notebooks/openroberta-lab/openroberta-lab/pi-ora/server/test/export/staticResources/blockly/msg/json/is.json.gz\n",
      "/home/pirate/notebooks/openroberta-lab/openroberta-lab/pi-ora/server/test/export/staticResources/blockly/msg/json/hu.json:\t 73.6% -- created /home/pirate/notebooks/openroberta-lab/openroberta-lab/pi-ora/server/test/export/staticResources/blockly/msg/json/hu.json.gz\n",
      "/home/pirate/notebooks/openroberta-lab/openroberta-lab/pi-ora/server/test/export/staticResources/blockly/msg/json/sd.json:\t 70.0% -- created /home/pirate/notebooks/openroberta-lab/openroberta-lab/pi-ora/server/test/export/staticResources/blockly/msg/json/sd.json.gz\n",
      "/home/pirate/notebooks/openroberta-lab/openroberta-lab/pi-ora/server/test/export/staticResources/blockly/msg/json/bg.json:\t 78.8% -- created /home/pirate/notebooks/openroberta-lab/openroberta-lab/pi-ora/server/test/export/staticResources/blockly/msg/json/bg.json.gz\n",
      "/home/pirate/notebooks/openroberta-lab/openroberta-lab/pi-ora/server/test/export/staticResources/blockly/msg/json/th.json:\t 83.0% -- created /home/pirate/notebooks/openroberta-lab/openroberta-lab/pi-ora/server/test/export/staticResources/blockly/msg/json/th.json.gz\n",
      "/home/pirate/notebooks/openroberta-lab/openroberta-lab/pi-ora/server/test/export/staticResources/blockly/msg/json/fa.json:\t 78.4% -- created /home/pirate/notebooks/openroberta-lab/openroberta-lab/pi-ora/server/test/export/staticResources/blockly/msg/json/fa.json.gz\n",
      "/home/pirate/notebooks/openroberta-lab/openroberta-lab/pi-ora/server/test/export/staticResources/blockly/msg/json/fi.json:\t 74.2% -- created /home/pirate/notebooks/openroberta-lab/openroberta-lab/pi-ora/server/test/export/staticResources/blockly/msg/json/fi.json.gz\n",
      "/home/pirate/notebooks/openroberta-lab/openroberta-lab/pi-ora/server/test/export/staticResources/blockly/msg/json/ru.json:\t 78.9% -- created /home/pirate/notebooks/openroberta-lab/openroberta-lab/pi-ora/server/test/export/staticResources/blockly/msg/json/ru.json.gz\n",
      "/home/pirate/notebooks/openroberta-lab/openroberta-lab/pi-ora/server/test/export/staticResources/blockly/msg/json/sl.json:\t 74.8% -- created /home/pirate/notebooks/openroberta-lab/openroberta-lab/pi-ora/server/test/export/staticResources/blockly/msg/json/sl.json.gz\n",
      "/home/pirate/notebooks/openroberta-lab/openroberta-lab/pi-ora/server/test/export/staticResources/blockly/msg/json/el.json:\t 79.3% -- created /home/pirate/notebooks/openroberta-lab/openroberta-lab/pi-ora/server/test/export/staticResources/blockly/msg/json/el.json.gz\n",
      "/home/pirate/notebooks/openroberta-lab/openroberta-lab/pi-ora/server/test/export/staticResources/blockly/msg/json/pt.json:\t 74.6% -- created /home/pirate/notebooks/openroberta-lab/openroberta-lab/pi-ora/server/test/export/staticResources/blockly/msg/json/pt.json.gz\n",
      "/home/pirate/notebooks/openroberta-lab/openroberta-lab/pi-ora/server/test/export/staticResources/blockly/msg/json/lki.json:\t 77.2% -- created /home/pirate/notebooks/openroberta-lab/openroberta-lab/pi-ora/server/test/export/staticResources/blockly/msg/json/lki.json.gz\n",
      "/home/pirate/notebooks/openroberta-lab/openroberta-lab/pi-ora/server/test/export/staticResources/blockly/msg/json/sc.json:\t 75.4% -- created /home/pirate/notebooks/openroberta-lab/openroberta-lab/pi-ora/server/test/export/staticResources/blockly/msg/json/sc.json.gz\n",
      "/home/pirate/notebooks/openroberta-lab/openroberta-lab/pi-ora/server/test/export/staticResources/blockly/msg/json/en.json:\t 72.9% -- created /home/pirate/notebooks/openroberta-lab/openroberta-lab/pi-ora/server/test/export/staticResources/blockly/msg/json/en.json.gz\n",
      "/home/pirate/notebooks/openroberta-lab/openroberta-lab/pi-ora/server/test/export/staticResources/blockly/msg/json/ms.json:\t 73.6% -- created /home/pirate/notebooks/openroberta-lab/openroberta-lab/pi-ora/server/test/export/staticResources/blockly/msg/json/ms.json.gz\n",
      "/home/pirate/notebooks/openroberta-lab/openroberta-lab/pi-ora/server/test/export/staticResources/blockly/msg/json/fr.json:\t 75.0% -- created /home/pirate/notebooks/openroberta-lab/openroberta-lab/pi-ora/server/test/export/staticResources/blockly/msg/json/fr.json.gz\n",
      "/home/pirate/notebooks/openroberta-lab/openroberta-lab/pi-ora/server/test/export/staticResources/blockly/msg/json/ar.json:\t 77.2% -- created /home/pirate/notebooks/openroberta-lab/openroberta-lab/pi-ora/server/test/export/staticResources/blockly/msg/json/ar.json.gz\n",
      "/home/pirate/notebooks/openroberta-lab/openroberta-lab/pi-ora/server/test/export/staticResources/blockly/msg/json/eu.json:\t 71.6% -- created /home/pirate/notebooks/openroberta-lab/openroberta-lab/pi-ora/server/test/export/staticResources/blockly/msg/json/eu.json.gz\n",
      "/home/pirate/notebooks/openroberta-lab/openroberta-lab/pi-ora/server/test/export/staticResources/blockly/msg/json/be.json:\t 77.8% -- created /home/pirate/notebooks/openroberta-lab/openroberta-lab/pi-ora/server/test/export/staticResources/blockly/msg/json/be.json.gz\n",
      "/home/pirate/notebooks/openroberta-lab/openroberta-lab/pi-ora/server/test/export/staticResources/blockly/msg/json/ko.json:\t 74.7% -- created /home/pirate/notebooks/openroberta-lab/openroberta-lab/pi-ora/server/test/export/staticResources/blockly/msg/json/ko.json.gz\n",
      "/home/pirate/notebooks/openroberta-lab/openroberta-lab/pi-ora/server/test/export/staticResources/blockly/msg/json/ca.json:\t 75.4% -- created /home/pirate/notebooks/openroberta-lab/openroberta-lab/pi-ora/server/test/export/staticResources/blockly/msg/json/ca.json.gz\n",
      "/home/pirate/notebooks/openroberta-lab/openroberta-lab/pi-ora/server/test/export/staticResources/blockly/msg/json/pl.json:\t 73.4% -- created /home/pirate/notebooks/openroberta-lab/openroberta-lab/pi-ora/server/test/export/staticResources/blockly/msg/json/pl.json.gz\n",
      "/home/pirate/notebooks/openroberta-lab/openroberta-lab/pi-ora/server/test/export/staticResources/blockly/msg/json/sv.json:\t 75.1% -- created /home/pirate/notebooks/openroberta-lab/openroberta-lab/pi-ora/server/test/export/staticResources/blockly/msg/json/sv.json.gz\n",
      "/home/pirate/notebooks/openroberta-lab/openroberta-lab/pi-ora/server/test/export/staticResources/blockly/msg/json/id.json:\t 74.8% -- created /home/pirate/notebooks/openroberta-lab/openroberta-lab/pi-ora/server/test/export/staticResources/blockly/msg/json/id.json.gz\n",
      "/home/pirate/notebooks/openroberta-lab/openroberta-lab/pi-ora/server/test/export/staticResources/blockly/msg/json/bn.json:\t 78.5% -- created /home/pirate/notebooks/openroberta-lab/openroberta-lab/pi-ora/server/test/export/staticResources/blockly/msg/json/bn.json.gz\n",
      "/home/pirate/notebooks/openroberta-lab/openroberta-lab/pi-ora/server/test/export/staticResources/blockly/msg/json/synonyms.json:\t 82.0% -- created /home/pirate/notebooks/openroberta-lab/openroberta-lab/pi-ora/server/test/export/staticResources/blockly/msg/json/synonyms.json.gz\n",
      "/home/pirate/notebooks/openroberta-lab/openroberta-lab/pi-ora/server/test/export/staticResources/blockly/msg/json/ba.json:\t 74.7% -- created /home/pirate/notebooks/openroberta-lab/openroberta-lab/pi-ora/server/test/export/staticResources/blockly/msg/json/ba.json.gz\n",
      "/home/pirate/notebooks/openroberta-lab/openroberta-lab/pi-ora/server/test/export/staticResources/blockly/msg/json/zh-hans.json:\t 72.8% -- created /home/pirate/notebooks/openroberta-lab/openroberta-lab/pi-ora/server/test/export/staticResources/blockly/msg/json/zh-hans.json.gz\n",
      "/home/pirate/notebooks/openroberta-lab/openroberta-lab/pi-ora/server/test/export/staticResources/blockly/msg/json/uk.json:\t 77.7% -- created /home/pirate/notebooks/openroberta-lab/openroberta-lab/pi-ora/server/test/export/staticResources/blockly/msg/json/uk.json.gz\n",
      "/home/pirate/notebooks/openroberta-lab/openroberta-lab/pi-ora/server/test/export/staticResources/blockly/msg/json/tr.json:\t 72.4% -- created /home/pirate/notebooks/openroberta-lab/openroberta-lab/pi-ora/server/test/export/staticResources/blockly/msg/json/tr.json.gz\n",
      "/home/pirate/notebooks/openroberta-lab/openroberta-lab/pi-ora/server/test/export/staticResources/blockly/msg/json/ia.json:\t 76.3% -- created /home/pirate/notebooks/openroberta-lab/openroberta-lab/pi-ora/server/test/export/staticResources/blockly/msg/json/ia.json.gz\n",
      "/home/pirate/notebooks/openroberta-lab/openroberta-lab/pi-ora/server/test/export/staticResources/blockly/msg/json/it.json:\t 75.9% -- created /home/pirate/notebooks/openroberta-lab/openroberta-lab/pi-ora/server/test/export/staticResources/blockly/msg/json/it.json.gz\n",
      "/home/pirate/notebooks/openroberta-lab/openroberta-lab/pi-ora/server/test/export/staticResources/blockly/msg/json/lt.json:\t 69.0% -- created /home/pirate/notebooks/openroberta-lab/openroberta-lab/pi-ora/server/test/export/staticResources/blockly/msg/json/lt.json.gz\n",
      "/home/pirate/notebooks/openroberta-lab/openroberta-lab/pi-ora/server/test/export/staticResources/blockly/msg/json/de.json:\t 72.9% -- created /home/pirate/notebooks/openroberta-lab/openroberta-lab/pi-ora/server/test/export/staticResources/blockly/msg/json/de.json.gz\n",
      "/home/pirate/notebooks/openroberta-lab/openroberta-lab/pi-ora/server/test/export/staticResources/blockly/msg/json/lrc.json:\t 68.2% -- created /home/pirate/notebooks/openroberta-lab/openroberta-lab/pi-ora/server/test/export/staticResources/blockly/msg/json/lrc.json.gz\n",
      "/home/pirate/notebooks/openroberta-lab/openroberta-lab/pi-ora/server/test/export/staticResources/blockly/msg/json/vi.json:\t 77.1% -- created /home/pirate/notebooks/openroberta-lab/openroberta-lab/pi-ora/server/test/export/staticResources/blockly/msg/json/vi.json.gz\n",
      "/home/pirate/notebooks/openroberta-lab/openroberta-lab/pi-ora/server/test/export/staticResources/blockly/msg/json/hrx.json:\t 74.0% -- created /home/pirate/notebooks/openroberta-lab/openroberta-lab/pi-ora/server/test/export/staticResources/blockly/msg/json/hrx.json.gz\n",
      "/home/pirate/notebooks/openroberta-lab/openroberta-lab/pi-ora/server/test/export/staticResources/blockly/msg/json/tcy.json:\t 77.1% -- created /home/pirate/notebooks/openroberta-lab/openroberta-lab/pi-ora/server/test/export/staticResources/blockly/msg/json/tcy.json.gz\n",
      "/home/pirate/notebooks/openroberta-lab/openroberta-lab/pi-ora/server/test/export/staticResources/blockly/msg/json/ta.json:\t 83.5% -- created /home/pirate/notebooks/openroberta-lab/openroberta-lab/pi-ora/server/test/export/staticResources/blockly/msg/json/ta.json.gz\n",
      "/home/pirate/notebooks/openroberta-lab/openroberta-lab/pi-ora/server/test/export/staticResources/blockly/msg/json/sr.json:\t 77.3% -- created /home/pirate/notebooks/openroberta-lab/openroberta-lab/pi-ora/server/test/export/staticResources/blockly/msg/json/sr.json.gz\n",
      "/home/pirate/notebooks/openroberta-lab/openroberta-lab/pi-ora/server/test/export/staticResources/blockly/msg/json/oc.json:\t 66.4% -- created /home/pirate/notebooks/openroberta-lab/openroberta-lab/pi-ora/server/test/export/staticResources/blockly/msg/json/oc.json.gz\n",
      "/home/pirate/notebooks/openroberta-lab/openroberta-lab/pi-ora/server/test/export/staticResources/blockly/msg/json/sq.json:\t 74.4% -- created /home/pirate/notebooks/openroberta-lab/openroberta-lab/pi-ora/server/test/export/staticResources/blockly/msg/json/sq.json.gz\n",
      "/home/pirate/notebooks/openroberta-lab/openroberta-lab/pi-ora/server/test/export/staticResources/blockly/msg/json/da.json:\t 75.4% -- created /home/pirate/notebooks/openroberta-lab/openroberta-lab/pi-ora/server/test/export/staticResources/blockly/msg/json/da.json.gz\n",
      "/home/pirate/notebooks/openroberta-lab/openroberta-lab/pi-ora/server/test/export/staticResources/blockly/msg/json/qqq.json:\t 81.9% -- created /home/pirate/notebooks/openroberta-lab/openroberta-lab/pi-ora/server/test/export/staticResources/blockly/msg/json/qqq.json.gz\n",
      "/home/pirate/notebooks/openroberta-lab/openroberta-lab/pi-ora/server/test/export/staticResources/blockly/msg/json/br.json:\t 75.2% -- created /home/pirate/notebooks/openroberta-lab/openroberta-lab/pi-ora/server/test/export/staticResources/blockly/msg/json/br.json.gz\n",
      "/home/pirate/notebooks/openroberta-lab/openroberta-lab/pi-ora/server/test/export/staticResources/blockly/msg/json/tl.json:\t 74.1% -- created /home/pirate/notebooks/openroberta-lab/openroberta-lab/pi-ora/server/test/export/staticResources/blockly/msg/json/tl.json.gz\n",
      "/home/pirate/notebooks/openroberta-lab/openroberta-lab/pi-ora/server/test/export/staticResources/blockly/msg/json/mk.json:\t 71.6% -- created /home/pirate/notebooks/openroberta-lab/openroberta-lab/pi-ora/server/test/export/staticResources/blockly/msg/json/mk.json.gz\n",
      "/home/pirate/notebooks/openroberta-lab/openroberta-lab/pi-ora/server/test/export/staticResources/blockly/msg/json/be-tarask.json:\t 77.7% -- created /home/pirate/notebooks/openroberta-lab/openroberta-lab/pi-ora/server/test/export/staticResources/blockly/msg/json/be-tarask.json.gz\n",
      "/home/pirate/notebooks/openroberta-lab/openroberta-lab/pi-ora/server/test/export/staticResources/blockly/msg/json/cs.json:\t 73.2% -- created /home/pirate/notebooks/openroberta-lab/openroberta-lab/pi-ora/server/test/export/staticResources/blockly/msg/json/cs.json.gz\n",
      "/home/pirate/notebooks/openroberta-lab/openroberta-lab/pi-ora/server/test/export/staticResources/blockly/msg/json/nb.json:\t 74.8% -- created /home/pirate/notebooks/openroberta-lab/openroberta-lab/pi-ora/server/test/export/staticResources/blockly/msg/json/nb.json.gz\n",
      "/home/pirate/notebooks/openroberta-lab/openroberta-lab/pi-ora/server/test/export/staticResources/blockly/msg/json/shn.json:\t 82.7% -- created /home/pirate/notebooks/openroberta-lab/openroberta-lab/pi-ora/server/test/export/staticResources/blockly/msg/json/shn.json.gz\n",
      "/home/pirate/notebooks/openroberta-lab/openroberta-lab/pi-ora/server/test/export/staticResources/blockly/msg/json/ja.json:\t 75.0% -- created /home/pirate/notebooks/openroberta-lab/openroberta-lab/pi-ora/server/test/export/staticResources/blockly/msg/json/ja.json.gz\n",
      "/home/pirate/notebooks/openroberta-lab/openroberta-lab/pi-ora/server/test/export/staticResources/blockly/msg/json/pt-br.json:\t 75.1% -- created /home/pirate/notebooks/openroberta-lab/openroberta-lab/pi-ora/server/test/export/staticResources/blockly/msg/json/pt-br.json.gz\n",
      "/home/pirate/notebooks/openroberta-lab/openroberta-lab/pi-ora/server/test/export/staticResources/blockly/msg/js/el.js:\t 78.7% -- created /home/pirate/notebooks/openroberta-lab/openroberta-lab/pi-ora/server/test/export/staticResources/blockly/msg/js/el.js.gz\n",
      "/home/pirate/notebooks/openroberta-lab/openroberta-lab/pi-ora/server/test/export/staticResources/blockly/msg/js/sc.js:\t 78.8% -- created /home/pirate/notebooks/openroberta-lab/openroberta-lab/pi-ora/server/test/export/staticResources/blockly/msg/js/sc.js.gz\n",
      "/home/pirate/notebooks/openroberta-lab/openroberta-lab/pi-ora/server/test/export/staticResources/blockly/msg/js/oc.js:\t 79.4% -- created /home/pirate/notebooks/openroberta-lab/openroberta-lab/pi-ora/server/test/export/staticResources/blockly/msg/js/oc.js.gz\n",
      "/home/pirate/notebooks/openroberta-lab/openroberta-lab/pi-ora/server/test/export/staticResources/blockly/msg/js/ia.js:\t 79.0% -- created /home/pirate/notebooks/openroberta-lab/openroberta-lab/pi-ora/server/test/export/staticResources/blockly/msg/js/ia.js.gz\n",
      "/home/pirate/notebooks/openroberta-lab/openroberta-lab/pi-ora/server/test/export/staticResources/blockly/msg/js/pl.js:\t 75.0% -- created /home/pirate/notebooks/openroberta-lab/openroberta-lab/pi-ora/server/test/export/staticResources/blockly/msg/js/pl.js.gz\n",
      "/home/pirate/notebooks/openroberta-lab/openroberta-lab/pi-ora/server/test/export/staticResources/blockly/msg/js/he.js:\t 76.9% -- created /home/pirate/notebooks/openroberta-lab/openroberta-lab/pi-ora/server/test/export/staticResources/blockly/msg/js/he.js.gz\n",
      "/home/pirate/notebooks/openroberta-lab/openroberta-lab/pi-ora/server/test/export/staticResources/blockly/msg/js/sr.js:\t 78.6% -- created /home/pirate/notebooks/openroberta-lab/openroberta-lab/pi-ora/server/test/export/staticResources/blockly/msg/js/sr.js.gz\n",
      "/home/pirate/notebooks/openroberta-lab/openroberta-lab/pi-ora/server/test/export/staticResources/blockly/msg/js/eu.js:\t 76.4% -- created /home/pirate/notebooks/openroberta-lab/openroberta-lab/pi-ora/server/test/export/staticResources/blockly/msg/js/eu.js.gz\n",
      "/home/pirate/notebooks/openroberta-lab/openroberta-lab/pi-ora/server/test/export/staticResources/blockly/msg/js/fr.js:\t 76.0% -- created /home/pirate/notebooks/openroberta-lab/openroberta-lab/pi-ora/server/test/export/staticResources/blockly/msg/js/fr.js.gz\n",
      "/home/pirate/notebooks/openroberta-lab/openroberta-lab/pi-ora/server/test/export/staticResources/blockly/msg/js/be.js:\t 77.5% -- created /home/pirate/notebooks/openroberta-lab/openroberta-lab/pi-ora/server/test/export/staticResources/blockly/msg/js/be.js.gz\n",
      "/home/pirate/notebooks/openroberta-lab/openroberta-lab/pi-ora/server/test/export/staticResources/blockly/msg/js/ja.js:\t 78.1% -- created /home/pirate/notebooks/openroberta-lab/openroberta-lab/pi-ora/server/test/export/staticResources/blockly/msg/js/ja.js.gz\n",
      "/home/pirate/notebooks/openroberta-lab/openroberta-lab/pi-ora/server/test/export/staticResources/blockly/msg/js/lt.js:\t 78.4% -- created /home/pirate/notebooks/openroberta-lab/openroberta-lab/pi-ora/server/test/export/staticResources/blockly/msg/js/lt.js.gz\n",
      "/home/pirate/notebooks/openroberta-lab/openroberta-lab/pi-ora/server/test/export/staticResources/blockly/msg/js/cs.js:\t 75.2% -- created /home/pirate/notebooks/openroberta-lab/openroberta-lab/pi-ora/server/test/export/staticResources/blockly/msg/js/cs.js.gz\n",
      "/home/pirate/notebooks/openroberta-lab/openroberta-lab/pi-ora/server/test/export/staticResources/blockly/msg/js/en.js:\t 76.1% -- created /home/pirate/notebooks/openroberta-lab/openroberta-lab/pi-ora/server/test/export/staticResources/blockly/msg/js/en.js.gz\n",
      "/home/pirate/notebooks/openroberta-lab/openroberta-lab/pi-ora/server/test/export/staticResources/blockly/msg/js/hi.js:\t 79.3% -- created /home/pirate/notebooks/openroberta-lab/openroberta-lab/pi-ora/server/test/export/staticResources/blockly/msg/js/hi.js.gz\n",
      "/home/pirate/notebooks/openroberta-lab/openroberta-lab/pi-ora/server/test/export/staticResources/blockly/msg/js/lb.js:\t 79.3% -- created /home/pirate/notebooks/openroberta-lab/openroberta-lab/pi-ora/server/test/export/staticResources/blockly/msg/js/lb.js.gz\n",
      "/home/pirate/notebooks/openroberta-lab/openroberta-lab/pi-ora/server/test/export/staticResources/blockly/msg/js/is.js:\t 78.4% -- created /home/pirate/notebooks/openroberta-lab/openroberta-lab/pi-ora/server/test/export/staticResources/blockly/msg/js/is.js.gz\n",
      "/home/pirate/notebooks/openroberta-lab/openroberta-lab/pi-ora/server/test/export/staticResources/blockly/msg/js/pms.js:\t 78.7% -- created /home/pirate/notebooks/openroberta-lab/openroberta-lab/pi-ora/server/test/export/staticResources/blockly/msg/js/pms.js.gz\n",
      "/home/pirate/notebooks/openroberta-lab/openroberta-lab/pi-ora/server/test/export/staticResources/blockly/msg/js/hrx.js:\t 78.6% -- created /home/pirate/notebooks/openroberta-lab/openroberta-lab/pi-ora/server/test/export/staticResources/blockly/msg/js/hrx.js.gz\n",
      "/home/pirate/notebooks/openroberta-lab/openroberta-lab/pi-ora/server/test/export/staticResources/blockly/msg/js/nl.js:\t 77.3% -- created /home/pirate/notebooks/openroberta-lab/openroberta-lab/pi-ora/server/test/export/staticResources/blockly/msg/js/nl.js.gz\n",
      "/home/pirate/notebooks/openroberta-lab/openroberta-lab/pi-ora/server/test/export/staticResources/blockly/msg/js/de.js:\t 75.5% -- created /home/pirate/notebooks/openroberta-lab/openroberta-lab/pi-ora/server/test/export/staticResources/blockly/msg/js/de.js.gz\n",
      "/home/pirate/notebooks/openroberta-lab/openroberta-lab/pi-ora/server/test/export/staticResources/blockly/msg/js/uk.js:\t 78.6% -- created /home/pirate/notebooks/openroberta-lab/openroberta-lab/pi-ora/server/test/export/staticResources/blockly/msg/js/uk.js.gz\n",
      "/home/pirate/notebooks/openroberta-lab/openroberta-lab/pi-ora/server/test/export/staticResources/blockly/msg/js/ms.js:\t 78.7% -- created /home/pirate/notebooks/openroberta-lab/openroberta-lab/pi-ora/server/test/export/staticResources/blockly/msg/js/ms.js.gz\n",
      "/home/pirate/notebooks/openroberta-lab/openroberta-lab/pi-ora/server/test/export/staticResources/blockly/msg/js/pt-br.js:\t 78.8% -- created /home/pirate/notebooks/openroberta-lab/openroberta-lab/pi-ora/server/test/export/staticResources/blockly/msg/js/pt-br.js.gz\n",
      "/home/pirate/notebooks/openroberta-lab/openroberta-lab/pi-ora/server/test/export/staticResources/blockly/msg/js/sd.js:\t 79.1% -- created /home/pirate/notebooks/openroberta-lab/openroberta-lab/pi-ora/server/test/export/staticResources/blockly/msg/js/sd.js.gz\n",
      "/home/pirate/notebooks/openroberta-lab/openroberta-lab/pi-ora/server/test/export/staticResources/blockly/msg/js/ca.js:\t 76.4% -- created /home/pirate/notebooks/openroberta-lab/openroberta-lab/pi-ora/server/test/export/staticResources/blockly/msg/js/ca.js.gz\n",
      "/home/pirate/notebooks/openroberta-lab/openroberta-lab/pi-ora/server/test/export/staticResources/blockly/msg/js/da.js:\t 77.3% -- created /home/pirate/notebooks/openroberta-lab/openroberta-lab/pi-ora/server/test/export/staticResources/blockly/msg/js/da.js.gz\n",
      "/home/pirate/notebooks/openroberta-lab/openroberta-lab/pi-ora/server/test/export/staticResources/blockly/msg/js/fi.js:\t 77.3% -- created /home/pirate/notebooks/openroberta-lab/openroberta-lab/pi-ora/server/test/export/staticResources/blockly/msg/js/fi.js.gz\n",
      "/home/pirate/notebooks/openroberta-lab/openroberta-lab/pi-ora/server/test/export/staticResources/blockly/msg/js/sl.js:\t 78.7% -- created /home/pirate/notebooks/openroberta-lab/openroberta-lab/pi-ora/server/test/export/staticResources/blockly/msg/js/sl.js.gz\n",
      "/home/pirate/notebooks/openroberta-lab/openroberta-lab/pi-ora/server/test/export/staticResources/blockly/msg/js/bg.js:\t 78.8% -- created /home/pirate/notebooks/openroberta-lab/openroberta-lab/pi-ora/server/test/export/staticResources/blockly/msg/js/bg.js.gz\n",
      "/home/pirate/notebooks/openroberta-lab/openroberta-lab/pi-ora/server/test/export/staticResources/blockly/msg/js/nb.js:\t 76.8% -- created /home/pirate/notebooks/openroberta-lab/openroberta-lab/pi-ora/server/test/export/staticResources/blockly/msg/js/nb.js.gz\n",
      "/home/pirate/notebooks/openroberta-lab/openroberta-lab/pi-ora/server/test/export/staticResources/blockly/msg/js/sv.js:\t 75.5% -- created /home/pirate/notebooks/openroberta-lab/openroberta-lab/pi-ora/server/test/export/staticResources/blockly/msg/js/sv.js.gz\n",
      "/home/pirate/notebooks/openroberta-lab/openroberta-lab/pi-ora/server/test/export/staticResources/blockly/msg/js/pt.js:\t 76.9% -- created /home/pirate/notebooks/openroberta-lab/openroberta-lab/pi-ora/server/test/export/staticResources/blockly/msg/js/pt.js.gz\n",
      "/home/pirate/notebooks/openroberta-lab/openroberta-lab/pi-ora/server/test/export/staticResources/blockly/msg/js/tr.js:\t 76.2% -- created /home/pirate/notebooks/openroberta-lab/openroberta-lab/pi-ora/server/test/export/staticResources/blockly/msg/js/tr.js.gz\n",
      "/home/pirate/notebooks/openroberta-lab/openroberta-lab/pi-ora/server/test/export/staticResources/blockly/msg/js/br.js:\t 78.7% -- created /home/pirate/notebooks/openroberta-lab/openroberta-lab/pi-ora/server/test/export/staticResources/blockly/msg/js/br.js.gz\n",
      "/home/pirate/notebooks/openroberta-lab/openroberta-lab/pi-ora/server/test/export/staticResources/blockly/msg/js/be-tarask.js:\t 78.6% -- created /home/pirate/notebooks/openroberta-lab/openroberta-lab/pi-ora/server/test/export/staticResources/blockly/msg/js/be-tarask.js.gz\n",
      "/home/pirate/notebooks/openroberta-lab/openroberta-lab/pi-ora/server/test/export/staticResources/blockly/msg/js/ro.js:\t 75.0% -- created /home/pirate/notebooks/openroberta-lab/openroberta-lab/pi-ora/server/test/export/staticResources/blockly/msg/js/ro.js.gz\n",
      "/home/pirate/notebooks/openroberta-lab/openroberta-lab/pi-ora/server/test/export/staticResources/blockly/msg/js/ar.js:\t 78.6% -- created /home/pirate/notebooks/openroberta-lab/openroberta-lab/pi-ora/server/test/export/staticResources/blockly/msg/js/ar.js.gz\n",
      "/home/pirate/notebooks/openroberta-lab/openroberta-lab/pi-ora/server/test/export/staticResources/blockly/msg/js/bn.js:\t 79.3% -- created /home/pirate/notebooks/openroberta-lab/openroberta-lab/pi-ora/server/test/export/staticResources/blockly/msg/js/bn.js.gz\n",
      "/home/pirate/notebooks/openroberta-lab/openroberta-lab/pi-ora/server/test/export/staticResources/blockly/msg/js/th.js:\t 79.7% -- created /home/pirate/notebooks/openroberta-lab/openroberta-lab/pi-ora/server/test/export/staticResources/blockly/msg/js/th.js.gz\n",
      "/home/pirate/notebooks/openroberta-lab/openroberta-lab/pi-ora/server/test/export/staticResources/blockly/msg/js/shn.js:\t 79.8% -- created /home/pirate/notebooks/openroberta-lab/openroberta-lab/pi-ora/server/test/export/staticResources/blockly/msg/js/shn.js.gz\n",
      "/home/pirate/notebooks/openroberta-lab/openroberta-lab/pi-ora/server/test/export/staticResources/blockly/msg/js/sk.js:\t 78.4% -- created /home/pirate/notebooks/openroberta-lab/openroberta-lab/pi-ora/server/test/export/staticResources/blockly/msg/js/sk.js.gz\n",
      "/home/pirate/notebooks/openroberta-lab/openroberta-lab/pi-ora/server/test/export/staticResources/blockly/msg/js/fa.js:\t 78.7% -- created /home/pirate/notebooks/openroberta-lab/openroberta-lab/pi-ora/server/test/export/staticResources/blockly/msg/js/fa.js.gz\n",
      "/home/pirate/notebooks/openroberta-lab/openroberta-lab/pi-ora/server/test/export/staticResources/blockly/msg/js/vi.js:\t 78.6% -- created /home/pirate/notebooks/openroberta-lab/openroberta-lab/pi-ora/server/test/export/staticResources/blockly/msg/js/vi.js.gz\n",
      "/home/pirate/notebooks/openroberta-lab/openroberta-lab/pi-ora/server/test/export/staticResources/blockly/msg/js/ru.js:\t 77.3% -- created /home/pirate/notebooks/openroberta-lab/openroberta-lab/pi-ora/server/test/export/staticResources/blockly/msg/js/ru.js.gz\n",
      "/home/pirate/notebooks/openroberta-lab/openroberta-lab/pi-ora/server/test/export/staticResources/blockly/msg/js/sq.js:\t 78.6% -- created /home/pirate/notebooks/openroberta-lab/openroberta-lab/pi-ora/server/test/export/staticResources/blockly/msg/js/sq.js.gz\n",
      "/home/pirate/notebooks/openroberta-lab/openroberta-lab/pi-ora/server/test/export/staticResources/blockly/msg/js/lrc.js:\t 79.1% -- created /home/pirate/notebooks/openroberta-lab/openroberta-lab/pi-ora/server/test/export/staticResources/blockly/msg/js/lrc.js.gz\n",
      "/home/pirate/notebooks/openroberta-lab/openroberta-lab/pi-ora/server/test/export/staticResources/blockly/msg/js/tlh.js:\t 79.3% -- created /home/pirate/notebooks/openroberta-lab/openroberta-lab/pi-ora/server/test/export/staticResources/blockly/msg/js/tlh.js.gz\n",
      "/home/pirate/notebooks/openroberta-lab/openroberta-lab/pi-ora/server/test/export/staticResources/blockly/msg/js/es.js:\t 76.4% -- created /home/pirate/notebooks/openroberta-lab/openroberta-lab/pi-ora/server/test/export/staticResources/blockly/msg/js/es.js.gz\n",
      "/home/pirate/notebooks/openroberta-lab/openroberta-lab/pi-ora/server/test/export/staticResources/blockly/msg/js/tcy.js:\t 79.3% -- created /home/pirate/notebooks/openroberta-lab/openroberta-lab/pi-ora/server/test/export/staticResources/blockly/msg/js/tcy.js.gz\n",
      "/home/pirate/notebooks/openroberta-lab/openroberta-lab/pi-ora/server/test/export/staticResources/blockly/msg/js/lki.js:\t 78.6% -- created /home/pirate/notebooks/openroberta-lab/openroberta-lab/pi-ora/server/test/export/staticResources/blockly/msg/js/lki.js.gz\n",
      "/home/pirate/notebooks/openroberta-lab/openroberta-lab/pi-ora/server/test/export/staticResources/blockly/msg/js/hu.js:\t 76.5% -- created /home/pirate/notebooks/openroberta-lab/openroberta-lab/pi-ora/server/test/export/staticResources/blockly/msg/js/hu.js.gz\n",
      "/home/pirate/notebooks/openroberta-lab/openroberta-lab/pi-ora/server/test/export/staticResources/blockly/msg/js/ta.js:\t 79.8% -- created /home/pirate/notebooks/openroberta-lab/openroberta-lab/pi-ora/server/test/export/staticResources/blockly/msg/js/ta.js.gz\n",
      "/home/pirate/notebooks/openroberta-lab/openroberta-lab/pi-ora/server/test/export/staticResources/blockly/msg/js/zh-hans.js:\t 73.4% -- created /home/pirate/notebooks/openroberta-lab/openroberta-lab/pi-ora/server/test/export/staticResources/blockly/msg/js/zh-hans.js.gz\n",
      "/home/pirate/notebooks/openroberta-lab/openroberta-lab/pi-ora/server/test/export/staticResources/blockly/msg/js/id.js:\t 78.8% -- created /home/pirate/notebooks/openroberta-lab/openroberta-lab/pi-ora/server/test/export/staticResources/blockly/msg/js/id.js.gz\n",
      "/home/pirate/notebooks/openroberta-lab/openroberta-lab/pi-ora/server/test/export/staticResources/blockly/msg/js/tl.js:\t 78.9% -- created /home/pirate/notebooks/openroberta-lab/openroberta-lab/pi-ora/server/test/export/staticResources/blockly/msg/js/tl.js.gz\n",
      "/home/pirate/notebooks/openroberta-lab/openroberta-lab/pi-ora/server/test/export/staticResources/blockly/msg/js/ba.js:\t 78.8% -- created /home/pirate/notebooks/openroberta-lab/openroberta-lab/pi-ora/server/test/export/staticResources/blockly/msg/js/ba.js.gz\n",
      "/home/pirate/notebooks/openroberta-lab/openroberta-lab/pi-ora/server/test/export/staticResources/blockly/msg/js/mk.js:\t 77.4% -- created /home/pirate/notebooks/openroberta-lab/openroberta-lab/pi-ora/server/test/export/staticResources/blockly/msg/js/mk.js.gz\n",
      "/home/pirate/notebooks/openroberta-lab/openroberta-lab/pi-ora/server/test/export/staticResources/blockly/msg/js/it.js:\t 76.0% -- created /home/pirate/notebooks/openroberta-lab/openroberta-lab/pi-ora/server/test/export/staticResources/blockly/msg/js/it.js.gz\n",
      "/home/pirate/notebooks/openroberta-lab/openroberta-lab/pi-ora/server/test/export/staticResources/blockly/msg/js/az.js:\t 78.5% -- created /home/pirate/notebooks/openroberta-lab/openroberta-lab/pi-ora/server/test/export/staticResources/blockly/msg/js/az.js.gz\n",
      "/home/pirate/notebooks/openroberta-lab/openroberta-lab/pi-ora/server/test/export/staticResources/blockly/msg/js/zh-hant.js:\t 73.4% -- created /home/pirate/notebooks/openroberta-lab/openroberta-lab/pi-ora/server/test/export/staticResources/blockly/msg/js/zh-hant.js.gz\n",
      "/home/pirate/notebooks/openroberta-lab/openroberta-lab/pi-ora/server/test/export/staticResources/blockly/msg/js/bcc.js:\t 78.7% -- created /home/pirate/notebooks/openroberta-lab/openroberta-lab/pi-ora/server/test/export/staticResources/blockly/msg/js/bcc.js.gz\n",
      "/home/pirate/notebooks/openroberta-lab/openroberta-lab/pi-ora/server/test/export/staticResources/blockly/msg/js/ko.js:\t 78.0% -- created /home/pirate/notebooks/openroberta-lab/openroberta-lab/pi-ora/server/test/export/staticResources/blockly/msg/js/ko.js.gz\n",
      "/home/pirate/notebooks/openroberta-lab/openroberta-lab/pi-ora/server/test/export/staticResources/blockly/blockly_compressed.js:\t 77.3% -- created /home/pirate/notebooks/openroberta-lab/openroberta-lab/pi-ora/server/test/export/staticResources/blockly/blockly_compressed.js.gz\n",
      "/home/pirate/notebooks/openroberta-lab/openroberta-lab/pi-ora/server/test/export/staticResources/blockly/blocks_compressed.js:\t 85.7% -- created /home/pirate/notebooks/openroberta-lab/openroberta-lab/pi-ora/server/test/export/staticResources/blockly/blocks_compressed.js.gz\n",
      "/home/pirate/notebooks/openroberta-lab/openroberta-lab/pi-ora/server/test/export/staticResources/blockly/media/handdelete.cur:\t 79.6% -- created /home/pirate/notebooks/openroberta-lab/openroberta-lab/pi-ora/server/test/export/staticResources/blockly/media/handdelete.cur.gz\n",
      "/home/pirate/notebooks/openroberta-lab/openroberta-lab/pi-ora/server/test/export/staticResources/blockly/media/handopen.cur:\t 42.4% -- created /home/pirate/notebooks/openroberta-lab/openroberta-lab/pi-ora/server/test/export/staticResources/blockly/media/handopen.cur.gz\n",
      "/home/pirate/notebooks/openroberta-lab/openroberta-lab/pi-ora/server/test/export/staticResources/blockly/media/sprites.svg:\t 64.3% -- created /home/pirate/notebooks/openroberta-lab/openroberta-lab/pi-ora/server/test/export/staticResources/blockly/media/sprites.svg.gz\n",
      "/home/pirate/notebooks/openroberta-lab/openroberta-lab/pi-ora/server/test/export/staticResources/blockly/media/handclosed.cur:\t 69.0% -- created /home/pirate/notebooks/openroberta-lab/openroberta-lab/pi-ora/server/test/export/staticResources/blockly/media/handclosed.cur.gz\n",
      "/home/pirate/notebooks/openroberta-lab/openroberta-lab/pi-ora/server/test/export/staticResources/manifest.webapp.json:\t 43.5% -- created /home/pirate/notebooks/openroberta-lab/openroberta-lab/pi-ora/server/test/export/staticResources/manifest.webapp.json.gz\n",
      "/home/pirate/notebooks/openroberta-lab/openroberta-lab/pi-ora/server/test/export/staticResources/theme/business.json:\t 66.0% -- created /home/pirate/notebooks/openroberta-lab/openroberta-lab/pi-ora/server/test/export/staticResources/theme/business.json.gz\n",
      "/home/pirate/notebooks/openroberta-lab/openroberta-lab/pi-ora/server/test/export/staticResources/help/progHelp_microbit_de.html:\t 82.5% -- created /home/pirate/notebooks/openroberta-lab/openroberta-lab/pi-ora/server/test/export/staticResources/help/progHelp_microbit_de.html.gz\n",
      "/home/pirate/notebooks/openroberta-lab/openroberta-lab/pi-ora/server/test/export/staticResources/help/progHelp_mbot_en.html:\t 83.7% -- created /home/pirate/notebooks/openroberta-lab/openroberta-lab/pi-ora/server/test/export/staticResources/help/progHelp_mbot_en.html.gz\n",
      "/home/pirate/notebooks/openroberta-lab/openroberta-lab/pi-ora/server/test/export/staticResources/help/progHelp_bob3_en.html:\t 81.6% -- created /home/pirate/notebooks/openroberta-lab/openroberta-lab/pi-ora/server/test/export/staticResources/help/progHelp_bob3_en.html.gz\n",
      "/home/pirate/notebooks/openroberta-lab/openroberta-lab/pi-ora/server/test/export/staticResources/help/progHelp_wedo_en.html:\t 82.3% -- created /home/pirate/notebooks/openroberta-lab/openroberta-lab/pi-ora/server/test/export/staticResources/help/progHelp_wedo_en.html.gz\n",
      "/home/pirate/notebooks/openroberta-lab/openroberta-lab/pi-ora/server/test/export/staticResources/help/progHelp_calliope_de.html:\t 82.4% -- created /home/pirate/notebooks/openroberta-lab/openroberta-lab/pi-ora/server/test/export/staticResources/help/progHelp_calliope_de.html.gz\n",
      "/home/pirate/notebooks/openroberta-lab/openroberta-lab/pi-ora/server/test/export/staticResources/help/progHelp_edison_de.html:\t 82.7% -- created /home/pirate/notebooks/openroberta-lab/openroberta-lab/pi-ora/server/test/export/staticResources/help/progHelp_edison_de.html.gz\n",
      "/home/pirate/notebooks/openroberta-lab/openroberta-lab/pi-ora/server/test/export/staticResources/help/progHelp_sensebox_en.html:\t 82.7% -- created /home/pirate/notebooks/openroberta-lab/openroberta-lab/pi-ora/server/test/export/staticResources/help/progHelp_sensebox_en.html.gz\n",
      "/home/pirate/notebooks/openroberta-lab/openroberta-lab/pi-ora/server/test/export/staticResources/help/progHelp_nao_de.html:\t 82.3% -- created /home/pirate/notebooks/openroberta-lab/openroberta-lab/pi-ora/server/test/export/staticResources/help/progHelp_nao_de.html.gz\n",
      "/home/pirate/notebooks/openroberta-lab/openroberta-lab/pi-ora/server/test/export/staticResources/help/progHelp_festobionic_en.html:\t 83.2% -- created /home/pirate/notebooks/openroberta-lab/openroberta-lab/pi-ora/server/test/export/staticResources/help/progHelp_festobionic_en.html.gz\n",
      "/home/pirate/notebooks/openroberta-lab/openroberta-lab/pi-ora/server/test/export/staticResources/help/progHelp_edison_en.html:\t 82.9% -- created /home/pirate/notebooks/openroberta-lab/openroberta-lab/pi-ora/server/test/export/staticResources/help/progHelp_edison_en.html.gz\n",
      "/home/pirate/notebooks/openroberta-lab/openroberta-lab/pi-ora/server/test/export/staticResources/help/progHelp_microbit_en.html:\t 81.7% -- created /home/pirate/notebooks/openroberta-lab/openroberta-lab/pi-ora/server/test/export/staticResources/help/progHelp_microbit_en.html.gz\n",
      "/home/pirate/notebooks/openroberta-lab/openroberta-lab/pi-ora/server/test/export/staticResources/help/progHelp_festobionic_de.html:\t 83.4% -- created /home/pirate/notebooks/openroberta-lab/openroberta-lab/pi-ora/server/test/export/staticResources/help/progHelp_festobionic_de.html.gz\n",
      "/home/pirate/notebooks/openroberta-lab/openroberta-lab/pi-ora/server/test/export/staticResources/help/progHelp-edison_en.html:\t 82.1% -- created /home/pirate/notebooks/openroberta-lab/openroberta-lab/pi-ora/server/test/export/staticResources/help/progHelp-edison_en.html.gz\n",
      "/home/pirate/notebooks/openroberta-lab/openroberta-lab/pi-ora/server/test/export/staticResources/help/progHelp_calliope_en.html:\t 82.0% -- created /home/pirate/notebooks/openroberta-lab/openroberta-lab/pi-ora/server/test/export/staticResources/help/progHelp_calliope_en.html.gz\n",
      "/home/pirate/notebooks/openroberta-lab/openroberta-lab/pi-ora/server/test/export/staticResources/help/progHelp_bob3_de.html:\t 82.2% -- created /home/pirate/notebooks/openroberta-lab/openroberta-lab/pi-ora/server/test/export/staticResources/help/progHelp_bob3_de.html.gz\n",
      "/home/pirate/notebooks/openroberta-lab/openroberta-lab/pi-ora/server/test/export/staticResources/help/progHelp_arduino_en.html:\t 83.7% -- created /home/pirate/notebooks/openroberta-lab/openroberta-lab/pi-ora/server/test/export/staticResources/help/progHelp_arduino_en.html.gz\n",
      "/home/pirate/notebooks/openroberta-lab/openroberta-lab/pi-ora/server/test/export/staticResources/help/progHelp_wedo_de.html:\t 83.2% -- created /home/pirate/notebooks/openroberta-lab/openroberta-lab/pi-ora/server/test/export/staticResources/help/progHelp_wedo_de.html.gz\n",
      "/home/pirate/notebooks/openroberta-lab/openroberta-lab/pi-ora/server/test/export/staticResources/help/progHelp_nao_en.html:\t 82.5% -- created /home/pirate/notebooks/openroberta-lab/openroberta-lab/pi-ora/server/test/export/staticResources/help/progHelp_nao_en.html.gz\n",
      "/home/pirate/notebooks/openroberta-lab/openroberta-lab/pi-ora/server/test/export/staticResources/help/progHelp_arduino_de.html:\t 83.8% -- created /home/pirate/notebooks/openroberta-lab/openroberta-lab/pi-ora/server/test/export/staticResources/help/progHelp_arduino_de.html.gz\n",
      "/home/pirate/notebooks/openroberta-lab/openroberta-lab/pi-ora/server/test/export/staticResources/help/progHelp_mbot_de.html:\t 84.0% -- created /home/pirate/notebooks/openroberta-lab/openroberta-lab/pi-ora/server/test/export/staticResources/help/progHelp_mbot_de.html.gz\n",
      "/home/pirate/notebooks/openroberta-lab/openroberta-lab/pi-ora/server/test/export/staticResources/help/progHelp_sensebox_de.html:\t 82.9% -- created /home/pirate/notebooks/openroberta-lab/openroberta-lab/pi-ora/server/test/export/staticResources/help/progHelp_sensebox_de.html.gz\n",
      "/home/pirate/notebooks/openroberta-lab/openroberta-lab/pi-ora/server/test/export/staticResources/help/progHelp_ev3_de.html:\t 82.4% -- created /home/pirate/notebooks/openroberta-lab/openroberta-lab/pi-ora/server/test/export/staticResources/help/progHelp_ev3_de.html.gz\n",
      "/home/pirate/notebooks/openroberta-lab/openroberta-lab/pi-ora/server/test/export/staticResources/help/progHelp_nxt_en.html:\t 82.0% -- created /home/pirate/notebooks/openroberta-lab/openroberta-lab/pi-ora/server/test/export/staticResources/help/progHelp_nxt_en.html.gz\n",
      "/home/pirate/notebooks/openroberta-lab/openroberta-lab/pi-ora/server/test/export/staticResources/help/progHelp_ev3_en.html:\t 81.8% -- created /home/pirate/notebooks/openroberta-lab/openroberta-lab/pi-ora/server/test/export/staticResources/help/progHelp_ev3_en.html.gz\n",
      "/home/pirate/notebooks/openroberta-lab/openroberta-lab/pi-ora/server/test/export/staticResources/xmlTest/test_5.xml:\t 84.7% -- created /home/pirate/notebooks/openroberta-lab/openroberta-lab/pi-ora/server/test/export/staticResources/xmlTest/test_5.xml.gz\n",
      "/home/pirate/notebooks/openroberta-lab/openroberta-lab/pi-ora/server/test/export/staticResources/xmlTest/test_3.xml:\t 77.0% -- created /home/pirate/notebooks/openroberta-lab/openroberta-lab/pi-ora/server/test/export/staticResources/xmlTest/test_3.xml.gz\n",
      "/home/pirate/notebooks/openroberta-lab/openroberta-lab/pi-ora/server/test/export/staticResources/xmlTest/index.html:\t 70.8% -- created /home/pirate/notebooks/openroberta-lab/openroberta-lab/pi-ora/server/test/export/staticResources/xmlTest/index.html.gz\n",
      "/home/pirate/notebooks/openroberta-lab/openroberta-lab/pi-ora/server/test/export/staticResources/xmlTest/test_4.xml:\t 84.8% -- created /home/pirate/notebooks/openroberta-lab/openroberta-lab/pi-ora/server/test/export/staticResources/xmlTest/test_4.xml.gz\n",
      "/home/pirate/notebooks/openroberta-lab/openroberta-lab/pi-ora/server/test/export/staticResources/xmlTest/roberta_test.js:\t 70.4% -- created /home/pirate/notebooks/openroberta-lab/openroberta-lab/pi-ora/server/test/export/staticResources/xmlTest/roberta_test.js.gz\n",
      "/home/pirate/notebooks/openroberta-lab/openroberta-lab/pi-ora/server/test/export/staticResources/xmlTest/test_1.xml:\t 62.1% -- created /home/pirate/notebooks/openroberta-lab/openroberta-lab/pi-ora/server/test/export/staticResources/xmlTest/test_1.xml.gz\n",
      "/home/pirate/notebooks/openroberta-lab/openroberta-lab/pi-ora/server/test/export/staticResources/xmlTest/test_6.xml:\t 82.4% -- created /home/pirate/notebooks/openroberta-lab/openroberta-lab/pi-ora/server/test/export/staticResources/xmlTest/test_6.xml.gz\n",
      "/home/pirate/notebooks/openroberta-lab/openroberta-lab/pi-ora/server/test/export/staticResources/xmlTest/test_7.xml:\t 76.0% -- created /home/pirate/notebooks/openroberta-lab/openroberta-lab/pi-ora/server/test/export/staticResources/xmlTest/test_7.xml.gz\n",
      "/home/pirate/notebooks/openroberta-lab/openroberta-lab/pi-ora/server/test/export/staticResources/xmlTest/test_8.xml:\t 82.6% -- created /home/pirate/notebooks/openroberta-lab/openroberta-lab/pi-ora/server/test/export/staticResources/xmlTest/test_8.xml.gz\n",
      "/home/pirate/notebooks/openroberta-lab/openroberta-lab/pi-ora/server/test/export/staticResources/js/helper/comm.js:\t 68.2% -- created /home/pirate/notebooks/openroberta-lab/openroberta-lab/pi-ora/server/test/export/staticResources/js/helper/comm.js.gz\n",
      "/home/pirate/notebooks/openroberta-lab/openroberta-lab/pi-ora/server/test/export/staticResources/js/helper/msg.js:\t 73.8% -- created /home/pirate/notebooks/openroberta-lab/openroberta-lab/pi-ora/server/test/export/staticResources/js/helper/msg.js.gz\n",
      "/home/pirate/notebooks/openroberta-lab/openroberta-lab/pi-ora/server/test/export/staticResources/js/helper/log.js:\t 70.6% -- created /home/pirate/notebooks/openroberta-lab/openroberta-lab/pi-ora/server/test/export/staticResources/js/helper/log.js.gz\n",
      "/home/pirate/notebooks/openroberta-lab/openroberta-lab/pi-ora/server/test/export/staticResources/js/helper/dbc.js:\t 66.5% -- created /home/pirate/notebooks/openroberta-lab/openroberta-lab/pi-ora/server/test/export/staticResources/js/helper/dbc.js.gz\n",
      "/home/pirate/notebooks/openroberta-lab/openroberta-lab/pi-ora/server/test/export/staticResources/js/helper/wrap.js:\t 69.4% -- created /home/pirate/notebooks/openroberta-lab/openroberta-lab/pi-ora/server/test/export/staticResources/js/helper/wrap.js.gz\n",
      "/home/pirate/notebooks/openroberta-lab/openroberta-lab/pi-ora/server/test/export/staticResources/js/helper/util.js:\t 76.1% -- created /home/pirate/notebooks/openroberta-lab/openroberta-lab/pi-ora/server/test/export/staticResources/js/helper/util.js.gz\n",
      "/home/pirate/notebooks/openroberta-lab/openroberta-lab/pi-ora/server/test/export/staticResources/js/main.js:\t 81.1% -- created /home/pirate/notebooks/openroberta-lab/openroberta-lab/pi-ora/server/test/export/staticResources/js/main.js.gz\n",
      "/home/pirate/notebooks/openroberta-lab/openroberta-lab/pi-ora/server/test/export/staticResources/js/require.js:\t 75.8% -- created /home/pirate/notebooks/openroberta-lab/openroberta-lab/pi-ora/server/test/export/staticResources/js/require.js.gz\n",
      "/home/pirate/notebooks/openroberta-lab/openroberta-lab/pi-ora/server/test/export/staticResources/js/libs/socket.io/socket.io.js.map:\t 74.2% -- created /home/pirate/notebooks/openroberta-lab/openroberta-lab/pi-ora/server/test/export/staticResources/js/libs/socket.io/socket.io.js.map.gz\n",
      "/home/pirate/notebooks/openroberta-lab/openroberta-lab/pi-ora/server/test/export/staticResources/js/libs/socket.io/socket.io.slim.js.map:\t 74.6% -- created /home/pirate/notebooks/openroberta-lab/openroberta-lab/pi-ora/server/test/export/staticResources/js/libs/socket.io/socket.io.slim.js.map.gz\n",
      "/home/pirate/notebooks/openroberta-lab/openroberta-lab/pi-ora/server/test/export/staticResources/js/libs/socket.io/socket.io.js:\t 69.6% -- created /home/pirate/notebooks/openroberta-lab/openroberta-lab/pi-ora/server/test/export/staticResources/js/libs/socket.io/socket.io.js.gz\n",
      "/home/pirate/notebooks/openroberta-lab/openroberta-lab/pi-ora/server/test/export/staticResources/js/libs/socket.io/socket.io.slim.js:\t 70.5% -- created /home/pirate/notebooks/openroberta-lab/openroberta-lab/pi-ora/server/test/export/staticResources/js/libs/socket.io/socket.io.slim.js.gz\n",
      "/home/pirate/notebooks/openroberta-lab/openroberta-lab/pi-ora/server/test/export/staticResources/js/libs/sound/volume-meter.js:\t 53.4% -- created /home/pirate/notebooks/openroberta-lab/openroberta-lab/pi-ora/server/test/export/staticResources/js/libs/sound/volume-meter.js.gz\n",
      "/home/pirate/notebooks/openroberta-lab/openroberta-lab/pi-ora/server/test/export/staticResources/js/libs/slick/slick.min.js:\t 76.0% -- created /home/pirate/notebooks/openroberta-lab/openroberta-lab/pi-ora/server/test/export/staticResources/js/libs/slick/slick.min.js.gz\n",
      "/home/pirate/notebooks/openroberta-lab/openroberta-lab/pi-ora/server/test/export/staticResources/js/libs/bootstrap/bootstrap-3.3.1-dist/dist/css/bootstrap-theme.min.css:\t 88.2% -- created /home/pirate/notebooks/openroberta-lab/openroberta-lab/pi-ora/server/test/export/staticResources/js/libs/bootstrap/bootstrap-3.3.1-dist/dist/css/bootstrap-theme.min.css.gz\n",
      "/home/pirate/notebooks/openroberta-lab/openroberta-lab/pi-ora/server/test/export/staticResources/js/libs/bootstrap/bootstrap-3.3.1-dist/dist/css/bootstrap-theme.css.map:\t 84.8% -- created /home/pirate/notebooks/openroberta-lab/openroberta-lab/pi-ora/server/test/export/staticResources/js/libs/bootstrap/bootstrap-3.3.1-dist/dist/css/bootstrap-theme.css.map.gz\n",
      "/home/pirate/notebooks/openroberta-lab/openroberta-lab/pi-ora/server/test/export/staticResources/js/libs/bootstrap/bootstrap-3.3.1-dist/dist/css/bootstrap.css:\t 85.6% -- created /home/pirate/notebooks/openroberta-lab/openroberta-lab/pi-ora/server/test/export/staticResources/js/libs/bootstrap/bootstrap-3.3.1-dist/dist/css/bootstrap.css.gz\n",
      "/home/pirate/notebooks/openroberta-lab/openroberta-lab/pi-ora/server/test/export/staticResources/js/libs/bootstrap/bootstrap-3.3.1-dist/dist/css/bootstrap3-wysihtml5.min.css:\t 70.9% -- created /home/pirate/notebooks/openroberta-lab/openroberta-lab/pi-ora/server/test/export/staticResources/js/libs/bootstrap/bootstrap-3.3.1-dist/dist/css/bootstrap3-wysihtml5.min.css.gz\n",
      "/home/pirate/notebooks/openroberta-lab/openroberta-lab/pi-ora/server/test/export/staticResources/js/libs/bootstrap/bootstrap-3.3.1-dist/dist/css/bootstrap-theme.css:\t 89.1% -- created /home/pirate/notebooks/openroberta-lab/openroberta-lab/pi-ora/server/test/export/staticResources/js/libs/bootstrap/bootstrap-3.3.1-dist/dist/css/bootstrap-theme.css.gz\n",
      "/home/pirate/notebooks/openroberta-lab/openroberta-lab/pi-ora/server/test/export/staticResources/js/libs/bootstrap/bootstrap-3.3.1-dist/dist/css/bootstrap.css.map:\t 81.0% -- created /home/pirate/notebooks/openroberta-lab/openroberta-lab/pi-ora/server/test/export/staticResources/js/libs/bootstrap/bootstrap-3.3.1-dist/dist/css/bootstrap.css.map.gz\n",
      "/home/pirate/notebooks/openroberta-lab/openroberta-lab/pi-ora/server/test/export/staticResources/js/libs/bootstrap/bootstrap-3.3.1-dist/dist/css/bootstrap.min.css:\t 83.8% -- created /home/pirate/notebooks/openroberta-lab/openroberta-lab/pi-ora/server/test/export/staticResources/js/libs/bootstrap/bootstrap-3.3.1-dist/dist/css/bootstrap.min.css.gz\n",
      "/home/pirate/notebooks/openroberta-lab/openroberta-lab/pi-ora/server/test/export/staticResources/js/libs/bootstrap/bootstrap-3.3.1-dist/dist/css/bootstrap-table.min.css:\t 67.8% -- created /home/pirate/notebooks/openroberta-lab/openroberta-lab/pi-ora/server/test/export/staticResources/js/libs/bootstrap/bootstrap-3.3.1-dist/dist/css/bootstrap-table.min.css.gz\n",
      "/home/pirate/notebooks/openroberta-lab/openroberta-lab/pi-ora/server/test/export/staticResources/js/libs/bootstrap/bootstrap-3.3.1-dist/dist/fonts/glyphicons-halflings-regular.ttf:\t 43.6% -- created /home/pirate/notebooks/openroberta-lab/openroberta-lab/pi-ora/server/test/export/staticResources/js/libs/bootstrap/bootstrap-3.3.1-dist/dist/fonts/glyphicons-halflings-regular.ttf.gz\n",
      "/home/pirate/notebooks/openroberta-lab/openroberta-lab/pi-ora/server/test/export/staticResources/js/libs/bootstrap/bootstrap-3.3.1-dist/dist/fonts/glyphicons-halflings-regular.woff:\t  0.9% -- created /home/pirate/notebooks/openroberta-lab/openroberta-lab/pi-ora/server/test/export/staticResources/js/libs/bootstrap/bootstrap-3.3.1-dist/dist/fonts/glyphicons-halflings-regular.woff.gz\n",
      "/home/pirate/notebooks/openroberta-lab/openroberta-lab/pi-ora/server/test/export/staticResources/js/libs/bootstrap/bootstrap-3.3.1-dist/dist/fonts/glyphicons-halflings-regular.woff2:\t  0.1% -- created /home/pirate/notebooks/openroberta-lab/openroberta-lab/pi-ora/server/test/export/staticResources/js/libs/bootstrap/bootstrap-3.3.1-dist/dist/fonts/glyphicons-halflings-regular.woff2.gz\n",
      "/home/pirate/notebooks/openroberta-lab/openroberta-lab/pi-ora/server/test/export/staticResources/js/libs/bootstrap/bootstrap-3.3.1-dist/dist/fonts/glyphicons-halflings-regular.svg:\t 73.4% -- created /home/pirate/notebooks/openroberta-lab/openroberta-lab/pi-ora/server/test/export/staticResources/js/libs/bootstrap/bootstrap-3.3.1-dist/dist/fonts/glyphicons-halflings-regular.svg.gz\n",
      "/home/pirate/notebooks/openroberta-lab/openroberta-lab/pi-ora/server/test/export/staticResources/js/libs/bootstrap/bootstrap-3.3.1-dist/dist/fonts/glyphicons-halflings-regular.eot:\t  0.5% -- created /home/pirate/notebooks/openroberta-lab/openroberta-lab/pi-ora/server/test/export/staticResources/js/libs/bootstrap/bootstrap-3.3.1-dist/dist/fonts/glyphicons-halflings-regular.eot.gz\n",
      "/home/pirate/notebooks/openroberta-lab/openroberta-lab/pi-ora/server/test/export/staticResources/js/libs/bootstrap/bootstrap-3.3.1-dist/dist/config.json:\t 81.0% -- created /home/pirate/notebooks/openroberta-lab/openroberta-lab/pi-ora/server/test/export/staticResources/js/libs/bootstrap/bootstrap-3.3.1-dist/dist/config.json.gz\n",
      "/home/pirate/notebooks/openroberta-lab/openroberta-lab/pi-ora/server/test/export/staticResources/js/libs/bootstrap/bootstrap-3.3.1-dist/dist/js/npm.js:\t 61.8% -- created /home/pirate/notebooks/openroberta-lab/openroberta-lab/pi-ora/server/test/export/staticResources/js/libs/bootstrap/bootstrap-3.3.1-dist/dist/js/npm.js.gz\n",
      "/home/pirate/notebooks/openroberta-lab/openroberta-lab/pi-ora/server/test/export/staticResources/js/libs/bootstrap/bootstrap-3.3.1-dist/dist/js/bootstrap-tagsinput.min.js:\t 66.8% -- created /home/pirate/notebooks/openroberta-lab/openroberta-lab/pi-ora/server/test/export/staticResources/js/libs/bootstrap/bootstrap-3.3.1-dist/dist/js/bootstrap-tagsinput.min.js.gz\n",
      "/home/pirate/notebooks/openroberta-lab/openroberta-lab/pi-ora/server/test/export/staticResources/js/libs/bootstrap/bootstrap-3.3.1-dist/dist/js/bootstrap.min.js:\t 73.6% -- created /home/pirate/notebooks/openroberta-lab/openroberta-lab/pi-ora/server/test/export/staticResources/js/libs/bootstrap/bootstrap-3.3.1-dist/dist/js/bootstrap.min.js.gz\n",
      "/home/pirate/notebooks/openroberta-lab/openroberta-lab/pi-ora/server/test/export/staticResources/js/libs/bootstrap/bootstrap-3.3.1-dist/dist/js/bootstrap-table.min.js:\t 74.1% -- created /home/pirate/notebooks/openroberta-lab/openroberta-lab/pi-ora/server/test/export/staticResources/js/libs/bootstrap/bootstrap-3.3.1-dist/dist/js/bootstrap-table.min.js.gz\n",
      "/home/pirate/notebooks/openroberta-lab/openroberta-lab/pi-ora/server/test/export/staticResources/js/libs/bootstrap/bootstrap-3.3.1-dist/dist/js/bootstrap-wysiwyg.min.js:\t 62.2% -- created /home/pirate/notebooks/openroberta-lab/openroberta-lab/pi-ora/server/test/export/staticResources/js/libs/bootstrap/bootstrap-3.3.1-dist/dist/js/bootstrap-wysiwyg.min.js.gz\n",
      "/home/pirate/notebooks/openroberta-lab/openroberta-lab/pi-ora/server/test/export/staticResources/js/libs/bootstrap/bootstrap-3.3.1-dist/dist/js/templates.js:\t 93.5% -- created /home/pirate/notebooks/openroberta-lab/openroberta-lab/pi-ora/server/test/export/staticResources/js/libs/bootstrap/bootstrap-3.3.1-dist/dist/js/templates.js.gz\n",
      "/home/pirate/notebooks/openroberta-lab/openroberta-lab/pi-ora/server/test/export/staticResources/js/libs/bootstrap/bootstrap-3.3.1-dist/dist/js/bootstrap.js:\t 79.8% -- created /home/pirate/notebooks/openroberta-lab/openroberta-lab/pi-ora/server/test/export/staticResources/js/libs/bootstrap/bootstrap-3.3.1-dist/dist/js/bootstrap.js.gz\n",
      "/home/pirate/notebooks/openroberta-lab/openroberta-lab/pi-ora/server/test/export/staticResources/js/libs/bootstrap/bootstrap-3.3.1-dist/dist/js/commands.js:\t 60.1% -- created /home/pirate/notebooks/openroberta-lab/openroberta-lab/pi-ora/server/test/export/staticResources/js/libs/bootstrap/bootstrap-3.3.1-dist/dist/js/commands.js.gz\n",
      "/home/pirate/notebooks/openroberta-lab/openroberta-lab/pi-ora/server/test/export/staticResources/js/libs/bootstrap/bootstrap-3.3.1-dist/dist/locales/bootstrap-wysihtml5.de-DE.js:\t 54.6% -- created /home/pirate/notebooks/openroberta-lab/openroberta-lab/pi-ora/server/test/export/staticResources/js/libs/bootstrap/bootstrap-3.3.1-dist/dist/locales/bootstrap-wysihtml5.de-DE.js.gz\n",
      "/home/pirate/notebooks/openroberta-lab/openroberta-lab/pi-ora/server/test/export/staticResources/js/libs/enjoyHint/enjoyhint.min.js:\t 73.9% -- created /home/pirate/notebooks/openroberta-lab/openroberta-lab/pi-ora/server/test/export/staticResources/js/libs/enjoyHint/enjoyhint.min.js.gz\n",
      "/home/pirate/notebooks/openroberta-lab/openroberta-lab/pi-ora/server/test/export/staticResources/js/libs/jquery/jquery-3.3.1.min.js:\t 65.3% -- created /home/pirate/notebooks/openroberta-lab/openroberta-lab/pi-ora/server/test/export/staticResources/js/libs/jquery/jquery-3.3.1.min.js.gz\n",
      "/home/pirate/notebooks/openroberta-lab/openroberta-lab/pi-ora/server/test/export/staticResources/js/libs/jquery/jquery.validate-1.17.0.min.js:\t 67.8% -- created /home/pirate/notebooks/openroberta-lab/openroberta-lab/pi-ora/server/test/export/staticResources/js/libs/jquery/jquery.validate-1.17.0.min.js.gz\n",
      "/home/pirate/notebooks/openroberta-lab/openroberta-lab/pi-ora/server/test/export/staticResources/js/libs/jquery/jquery.scrollTo-2.1.2.min.js:\t 47.3% -- created /home/pirate/notebooks/openroberta-lab/openroberta-lab/pi-ora/server/test/export/staticResources/js/libs/jquery/jquery.scrollTo-2.1.2.min.js.gz\n",
      "/home/pirate/notebooks/openroberta-lab/openroberta-lab/pi-ora/server/test/export/staticResources/js/libs/jquery/jquery.hotkeys-0.2.0.js:\t 62.0% -- created /home/pirate/notebooks/openroberta-lab/openroberta-lab/pi-ora/server/test/export/staticResources/js/libs/jquery/jquery.hotkeys-0.2.0.js.gz\n",
      "/home/pirate/notebooks/openroberta-lab/openroberta-lab/pi-ora/server/test/export/staticResources/js/libs/jquery/jquery.cookie-1.4.1.js:\t 62.1% -- created /home/pirate/notebooks/openroberta-lab/openroberta-lab/pi-ora/server/test/export/staticResources/js/libs/jquery/jquery.cookie-1.4.1.js.gz\n",
      "/home/pirate/notebooks/openroberta-lab/openroberta-lab/pi-ora/server/test/export/staticResources/js/libs/codeflask/codeflask.min.js:\t 66.2% -- created /home/pirate/notebooks/openroberta-lab/openroberta-lab/pi-ora/server/test/export/staticResources/js/libs/codeflask/codeflask.min.js.gz\n",
      "/home/pirate/notebooks/openroberta-lab/openroberta-lab/pi-ora/server/test/export/staticResources/js/app/wedoInterpreter/interpreter.constants.js:\t 76.2% -- created /home/pirate/notebooks/openroberta-lab/openroberta-lab/pi-ora/server/test/export/staticResources/js/app/wedoInterpreter/interpreter.constants.js.gz\n",
      "/home/pirate/notebooks/openroberta-lab/openroberta-lab/pi-ora/server/test/export/staticResources/js/app/wedoInterpreter/interpreter.robotWeDoBehaviour.js:\t 81.7% -- created /home/pirate/notebooks/openroberta-lab/openroberta-lab/pi-ora/server/test/export/staticResources/js/app/wedoInterpreter/interpreter.robotWeDoBehaviour.js.gz\n",
      "/home/pirate/notebooks/openroberta-lab/openroberta-lab/pi-ora/server/test/export/staticResources/js/app/wedoInterpreter/interpreter.nativeTest.js:\t 74.2% -- created /home/pirate/notebooks/openroberta-lab/openroberta-lab/pi-ora/server/test/export/staticResources/js/app/wedoInterpreter/interpreter.nativeTest.js.gz\n",
      "/home/pirate/notebooks/openroberta-lab/openroberta-lab/pi-ora/server/test/export/staticResources/js/app/wedoInterpreter/interpreter.state.js:\t 76.8% -- created /home/pirate/notebooks/openroberta-lab/openroberta-lab/pi-ora/server/test/export/staticResources/js/app/wedoInterpreter/interpreter.state.js.gz\n",
      "/home/pirate/notebooks/openroberta-lab/openroberta-lab/pi-ora/server/test/export/staticResources/js/app/wedoInterpreter/interpreter.robotMbedBehaviour.js:\t 84.0% -- created /home/pirate/notebooks/openroberta-lab/openroberta-lab/pi-ora/server/test/export/staticResources/js/app/wedoInterpreter/interpreter.robotMbedBehaviour.js.gz\n",
      "/home/pirate/notebooks/openroberta-lab/openroberta-lab/pi-ora/server/test/export/staticResources/js/app/wedoInterpreter/interpreter.util.js:\t 68.1% -- created /home/pirate/notebooks/openroberta-lab/openroberta-lab/pi-ora/server/test/export/staticResources/js/app/wedoInterpreter/interpreter.util.js.gz\n",
      "/home/pirate/notebooks/openroberta-lab/openroberta-lab/pi-ora/server/test/export/staticResources/js/app/wedoInterpreter/interpreter.interpreter.js:\t 83.5% -- created /home/pirate/notebooks/openroberta-lab/openroberta-lab/pi-ora/server/test/export/staticResources/js/app/wedoInterpreter/interpreter.interpreter.js.gz\n",
      "/home/pirate/notebooks/openroberta-lab/openroberta-lab/pi-ora/server/test/export/staticResources/js/app/wedoInterpreter/interpreter.robotWeDoBehaviourTest.js:\t 80.9% -- created /home/pirate/notebooks/openroberta-lab/openroberta-lab/pi-ora/server/test/export/staticResources/js/app/wedoInterpreter/interpreter.robotWeDoBehaviourTest.js.gz\n",
      "/home/pirate/notebooks/openroberta-lab/openroberta-lab/pi-ora/server/test/export/staticResources/js/app/wedoInterpreter/interpreter.aRobotBehaviour.js:\t 68.7% -- created /home/pirate/notebooks/openroberta-lab/openroberta-lab/pi-ora/server/test/export/staticResources/js/app/wedoInterpreter/interpreter.aRobotBehaviour.js.gz\n",
      "/home/pirate/notebooks/openroberta-lab/openroberta-lab/pi-ora/server/test/export/staticResources/js/app/roberta/controller/legal.controller.js:\t 71.8% -- created /home/pirate/notebooks/openroberta-lab/openroberta-lab/pi-ora/server/test/export/staticResources/js/app/roberta/controller/legal.controller.js.gz\n",
      "/home/pirate/notebooks/openroberta-lab/openroberta-lab/pi-ora/server/test/export/staticResources/js/app/roberta/controller/progSim.controller.js:\t 78.3% -- created /home/pirate/notebooks/openroberta-lab/openroberta-lab/pi-ora/server/test/export/staticResources/js/app/roberta/controller/progSim.controller.js.gz\n",
      "/home/pirate/notebooks/openroberta-lab/openroberta-lab/pi-ora/server/test/export/staticResources/js/app/roberta/controller/tutorialList.controller.js:\t 72.0% -- created /home/pirate/notebooks/openroberta-lab/openroberta-lab/pi-ora/server/test/export/staticResources/js/app/roberta/controller/tutorialList.controller.js.gz\n",
      "/home/pirate/notebooks/openroberta-lab/openroberta-lab/pi-ora/server/test/export/staticResources/js/app/roberta/controller/progShare.controller.js:\t 78.5% -- created /home/pirate/notebooks/openroberta-lab/openroberta-lab/pi-ora/server/test/export/staticResources/js/app/roberta/controller/progShare.controller.js.gz\n",
      "/home/pirate/notebooks/openroberta-lab/openroberta-lab/pi-ora/server/test/export/staticResources/js/app/roberta/controller/guiState.controller.js:\t 84.4% -- created /home/pirate/notebooks/openroberta-lab/openroberta-lab/pi-ora/server/test/export/staticResources/js/app/roberta/controller/guiState.controller.js.gz\n",
      "/home/pirate/notebooks/openroberta-lab/openroberta-lab/pi-ora/server/test/export/staticResources/js/app/roberta/controller/progCode.controller.js:\t 75.0% -- created /home/pirate/notebooks/openroberta-lab/openroberta-lab/pi-ora/server/test/export/staticResources/js/app/roberta/controller/progCode.controller.js.gz\n",
      "/home/pirate/notebooks/openroberta-lab/openroberta-lab/pi-ora/server/test/export/staticResources/js/app/roberta/controller/confDelete.controller.js:\t 58.7% -- created /home/pirate/notebooks/openroberta-lab/openroberta-lab/pi-ora/server/test/export/staticResources/js/app/roberta/controller/confDelete.controller.js.gz\n",
      "/home/pirate/notebooks/openroberta-lab/openroberta-lab/pi-ora/server/test/export/staticResources/js/app/roberta/controller/confList.controller.js:\t 81.4% -- created /home/pirate/notebooks/openroberta-lab/openroberta-lab/pi-ora/server/test/export/staticResources/js/app/roberta/controller/confList.controller.js.gz\n",
      "/home/pirate/notebooks/openroberta-lab/openroberta-lab/pi-ora/server/test/export/staticResources/js/app/roberta/controller/program.controller.js:\t 76.5% -- created /home/pirate/notebooks/openroberta-lab/openroberta-lab/pi-ora/server/test/export/staticResources/js/app/roberta/controller/program.controller.js.gz\n",
      "/home/pirate/notebooks/openroberta-lab/openroberta-lab/pi-ora/server/test/export/staticResources/js/app/roberta/controller/import.controller.js:\t 73.2% -- created /home/pirate/notebooks/openroberta-lab/openroberta-lab/pi-ora/server/test/export/staticResources/js/app/roberta/controller/import.controller.js.gz\n",
      "/home/pirate/notebooks/openroberta-lab/openroberta-lab/pi-ora/server/test/export/staticResources/js/app/roberta/controller/progHelp.controller.js:\t 68.6% -- created /home/pirate/notebooks/openroberta-lab/openroberta-lab/pi-ora/server/test/export/staticResources/js/app/roberta/controller/progHelp.controller.js.gz\n",
      "/home/pirate/notebooks/openroberta-lab/openroberta-lab/pi-ora/server/test/export/staticResources/js/app/roberta/controller/logList.controller.js:\t 66.4% -- created /home/pirate/notebooks/openroberta-lab/openroberta-lab/pi-ora/server/test/export/staticResources/js/app/roberta/controller/logList.controller.js.gz\n",
      "/home/pirate/notebooks/openroberta-lab/openroberta-lab/pi-ora/server/test/export/staticResources/js/app/roberta/controller/language.controller.js:\t 81.1% -- created /home/pirate/notebooks/openroberta-lab/openroberta-lab/pi-ora/server/test/export/staticResources/js/app/roberta/controller/language.controller.js.gz\n",
      "/home/pirate/notebooks/openroberta-lab/openroberta-lab/pi-ora/server/test/export/staticResources/js/app/roberta/controller/menu.controller.js:\t 79.1% -- created /home/pirate/notebooks/openroberta-lab/openroberta-lab/pi-ora/server/test/export/staticResources/js/app/roberta/controller/menu.controller.js.gz\n",
      "/home/pirate/notebooks/openroberta-lab/openroberta-lab/pi-ora/server/test/export/staticResources/js/app/roberta/controller/progList.controller.js:\t 81.1% -- created /home/pirate/notebooks/openroberta-lab/openroberta-lab/pi-ora/server/test/export/staticResources/js/app/roberta/controller/progList.controller.js.gz\n",
      "/home/pirate/notebooks/openroberta-lab/openroberta-lab/pi-ora/server/test/export/staticResources/js/app/roberta/controller/robot.controller.js:\t 77.1% -- created /home/pirate/notebooks/openroberta-lab/openroberta-lab/pi-ora/server/test/export/staticResources/js/app/roberta/controller/robot.controller.js.gz\n",
      "/home/pirate/notebooks/openroberta-lab/openroberta-lab/pi-ora/server/test/export/staticResources/js/app/roberta/controller/progTutorial.controller.js:\t 78.2% -- created /home/pirate/notebooks/openroberta-lab/openroberta-lab/pi-ora/server/test/export/staticResources/js/app/roberta/controller/progTutorial.controller.js.gz\n",
      "/home/pirate/notebooks/openroberta-lab/openroberta-lab/pi-ora/server/test/export/staticResources/js/app/roberta/controller/sourceCodeEditor.controller.js:\t 74.1% -- created /home/pirate/notebooks/openroberta-lab/openroberta-lab/pi-ora/server/test/export/staticResources/js/app/roberta/controller/sourceCodeEditor.controller.js.gz\n",
      "/home/pirate/notebooks/openroberta-lab/openroberta-lab/pi-ora/server/test/export/staticResources/js/app/roberta/controller/configuration.controller.js:\t 77.8% -- created /home/pirate/notebooks/openroberta-lab/openroberta-lab/pi-ora/server/test/export/staticResources/js/app/roberta/controller/configuration.controller.js.gz\n",
      "/home/pirate/notebooks/openroberta-lab/openroberta-lab/pi-ora/server/test/export/staticResources/js/app/roberta/controller/webview.controller.js:\t 76.4% -- created /home/pirate/notebooks/openroberta-lab/openroberta-lab/pi-ora/server/test/export/staticResources/js/app/roberta/controller/webview.controller.js.gz\n",
      "/home/pirate/notebooks/openroberta-lab/openroberta-lab/pi-ora/server/test/export/staticResources/js/app/roberta/controller/multSim.controller.js:\t 75.0% -- created /home/pirate/notebooks/openroberta-lab/openroberta-lab/pi-ora/server/test/export/staticResources/js/app/roberta/controller/multSim.controller.js.gz\n",
      "/home/pirate/notebooks/openroberta-lab/openroberta-lab/pi-ora/server/test/export/staticResources/js/app/roberta/controller/progRun.controller.js:\t 79.2% -- created /home/pirate/notebooks/openroberta-lab/openroberta-lab/pi-ora/server/test/export/staticResources/js/app/roberta/controller/progRun.controller.js.gz\n",
      "/home/pirate/notebooks/openroberta-lab/openroberta-lab/pi-ora/server/test/export/staticResources/js/app/roberta/controller/galleryList.controller.js:\t 72.7% -- created /home/pirate/notebooks/openroberta-lab/openroberta-lab/pi-ora/server/test/export/staticResources/js/app/roberta/controller/galleryList.controller.js.gz\n",
      "/home/pirate/notebooks/openroberta-lab/openroberta-lab/pi-ora/server/test/export/staticResources/js/app/roberta/controller/user.controller.js:\t 82.4% -- created /home/pirate/notebooks/openroberta-lab/openroberta-lab/pi-ora/server/test/export/staticResources/js/app/roberta/controller/user.controller.js.gz\n",
      "/home/pirate/notebooks/openroberta-lab/openroberta-lab/pi-ora/server/test/export/staticResources/js/app/roberta/controller/tour.controller.js:\t 86.7% -- created /home/pirate/notebooks/openroberta-lab/openroberta-lab/pi-ora/server/test/export/staticResources/js/app/roberta/controller/tour.controller.js.gz\n",
      "/home/pirate/notebooks/openroberta-lab/openroberta-lab/pi-ora/server/test/export/staticResources/js/app/roberta/controller/socket.controller.js:\t 75.4% -- created /home/pirate/notebooks/openroberta-lab/openroberta-lab/pi-ora/server/test/export/staticResources/js/app/roberta/controller/socket.controller.js.gz\n",
      "/home/pirate/notebooks/openroberta-lab/openroberta-lab/pi-ora/server/test/export/staticResources/js/app/roberta/controller/progDelete.controller.js:\t 68.6% -- created /home/pirate/notebooks/openroberta-lab/openroberta-lab/pi-ora/server/test/export/staticResources/js/app/roberta/controller/progDelete.controller.js.gz\n",
      "/home/pirate/notebooks/openroberta-lab/openroberta-lab/pi-ora/server/test/export/staticResources/js/app/roberta/controller/progInfo.controller.js:\t 67.4% -- created /home/pirate/notebooks/openroberta-lab/openroberta-lab/pi-ora/server/test/export/staticResources/js/app/roberta/controller/progInfo.controller.js.gz\n",
      "/home/pirate/notebooks/openroberta-lab/openroberta-lab/pi-ora/server/test/export/staticResources/js/app/roberta/models/program.model.js:\t 86.9% -- created /home/pirate/notebooks/openroberta-lab/openroberta-lab/pi-ora/server/test/export/staticResources/js/app/roberta/models/program.model.js.gz\n",
      "/home/pirate/notebooks/openroberta-lab/openroberta-lab/pi-ora/server/test/export/staticResources/js/app/roberta/models/logList.model.js:\t 57.0% -- created /home/pirate/notebooks/openroberta-lab/openroberta-lab/pi-ora/server/test/export/staticResources/js/app/roberta/models/logList.model.js.gz\n",
      "/home/pirate/notebooks/openroberta-lab/openroberta-lab/pi-ora/server/test/export/staticResources/js/app/roberta/models/robot.model.js:\t 66.8% -- created /home/pirate/notebooks/openroberta-lab/openroberta-lab/pi-ora/server/test/export/staticResources/js/app/roberta/models/robot.model.js.gz\n",
      "/home/pirate/notebooks/openroberta-lab/openroberta-lab/pi-ora/server/test/export/staticResources/js/app/roberta/models/guiState.model.js:\t 72.9% -- created /home/pirate/notebooks/openroberta-lab/openroberta-lab/pi-ora/server/test/export/staticResources/js/app/roberta/models/guiState.model.js.gz\n",
      "/home/pirate/notebooks/openroberta-lab/openroberta-lab/pi-ora/server/test/export/staticResources/js/app/roberta/models/calliope.model.js:\t 77.0% -- created /home/pirate/notebooks/openroberta-lab/openroberta-lab/pi-ora/server/test/export/staticResources/js/app/roberta/models/calliope.model.js.gz\n",
      "/home/pirate/notebooks/openroberta-lab/openroberta-lab/pi-ora/server/test/export/staticResources/js/app/roberta/models/configuration.model.js:\t 79.0% -- created /home/pirate/notebooks/openroberta-lab/openroberta-lab/pi-ora/server/test/export/staticResources/js/app/roberta/models/configuration.model.js.gz\n",
      "/home/pirate/notebooks/openroberta-lab/openroberta-lab/pi-ora/server/test/export/staticResources/js/app/roberta/models/progList.model.js:\t 65.1% -- created /home/pirate/notebooks/openroberta-lab/openroberta-lab/pi-ora/server/test/export/staticResources/js/app/roberta/models/progList.model.js.gz\n",
      "/home/pirate/notebooks/openroberta-lab/openroberta-lab/pi-ora/server/test/export/staticResources/js/app/roberta/models/wedo.model.js:\t 74.4% -- created /home/pirate/notebooks/openroberta-lab/openroberta-lab/pi-ora/server/test/export/staticResources/js/app/roberta/models/wedo.model.js.gz\n",
      "/home/pirate/notebooks/openroberta-lab/openroberta-lab/pi-ora/server/test/export/staticResources/js/app/roberta/models/confList.model.js:\t 41.7% -- created /home/pirate/notebooks/openroberta-lab/openroberta-lab/pi-ora/server/test/export/staticResources/js/app/roberta/models/confList.model.js.gz\n",
      "/home/pirate/notebooks/openroberta-lab/openroberta-lab/pi-ora/server/test/export/staticResources/js/app/roberta/models/user.model.js:\t 82.4% -- created /home/pirate/notebooks/openroberta-lab/openroberta-lab/pi-ora/server/test/export/staticResources/js/app/roberta/models/user.model.js.gz\n",
      "/home/pirate/notebooks/openroberta-lab/openroberta-lab/pi-ora/server/test/export/staticResources/js/app/simulation/simBackgrounds/rescueBackground.svg:\t 73.0% -- created /home/pirate/notebooks/openroberta-lab/openroberta-lab/pi-ora/server/test/export/staticResources/js/app/simulation/simBackgrounds/rescueBackground.svg.gz\n",
      "/home/pirate/notebooks/openroberta-lab/openroberta-lab/pi-ora/server/test/export/staticResources/js/app/simulation/simBackgrounds/wroBackground.svg:\t 80.2% -- created /home/pirate/notebooks/openroberta-lab/openroberta-lab/pi-ora/server/test/export/staticResources/js/app/simulation/simBackgrounds/wroBackground.svg.gz\n",
      "/home/pirate/notebooks/openroberta-lab/openroberta-lab/pi-ora/server/test/export/staticResources/js/app/simulation/simBackgrounds/mathBackground.svg:\t 83.5% -- created /home/pirate/notebooks/openroberta-lab/openroberta-lab/pi-ora/server/test/export/staticResources/js/app/simulation/simBackgrounds/mathBackground.svg.gz\n",
      "/home/pirate/notebooks/openroberta-lab/openroberta-lab/pi-ora/server/test/export/staticResources/js/app/simulation/simBackgrounds/ruler.svg:\t 79.6% -- created /home/pirate/notebooks/openroberta-lab/openroberta-lab/pi-ora/server/test/export/staticResources/js/app/simulation/simBackgrounds/ruler.svg.gz\n",
      "/home/pirate/notebooks/openroberta-lab/openroberta-lab/pi-ora/server/test/export/staticResources/js/app/simulation/simBackgrounds/calliopeBackground.svg:\t 84.1% -- created /home/pirate/notebooks/openroberta-lab/openroberta-lab/pi-ora/server/test/export/staticResources/js/app/simulation/simBackgrounds/calliopeBackground.svg.gz\n",
      "/home/pirate/notebooks/openroberta-lab/openroberta-lab/pi-ora/server/test/export/staticResources/js/app/simulation/simBackgrounds/baustelle.svg:\t 44.3% -- created /home/pirate/notebooks/openroberta-lab/openroberta-lab/pi-ora/server/test/export/staticResources/js/app/simulation/simBackgrounds/baustelle.svg.gz\n",
      "/home/pirate/notebooks/openroberta-lab/openroberta-lab/pi-ora/server/test/export/staticResources/js/app/simulation/simBackgrounds/robertaBackground.svg:\t 32.7% -- created /home/pirate/notebooks/openroberta-lab/openroberta-lab/pi-ora/server/test/export/staticResources/js/app/simulation/simBackgrounds/robertaBackground.svg.gz\n",
      "/home/pirate/notebooks/openroberta-lab/openroberta-lab/pi-ora/server/test/export/staticResources/js/app/simulation/simBackgrounds/microbitBackground.svg:\t 82.9% -- created /home/pirate/notebooks/openroberta-lab/openroberta-lab/pi-ora/server/test/export/staticResources/js/app/simulation/simBackgrounds/microbitBackground.svg.gz\n",
      "/home/pirate/notebooks/openroberta-lab/openroberta-lab/pi-ora/server/test/export/staticResources/js/app/simulation/simBackgrounds/simpleBackground.svg:\t 68.2% -- created /home/pirate/notebooks/openroberta-lab/openroberta-lab/pi-ora/server/test/export/staticResources/js/app/simulation/simBackgrounds/simpleBackground.svg.gz\n",
      "/home/pirate/notebooks/openroberta-lab/openroberta-lab/pi-ora/server/test/export/staticResources/js/app/simulation/simBackgrounds/drawBackground.svg:\t 45.9% -- created /home/pirate/notebooks/openroberta-lab/openroberta-lab/pi-ora/server/test/export/staticResources/js/app/simulation/simBackgrounds/drawBackground.svg.gz\n",
      "/home/pirate/notebooks/openroberta-lab/openroberta-lab/pi-ora/server/test/export/staticResources/js/app/simulation/simulationLogic/robot.microbit.js:\t 80.5% -- created /home/pirate/notebooks/openroberta-lab/openroberta-lab/pi-ora/server/test/export/staticResources/js/app/simulation/simulationLogic/robot.microbit.js.gz\n",
      "/home/pirate/notebooks/openroberta-lab/openroberta-lab/pi-ora/server/test/export/staticResources/js/app/simulation/simulationLogic/scene.js:\t 85.8% -- created /home/pirate/notebooks/openroberta-lab/openroberta-lab/pi-ora/server/test/export/staticResources/js/app/simulation/simulationLogic/scene.js.gz\n",
      "/home/pirate/notebooks/openroberta-lab/openroberta-lab/pi-ora/server/test/export/staticResources/js/app/simulation/simulationLogic/robot.simple.js:\t 53.1% -- created /home/pirate/notebooks/openroberta-lab/openroberta-lab/pi-ora/server/test/export/staticResources/js/app/simulation/simulationLogic/robot.simple.js.gz\n",
      "/home/pirate/notebooks/openroberta-lab/openroberta-lab/pi-ora/server/test/export/staticResources/js/app/simulation/simulationLogic/robot.draw.js:\t 74.9% -- created /home/pirate/notebooks/openroberta-lab/openroberta-lab/pi-ora/server/test/export/staticResources/js/app/simulation/simulationLogic/robot.draw.js.gz\n",
      "/home/pirate/notebooks/openroberta-lab/openroberta-lab/pi-ora/server/test/export/staticResources/js/app/simulation/simulationLogic/robot.mbed.js:\t 80.0% -- created /home/pirate/notebooks/openroberta-lab/openroberta-lab/pi-ora/server/test/export/staticResources/js/app/simulation/simulationLogic/robot.mbed.js.gz\n",
      "/home/pirate/notebooks/openroberta-lab/openroberta-lab/pi-ora/server/test/export/staticResources/js/app/simulation/simulationLogic/math.js:\t 77.1% -- created /home/pirate/notebooks/openroberta-lab/openroberta-lab/pi-ora/server/test/export/staticResources/js/app/simulation/simulationLogic/math.js.gz\n",
      "/home/pirate/notebooks/openroberta-lab/openroberta-lab/pi-ora/server/test/export/staticResources/js/app/simulation/simulationLogic/constants.js:\t 64.9% -- created /home/pirate/notebooks/openroberta-lab/openroberta-lab/pi-ora/server/test/export/staticResources/js/app/simulation/simulationLogic/constants.js.gz\n",
      "/home/pirate/notebooks/openroberta-lab/openroberta-lab/pi-ora/server/test/export/staticResources/js/app/simulation/simulationLogic/simulation.js:\t 80.3% -- created /home/pirate/notebooks/openroberta-lab/openroberta-lab/pi-ora/server/test/export/staticResources/js/app/simulation/simulationLogic/simulation.js.gz\n",
      "/home/pirate/notebooks/openroberta-lab/openroberta-lab/pi-ora/server/test/export/staticResources/js/app/simulation/simulationLogic/robot.calliope.js:\t 79.3% -- created /home/pirate/notebooks/openroberta-lab/openroberta-lab/pi-ora/server/test/export/staticResources/js/app/simulation/simulationLogic/robot.calliope.js.gz\n",
      "/home/pirate/notebooks/openroberta-lab/openroberta-lab/pi-ora/server/test/export/staticResources/js/app/simulation/simulationLogic/robot.roberta.js:\t 53.7% -- created /home/pirate/notebooks/openroberta-lab/openroberta-lab/pi-ora/server/test/export/staticResources/js/app/simulation/simulationLogic/robot.roberta.js.gz\n",
      "/home/pirate/notebooks/openroberta-lab/openroberta-lab/pi-ora/server/test/export/staticResources/js/app/simulation/simulationLogic/robot.rescue.js:\t 54.4% -- created /home/pirate/notebooks/openroberta-lab/openroberta-lab/pi-ora/server/test/export/staticResources/js/app/simulation/simulationLogic/robot.rescue.js.gz\n",
      "/home/pirate/notebooks/openroberta-lab/openroberta-lab/pi-ora/server/test/export/staticResources/js/app/simulation/simulationLogic/robot.js:\t 67.7% -- created /home/pirate/notebooks/openroberta-lab/openroberta-lab/pi-ora/server/test/export/staticResources/js/app/simulation/simulationLogic/robot.js.gz\n",
      "/home/pirate/notebooks/openroberta-lab/openroberta-lab/pi-ora/server/test/export/staticResources/js/app/simulation/simulationLogic/robot.nxt.js:\t 75.4% -- created /home/pirate/notebooks/openroberta-lab/openroberta-lab/pi-ora/server/test/export/staticResources/js/app/simulation/simulationLogic/robot.nxt.js.gz\n",
      "/home/pirate/notebooks/openroberta-lab/openroberta-lab/pi-ora/server/test/export/staticResources/js/app/simulation/simulationLogic/robot.math.js:\t 52.9% -- created /home/pirate/notebooks/openroberta-lab/openroberta-lab/pi-ora/server/test/export/staticResources/js/app/simulation/simulationLogic/robot.math.js.gz\n",
      "/home/pirate/notebooks/openroberta-lab/openroberta-lab/pi-ora/server/test/export/staticResources/js/app/simulation/simulationLogic/robot.ev3.js:\t 63.3% -- created /home/pirate/notebooks/openroberta-lab/openroberta-lab/pi-ora/server/test/export/staticResources/js/app/simulation/simulationLogic/robot.ev3.js.gz\n",
      "/home/pirate/notebooks/openroberta-lab/openroberta-lab/pi-ora/server/test/export/staticResources/commonTest/dbTest.html:\t 85.9% -- created /home/pirate/notebooks/openroberta-lab/openroberta-lab/pi-ora/server/test/export/staticResources/commonTest/dbTest.html.gz\n",
      "/home/pirate/notebooks/openroberta-lab/openroberta-lab/pi-ora/server/test/export/staticResources/commonTest/websocket.html:\t 39.7% -- created /home/pirate/notebooks/openroberta-lab/openroberta-lab/pi-ora/server/test/export/staticResources/commonTest/websocket.html.gz\n",
      "/home/pirate/notebooks/openroberta-lab/openroberta-lab/pi-ora/server/test/export/staticResources/commonTest/basicsTest.html:\t 62.9% -- created /home/pirate/notebooks/openroberta-lab/openroberta-lab/pi-ora/server/test/export/staticResources/commonTest/basicsTest.html.gz\n",
      "/home/pirate/notebooks/openroberta-lab/openroberta-lab/pi-ora/server/test/export/staticResources/commonTest/dbTest.js:\t 68.0% -- created /home/pirate/notebooks/openroberta-lab/openroberta-lab/pi-ora/server/test/export/staticResources/commonTest/dbTest.js.gz\n",
      "/home/pirate/notebooks/openroberta-lab/openroberta-lab/pi-ora/server/test/export/staticResources/commonTest/basicsTest.css:\t 46.9% -- created /home/pirate/notebooks/openroberta-lab/openroberta-lab/pi-ora/server/test/export/staticResources/commonTest/basicsTest.css.gz\n",
      "/home/pirate/notebooks/openroberta-lab/openroberta-lab/pi-ora/server/test/export/staticResources/commonTest/basicsTest.js:\t 71.4% -- created /home/pirate/notebooks/openroberta-lab/openroberta-lab/pi-ora/server/test/export/staticResources/commonTest/basicsTest.js.gz\n",
      "script for start of the server/db are copied\n",
      "NOTE: You are responsible to supply a usable database and set the corresponding -d parameter for server startup. SEE THE README.md\n",
      "found no docker image 'openroberta/server_rdf-2020_test:16' to remove. That is ok.\n",
      "Sending build context to Docker daemon  74.83MB\n",
      "Step 1/10 : ARG FROM\n",
      "Step 2/10 : FROM $FROM\n",
      "16: Pulling from openroberta/base-arm32v7\n",
      "\n",
      "\u001b[1B03531d2f: Pulling fs layer \n",
      "\u001b[1Be669df50: Pulling fs layer \n",
      "\u001b[1B5b55ed62: Pulling fs layer \n",
      "\u001b[1Bf56eca49: Pulling fs layer \n",
      "\u001b[1B079a3a0e: Pulling fs layer \n",
      "\u001b[1BDigest: sha256:f12bfd7e1c64d52515dacb8bccfa8badb1d5934984dfd51b26a97e954e4cce38\n",
      "Status: Downloaded newer image for openroberta/base-arm32v7:16\n",
      " ---> 67c9ada064ae\n",
      "Step 3/10 : VOLUME /opt/admin\n",
      " ---> Running in 30ce40cd121b\n",
      "Removing intermediate container 30ce40cd121b\n",
      " ---> 6bc80881d07f\n",
      "Step 4/10 : EXPOSE 1999\n",
      " ---> Running in 50d620d1beca\n",
      "Removing intermediate container 50d620d1beca\n",
      " ---> 7dce378d6d93\n",
      "Step 5/10 : RUN mkdir --parent /opt/openroberta-lab/lib /tmp/openrobertaTmp\n",
      " ---> Running in 1a72145d2d23\n",
      "Removing intermediate container 1a72145d2d23\n",
      " ---> 6b496de521af\n",
      "Step 6/10 : WORKDIR /opt/openroberta-lab\n",
      " ---> Running in 4e2666c737fa\n",
      "Removing intermediate container 4e2666c737fa\n",
      " ---> bec60984ac88\n",
      "Step 7/10 : COPY [\"./\",\"./\"]\n",
      " ---> 1257582abc5e\n",
      "Step 8/10 : RUN chmod ugo+rx ./*.sh\n",
      " ---> Running in 9f08b4b0238d\n",
      "Removing intermediate container 9f08b4b0238d\n",
      " ---> d2ff40d1d317\n",
      "Step 9/10 : ENTRYPOINT [\"./start.sh\"]\n",
      " ---> Running in e6f08463cf36\n",
      "Removing intermediate container e6f08463cf36\n",
      " ---> 1942678deeb4\n",
      "Step 10/10 : CMD []\n",
      " ---> Running in a81703d8336f\n",
      "Removing intermediate container a81703d8336f\n",
      " ---> a8795308627f\n",
      "Successfully built a8795308627f\n",
      "Successfully tagged openroberta/server_rdf-2020_test:16\n",
      "WARNING: An illegal reflective access operation has occurred\n",
      "WARNING: Illegal reflective access by com.google.inject.internal.cglib.core.$ReflectUtils$1 (file:/usr/share/maven/lib/guice.jar) to method java.lang.ClassLoader.defineClass(java.lang.String,byte[],int,int,java.security.ProtectionDomain)\n",
      "WARNING: Please consider reporting this to the maintainers of com.google.inject.internal.cglib.core.$ReflectUtils$1\n",
      "WARNING: Use --illegal-access=warn to enable warnings of further illegal reflective access operations\n",
      "WARNING: All illegal access operations will be denied in a future release\n",
      "******************** 2020-06-09 22:13:52 generating the server test finished ********************\n",
      "******************** 2020-06-09 22:26:36 ********************\n",
      "stopping the server container 'rdf-2020-test', if it is running\n",
      "found no container 'rdf-2020-test' to stop. That is ok\n",
      "found no container 'rdf-2020-test' to remove. That is ok\n",
      "trying to start server test\n",
      "starting the server container rdf-2020-test with docker run -d --name=rdf-2020-test --network ora-net -p 1999:1999 -v /home/pirate/notebooks/openroberta-lab/openroberta-lab/pi-ora/server/test/admin:/opt/admin openroberta/server_rdf-2020_test:16 -d database.uri=rdf-2020-db-server -d database.name=openroberta-db-test -d server.log.configfile=/logback.xml -d server.log.level=DEBUG \n",
      "server container started with id '99eaab8bc8626d56b761b65de7f9c1594688ad810499eba9398f8f81d8f37222'\n"
     ]
    }
   ],
   "source": [
    "pi-ora/scripts/run.sh -q -yes deploy test"
   ]
  },
  {
   "cell_type": "code",
   "execution_count": 43,
   "metadata": {},
   "outputs": [
    {
     "name": "stdout",
     "output_type": "stream",
     "text": [
      "CONTAINER ID        IMAGE                                 COMMAND                  CREATED              STATUS              PORTS                    NAMES\n",
      "99eaab8bc862        openroberta/server_rdf-2020_test:16   \"./start.sh -d datab…\"   About a minute ago   Up About a minute   0.0.0.0:1999->1999/tcp   rdf-2020-test\n",
      "0680551e3fb9        openroberta/db_server:2.4.0           \"/opt/openRoberta/st…\"   14 minutes ago       Up 14 minutes       0.0.0.0:9001->9001/tcp   rdf-2020-db-server\n"
     ]
    }
   ],
   "source": [
    "sleep 90\n",
    "docker ps "
   ]
  },
  {
   "cell_type": "markdown",
   "metadata": {},
   "source": [
    "http://pi4-home.local:1999/"
   ]
  },
  {
   "cell_type": "markdown",
   "metadata": {},
   "source": [
    "## Remove all"
   ]
  },
  {
   "cell_type": "code",
   "execution_count": null,
   "metadata": {},
   "outputs": [],
   "source": [
    "docker stop rdf-2020-test\n",
    "docker stop rdf-2020-db-server\n",
    "docker rm rdf-2020-db-server\n",
    "docker rm rdf-2020-test\n",
    "docker network rm ora-net\n",
    "cd ~/notebooks/openroberta-lab\n",
    "rm -rf openroberta-lab\n",
    "docker image rm openroberta/server_rdf-2020_test:16\n",
    "docker image rm openroberta/server_rdf-2020_test:3.9.3\n",
    "docker image rm openroberta/db_server:2.4.0\n",
    "docker image rm openroberta/base-arm32v7:16\n",
    "docker system prune --force --all"
   ]
  },
  {
   "cell_type": "code",
   "execution_count": null,
   "metadata": {},
   "outputs": [],
   "source": []
  }
 ],
 "metadata": {
  "kernelspec": {
   "display_name": "Bash",
   "language": "bash",
   "name": "bash"
  },
  "language_info": {
   "codemirror_mode": "shell",
   "file_extension": ".sh",
   "mimetype": "text/x-sh",
   "name": "bash"
  }
 },
 "nbformat": 4,
 "nbformat_minor": 4
}
