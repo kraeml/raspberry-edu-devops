{
 "cells": [
  {
   "cell_type": "markdown",
   "metadata": {},
   "source": [
    "# Erste Schritte auf dem Pi\n",
    "\n",
    "##  Programme installieren und verwalten\n",
    "\n",
    "Textteile wurden entnommen aus: https://wiki.ubuntuusers.de/apt/apt/ (Stand Nov. 2017)\n",
    "\n",
    "> apt ist ein Kommandozeilen-Programm für das Advanced Packaging Tool, der Paketverwaltung, die bei Debian, Ubuntu und damit auch allen offiziellen Ubuntu-Varianten zum Einsatz kommt.\n",
    "\n",
    "> apt kann Pakete installieren, deinstallieren oder auch nur Informationen zu Paketen anzeigen. Außerdem besitzt der Befehl sowohl eine farbige Ausgabe als auch eine Fortschrittsanzeige. Das Programm kann zwar nichts, was die spezialisierten Programme wie apt-get und apt-cache nicht auch könnten, ist aber stärker für das interaktive Arbeiten auf der Kommandozeile optimiert.\n",
    "\n",
    "Hier die Versionsausgabe von apt:"
   ]
  },
  {
   "cell_type": "code",
   "execution_count": 1,
   "metadata": {},
   "outputs": [
    {
     "name": "stdout",
     "output_type": "stream",
     "text": [
      "apt 1.4.8 (armhf)\n"
     ]
    }
   ],
   "source": [
    "apt --version"
   ]
  },
  {
   "cell_type": "markdown",
   "metadata": {},
   "source": [
    "### Benutzung\n",
    "\n",
    "> apt verwendet eine Reihe von Befehlen zum Verwalten von Paketen, zum Suchen und Durchsuchen von Paketen und deren Beschreibung als auch einen Befehl zum Editieren der Datei mit den Paketquellen.\n",
    "\n",
    "> Die allgemeine Syntax des Befehls lautet:\n",
    "\n",
    "> ```\n",
    "apt BEFEHL [OPTIONEN] \n",
    "```\n",
    "\n",
    "> Alle Befehle zum Verwalten von Paketen (also Installieren, Deinstallieren etc.) und Editieren benötigen Root-Rechte. Die Befehle zum (Durch-)Suchen können mit normalen Nutzerrechten ausgeführt werden."
   ]
  },
  {
   "cell_type": "markdown",
   "metadata": {},
   "source": [
    "### Pakete verwalten\n",
    "\n",
    "Die Befehle zur Verwaltung von Paketen lauten:\n",
    "\n",
    "| Befehl       | Beschreibung                                         |\n",
    "|:--------------:|:------------------------------------------------------|\n",
    "| update       | Neueinlesen der Paketlisten |\n",
    "| upgrade      | Installierte Pakete wenn möglich auf eine verbesserte Version aktualisieren. Um geänderte Abhängigkeiten zu erfüllen, werden gegebenenfalls auch neue Pakete installiert. |\n",
    "| full-upgrade | Wie upgrade, nur können bei dem Vorgang auch Pakete entfernt werden. Alternativ kann statt full-upgrade auch der Befehl dist-upgrade verwendet werden. Das Ergebnis ist identisch, allerdings ist dist-upgrade in der Hilfe und der Man-Page von apt nicht dokumentiert. |\n",
    "| install      | PAKETNAME \tinstalliert das Paket PAKETNAME |\n",
    "| install      | /PFAD/ZUM/PAKET \tinstalliert ein lokales Paket und dessen Abhängigkeiten (siehe auch Problembehebung) |\n",
    "| remove       | PAKETNAME \tdeinstalliert das Paket PAKETNAME |\n",
    "| purge        | PAKETNAME \twie remove, es werden aber zusätzlich auch alle Konfigurationsdateien gelöscht |\n",
    "| autoremove   | \tdeinstalliert alle Pakete, die nicht mehr benötigt werden und keine Abhängigkeiten mehr zu anderen Paketen haben |\n",
    "\n",
    "apt Befehle zur Paketverwaltung\n",
    "\n",
    "apt-get update führt kein Software-Update durch \n",
    "\n",
    "Das Schlüsselwort update bezieht sich dabei nur auf die Metadaten! Die Pakete selbst werden nicht aktualisiert."
   ]
  },
  {
   "cell_type": "code",
   "execution_count": 3,
   "metadata": {},
   "outputs": [
    {
     "name": "stdout",
     "output_type": "stream",
     "text": [
      "OK:1 http://archive.raspberrypi.org/debian stretch InRelease\n",
      "OK:2 http://mirrordirector.raspbian.org/raspbian stretch InRelease\n",
      "OK:3 https://download.docker.com/linux/debian stretch InRelease\n",
      "OK:4 https://deb.nodesource.com/node_6.x stretch InRelease\n",
      "Paketlisten werden gelesen... Fertig3m\n",
      "Abhängigkeitsbaum wird aufgebaut.       \n",
      "Statusinformationen werden eingelesen.... Fertig\n",
      "Aktualisierung für 1 Paket verfügbar. Führen Sie »apt list --upgradable« aus, um es anzuzeigen.\n"
     ]
    }
   ],
   "source": [
    "sudo apt update"
   ]
  },
  {
   "cell_type": "code",
   "execution_count": 4,
   "metadata": {},
   "outputs": [
    {
     "name": "stdout",
     "output_type": "stream",
     "text": [
      "Auflistung... Fertig\n",
      "\u001b[32mfirefox-esr\u001b[0m/stable 52.5.0esr-1~deb9u1 armhf [aktualisierbar von: 52.4.0esr-1~deb9u1]\n",
      "N: Es gibt 1 zusätzliche Version. Bitte verwenden Sie die Option »-a«, um sie anzuzeigen.\n"
     ]
    }
   ],
   "source": [
    "apt list --upgradable"
   ]
  },
  {
   "cell_type": "code",
   "execution_count": 7,
   "metadata": {},
   "outputs": [
    {
     "name": "stdout",
     "output_type": "stream",
     "text": [
      "Auflistung... Fertig\n",
      "\u001b[32mfirefox-esr\u001b[0m/stable 52.5.0esr-1~deb9u1 armhf [aktualisierbar von: 52.4.0esr-1~deb9u1]\n",
      "\u001b[32mfirefox-esr\u001b[0m/now 52.4.0esr-1~deb9u1 armhf  [Installiert,aktualisierbar auf: 52.5.0esr-1~deb9u1]\n",
      "\n"
     ]
    }
   ],
   "source": [
    "apt list -a --upgradable"
   ]
  },
  {
   "cell_type": "markdown",
   "metadata": {},
   "source": [
    "Hinweis zu Version 52 firefox.\n",
    "\n",
    "Damit wir Webseiten durch Firefox per Konsole testen wollen, wird die Version 52 von Firefox benötigt. Neuer lassen sich nicht im headless Modus fahren."
   ]
  },
  {
   "cell_type": "code",
   "execution_count": 9,
   "metadata": {},
   "outputs": [
    {
     "name": "stdout",
     "output_type": "stream",
     "text": [
      "Paketlisten werden gelesen... Fertig\n",
      "Abhängigkeitsbaum wird aufgebaut.       \n",
      "Statusinformationen werden eingelesen.... Fertig\n",
      "Paketaktualisierung (Upgrade) wird berechnet... Fertig\n",
      "Die folgenden Pakete werden aktualisiert (Upgrade):\n",
      "  firefox-esr\n",
      "1 aktualisiert, 0 neu installiert, 0 zu entfernen und 0 nicht aktualisiert.\n",
      "Es müssen 41,7 MB an Archiven heruntergeladen werden.\n",
      "Nach dieser Operation werden 85,0 kB Plattenplatz zusätzlich benutzt.\n",
      "Holen:1 http://mirror.daniel-jost.net/raspbian/raspbian stretch/main armhf firefox-esr armhf 52.5.0esr-1~deb9u1 [41,7 MB]\n",
      "Es wurden 41,7 MB in 22 s geholt (1.837 kB/s).                                 \u001b[0m\u001b[33m\n",
      "debconf: unable to initialize frontend: Dialog\n",
      "debconf: (Dialog frontend will not work on a dumb terminal, an emacs shell buffer, or without a controlling terminal.)\n",
      "debconf: falling back to frontend: Readline\n",
      "\n",
      "(Lese Datenbank ... 113924 Dateien und Verzeichnisse sind derzeit installiert.)\n",
      "Vorbereitung zum Entpacken von .../firefox-esr_52.5.0esr-1~deb9u1_armhf.deb ...\n",
      "\u001b7\u001b[24;0f\u001b[42m\u001b[30mFortschritt: [  0%]\u001b[49m\u001b[39m [.......................................................] \u001b8\u001b7\u001b[24;0f\u001b[42m\u001b[30mFortschritt: [ 16%]\u001b[49m\u001b[39m [#########..............................................] \u001b8»Umleitung von /usr/bin/firefox zu /usr/bin/firefox.real durch firefox-esr« wird beibehalten\n",
      "Entpacken von firefox-esr (52.5.0esr-1~deb9u1) über (52.4.0esr-1~deb9u1) ...\n",
      "\u001b7\u001b[24;0f\u001b[42m\u001b[30mFortschritt: [ 33%]\u001b[49m\u001b[39m [##################.....................................] \u001b8\u001b7\u001b[24;0f\u001b[42m\u001b[30mFortschritt: [ 50%]\u001b[49m\u001b[39m [###########################............................] \u001b8Trigger für mime-support (3.60) werden verarbeitet ...\n",
      "firefox-esr (52.5.0esr-1~deb9u1) wird eingerichtet ...\n",
      "\u001b7\u001b[24;0f\u001b[42m\u001b[30mFortschritt: [ 66%]\u001b[49m\u001b[39m [####################################...................] \u001b8Trigger für man-db (2.7.6.1-2) werden verarbeitet ...\n",
      "Trigger für hicolor-icon-theme (0.15-1) werden verarbeitet ...\n",
      "\u001b7\u001b[24;0f\u001b[42m\u001b[30mFortschritt: [ 83%]\u001b[49m\u001b[39m [#############################################..........] \u001b8\n",
      "\u001b7\u001b[0;24r\u001b8\u001b[1A\u001b[J"
     ]
    }
   ],
   "source": [
    "sudo apt upgrade --yes"
   ]
  },
  {
   "cell_type": "markdown",
   "metadata": {},
   "source": [
    "### Suchen/Durchsuchen\n",
    "\n",
    "Die Befehle zum Suchen und Durchsuchen von Paketen lauten:\n",
    "\n",
    "\n",
    "| Befehl \t         | Beschreibung          |\n",
    "|--------------------|-----------------------|\n",
    "| search SUCHBEGRIFF |  \tZeigt alle Pakete an, in deren Namen oder Beschreibung der Begriff SUCHBEGRIFF vorkommt. Als Suchbegriff kann auch ein regulärer Ausdruck verwendet werden. |\n",
    "| show PAKETNAME |  \tzeigt Informationen zum Paket PAKETNAME an |\n",
    "| list SUCHMUSTER |  [OPTION] \tListet alle Paketnamen auf, deren Paketname auf das Suchmuster SUCHMUSTER passen. Das Suchmuster kann dabei auch ein Glob-Pattern sein. Als Optionen stehen z.B. --installed (listet nur Pakete auf, die auch installiert sind) und --upgradeable (listet nur Pakete auf, für die eine aktuelle Version in den Paketquellen bereit steht) zur Verfügung. |\n",
    "\n",
    "apt Befehle zur Suche"
   ]
  },
  {
   "cell_type": "code",
   "execution_count": 12,
   "metadata": {},
   "outputs": [
    {
     "name": "stdout",
     "output_type": "stream",
     "text": [
      "Sortierung... Fertig\n",
      "Volltextsuche... Fertig\n",
      "\u001b[32mpython-sense-hat\u001b[0m/stable,now 2.2.0-1 armhf  [Installiert,automatisch]\n",
      "  Sense HAT python library (Python 2)\n",
      "\n",
      "\u001b[32mpython3-sense-hat\u001b[0m/stable,now 2.2.0-1 armhf  [Installiert,automatisch]\n",
      "  Sense HAT python library (Python 3)\n",
      "\n",
      "\u001b[32msense-hat\u001b[0m/stable,now 1.2 all  [installiert]\n",
      "  Sense HAT configuration, libraries and examples\n",
      "\n"
     ]
    }
   ],
   "source": [
    "apt search sense-hat"
   ]
  },
  {
   "cell_type": "code",
   "execution_count": 14,
   "metadata": {},
   "outputs": [
    {
     "name": "stdout",
     "output_type": "stream",
     "text": [
      "/etc/apt/sources.list.d\n",
      "├── download_docker_com_linux_debian.list\n",
      "├── nodesource.list\n",
      "└── raspberrypi.org.list\n",
      "\n",
      "0 directories, 3 files\n"
     ]
    }
   ],
   "source": [
    "tree /etc/apt/sources.list.d"
   ]
  },
  {
   "cell_type": "code",
   "execution_count": 17,
   "metadata": {},
   "outputs": [
    {
     "name": "stdout",
     "output_type": "stream",
     "text": [
      "deb http://mirrordirector.raspbian.org/raspbian stretch main contrib non-free firmware\n",
      "deb [arch=armhf] https://download.docker.com/linux/debian stretch stable\n",
      "deb https://deb.nodesource.com/node_6.x stretch main\n",
      "deb-src https://deb.nodesource.com/node_6.x stretch main\n",
      "deb http://archive.raspberrypi.org/debian stretch main\n"
     ]
    }
   ],
   "source": [
    "cat /etc/apt/sources.list /etc/apt/sources.list.d/*"
   ]
  },
  {
   "cell_type": "code",
   "execution_count": null,
   "metadata": {},
   "outputs": [],
   "source": []
  }
 ],
 "metadata": {
  "kernelspec": {
   "display_name": "Bash",
   "language": "bash",
   "name": "bash"
  },
  "language_info": {
   "codemirror_mode": "shell",
   "file_extension": ".sh",
   "mimetype": "text/x-sh",
   "name": "bash"
  }
 },
 "nbformat": 4,
 "nbformat_minor": 2
}
